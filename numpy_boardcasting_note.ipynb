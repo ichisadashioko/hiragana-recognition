{
 "cells": [
  {
   "cell_type": "code",
   "execution_count": 25,
   "metadata": {},
   "outputs": [],
   "source": [
    "import os\n",
    "import math\n",
    "import numpy as np\n",
    "import matplotlib.pyplot as plt"
   ]
  },
  {
   "cell_type": "code",
   "execution_count": 37,
   "metadata": {},
   "outputs": [
    {
     "data": {
      "text/plain": [
       "(384, 512)"
      ]
     },
     "execution_count": 37,
     "metadata": {},
     "output_type": "execute_result"
    }
   ],
   "source": [
    "num_rows = 8\n",
    "num_cols = 6\n",
    "image_width = 64\n",
    "image_height = 64\n",
    "canvas_width = num_rows * image_width\n",
    "canvas_height = num_cols * image_height\n",
    "\n",
    "canvas = np.zeros(shape=(canvas_height, canvas_width), dtype=np.uint8)\n",
    "canvas.shape"
   ]
  },
  {
   "cell_type": "code",
   "execution_count": 42,
   "metadata": {},
   "outputs": [
    {
     "name": "stdout",
     "output_type": "stream",
     "text": [
      "i:  0, row_num: 0, col_num: 0, left:   0, right:  64, top:   0, bottom:  64, access_str: [  0: 64,   0: 64], tmp.shape: (64, 64), canvas.shape: (384, 512), (i % num_rows): 0, (i / num_cols): 0.0\n",
      "i:  1, row_num: 1, col_num: 0, left:  64, right: 128, top:   0, bottom:  64, access_str: [  0: 64,  64:128], tmp.shape: (64, 64), canvas.shape: (384, 512), (i % num_rows): 1, (i / num_cols): 0.16666666666666666\n",
      "i:  2, row_num: 2, col_num: 0, left: 128, right: 192, top:   0, bottom:  64, access_str: [  0: 64, 128:192], tmp.shape: (64, 64), canvas.shape: (384, 512), (i % num_rows): 2, (i / num_cols): 0.3333333333333333\n",
      "i:  3, row_num: 3, col_num: 0, left: 192, right: 256, top:   0, bottom:  64, access_str: [  0: 64, 192:256], tmp.shape: (64, 64), canvas.shape: (384, 512), (i % num_rows): 3, (i / num_cols): 0.5\n",
      "i:  4, row_num: 4, col_num: 0, left: 256, right: 320, top:   0, bottom:  64, access_str: [  0: 64, 256:320], tmp.shape: (64, 64), canvas.shape: (384, 512), (i % num_rows): 4, (i / num_cols): 0.6666666666666666\n",
      "i:  5, row_num: 5, col_num: 0, left: 320, right: 384, top:   0, bottom:  64, access_str: [  0: 64, 320:384], tmp.shape: (64, 64), canvas.shape: (384, 512), (i % num_rows): 5, (i / num_cols): 0.8333333333333334\n",
      "i:  6, row_num: 6, col_num: 0, left: 384, right: 448, top:   0, bottom:  64, access_str: [  0: 64, 384:448], tmp.shape: (64, 64), canvas.shape: (384, 512), (i % num_rows): 6, (i / num_cols): 1.0\n",
      "i:  7, row_num: 7, col_num: 0, left: 448, right: 512, top:   0, bottom:  64, access_str: [  0: 64, 448:512], tmp.shape: (64, 64), canvas.shape: (384, 512), (i % num_rows): 7, (i / num_cols): 1.1666666666666667\n",
      "i:  8, row_num: 0, col_num: 1, left:   0, right:  64, top:  64, bottom: 128, access_str: [ 64:128,   0: 64], tmp.shape: (64, 64), canvas.shape: (384, 512), (i % num_rows): 0, (i / num_cols): 1.3333333333333333\n",
      "i:  9, row_num: 1, col_num: 1, left:  64, right: 128, top:  64, bottom: 128, access_str: [ 64:128,  64:128], tmp.shape: (64, 64), canvas.shape: (384, 512), (i % num_rows): 1, (i / num_cols): 1.5\n",
      "i: 10, row_num: 2, col_num: 1, left: 128, right: 192, top:  64, bottom: 128, access_str: [ 64:128, 128:192], tmp.shape: (64, 64), canvas.shape: (384, 512), (i % num_rows): 2, (i / num_cols): 1.6666666666666667\n",
      "i: 11, row_num: 3, col_num: 1, left: 192, right: 256, top:  64, bottom: 128, access_str: [ 64:128, 192:256], tmp.shape: (64, 64), canvas.shape: (384, 512), (i % num_rows): 3, (i / num_cols): 1.8333333333333333\n",
      "i: 12, row_num: 4, col_num: 1, left: 256, right: 320, top:  64, bottom: 128, access_str: [ 64:128, 256:320], tmp.shape: (64, 64), canvas.shape: (384, 512), (i % num_rows): 4, (i / num_cols): 2.0\n",
      "i: 13, row_num: 5, col_num: 1, left: 320, right: 384, top:  64, bottom: 128, access_str: [ 64:128, 320:384], tmp.shape: (64, 64), canvas.shape: (384, 512), (i % num_rows): 5, (i / num_cols): 2.1666666666666665\n",
      "i: 14, row_num: 6, col_num: 1, left: 384, right: 448, top:  64, bottom: 128, access_str: [ 64:128, 384:448], tmp.shape: (64, 64), canvas.shape: (384, 512), (i % num_rows): 6, (i / num_cols): 2.3333333333333335\n",
      "i: 15, row_num: 7, col_num: 1, left: 448, right: 512, top:  64, bottom: 128, access_str: [ 64:128, 448:512], tmp.shape: (64, 64), canvas.shape: (384, 512), (i % num_rows): 7, (i / num_cols): 2.5\n",
      "i: 16, row_num: 0, col_num: 2, left:   0, right:  64, top: 128, bottom: 192, access_str: [128:192,   0: 64], tmp.shape: (64, 64), canvas.shape: (384, 512), (i % num_rows): 0, (i / num_cols): 2.6666666666666665\n",
      "i: 17, row_num: 1, col_num: 2, left:  64, right: 128, top: 128, bottom: 192, access_str: [128:192,  64:128], tmp.shape: (64, 64), canvas.shape: (384, 512), (i % num_rows): 1, (i / num_cols): 2.8333333333333335\n",
      "i: 18, row_num: 2, col_num: 2, left: 128, right: 192, top: 128, bottom: 192, access_str: [128:192, 128:192], tmp.shape: (64, 64), canvas.shape: (384, 512), (i % num_rows): 2, (i / num_cols): 3.0\n",
      "i: 19, row_num: 3, col_num: 2, left: 192, right: 256, top: 128, bottom: 192, access_str: [128:192, 192:256], tmp.shape: (64, 64), canvas.shape: (384, 512), (i % num_rows): 3, (i / num_cols): 3.1666666666666665\n",
      "i: 20, row_num: 4, col_num: 2, left: 256, right: 320, top: 128, bottom: 192, access_str: [128:192, 256:320], tmp.shape: (64, 64), canvas.shape: (384, 512), (i % num_rows): 4, (i / num_cols): 3.3333333333333335\n",
      "i: 21, row_num: 5, col_num: 2, left: 320, right: 384, top: 128, bottom: 192, access_str: [128:192, 320:384], tmp.shape: (64, 64), canvas.shape: (384, 512), (i % num_rows): 5, (i / num_cols): 3.5\n",
      "i: 22, row_num: 6, col_num: 2, left: 384, right: 448, top: 128, bottom: 192, access_str: [128:192, 384:448], tmp.shape: (64, 64), canvas.shape: (384, 512), (i % num_rows): 6, (i / num_cols): 3.6666666666666665\n",
      "i: 23, row_num: 7, col_num: 2, left: 448, right: 512, top: 128, bottom: 192, access_str: [128:192, 448:512], tmp.shape: (64, 64), canvas.shape: (384, 512), (i % num_rows): 7, (i / num_cols): 3.8333333333333335\n",
      "i: 24, row_num: 0, col_num: 3, left:   0, right:  64, top: 192, bottom: 256, access_str: [192:256,   0: 64], tmp.shape: (64, 64), canvas.shape: (384, 512), (i % num_rows): 0, (i / num_cols): 4.0\n",
      "i: 25, row_num: 1, col_num: 3, left:  64, right: 128, top: 192, bottom: 256, access_str: [192:256,  64:128], tmp.shape: (64, 64), canvas.shape: (384, 512), (i % num_rows): 1, (i / num_cols): 4.166666666666667\n",
      "i: 26, row_num: 2, col_num: 3, left: 128, right: 192, top: 192, bottom: 256, access_str: [192:256, 128:192], tmp.shape: (64, 64), canvas.shape: (384, 512), (i % num_rows): 2, (i / num_cols): 4.333333333333333\n",
      "i: 27, row_num: 3, col_num: 3, left: 192, right: 256, top: 192, bottom: 256, access_str: [192:256, 192:256], tmp.shape: (64, 64), canvas.shape: (384, 512), (i % num_rows): 3, (i / num_cols): 4.5\n",
      "i: 28, row_num: 4, col_num: 3, left: 256, right: 320, top: 192, bottom: 256, access_str: [192:256, 256:320], tmp.shape: (64, 64), canvas.shape: (384, 512), (i % num_rows): 4, (i / num_cols): 4.666666666666667\n",
      "i: 29, row_num: 5, col_num: 3, left: 320, right: 384, top: 192, bottom: 256, access_str: [192:256, 320:384], tmp.shape: (64, 64), canvas.shape: (384, 512), (i % num_rows): 5, (i / num_cols): 4.833333333333333\n",
      "i: 30, row_num: 6, col_num: 3, left: 384, right: 448, top: 192, bottom: 256, access_str: [192:256, 384:448], tmp.shape: (64, 64), canvas.shape: (384, 512), (i % num_rows): 6, (i / num_cols): 5.0\n",
      "i: 31, row_num: 7, col_num: 3, left: 448, right: 512, top: 192, bottom: 256, access_str: [192:256, 448:512], tmp.shape: (64, 64), canvas.shape: (384, 512), (i % num_rows): 7, (i / num_cols): 5.166666666666667\n",
      "i: 32, row_num: 0, col_num: 4, left:   0, right:  64, top: 256, bottom: 320, access_str: [256:320,   0: 64], tmp.shape: (64, 64), canvas.shape: (384, 512), (i % num_rows): 0, (i / num_cols): 5.333333333333333\n",
      "i: 33, row_num: 1, col_num: 4, left:  64, right: 128, top: 256, bottom: 320, access_str: [256:320,  64:128], tmp.shape: (64, 64), canvas.shape: (384, 512), (i % num_rows): 1, (i / num_cols): 5.5\n",
      "i: 34, row_num: 2, col_num: 4, left: 128, right: 192, top: 256, bottom: 320, access_str: [256:320, 128:192], tmp.shape: (64, 64), canvas.shape: (384, 512), (i % num_rows): 2, (i / num_cols): 5.666666666666667\n",
      "i: 35, row_num: 3, col_num: 4, left: 192, right: 256, top: 256, bottom: 320, access_str: [256:320, 192:256], tmp.shape: (64, 64), canvas.shape: (384, 512), (i % num_rows): 3, (i / num_cols): 5.833333333333333\n",
      "i: 36, row_num: 4, col_num: 4, left: 256, right: 320, top: 256, bottom: 320, access_str: [256:320, 256:320], tmp.shape: (64, 64), canvas.shape: (384, 512), (i % num_rows): 4, (i / num_cols): 6.0\n",
      "i: 37, row_num: 5, col_num: 4, left: 320, right: 384, top: 256, bottom: 320, access_str: [256:320, 320:384], tmp.shape: (64, 64), canvas.shape: (384, 512), (i % num_rows): 5, (i / num_cols): 6.166666666666667\n",
      "i: 38, row_num: 6, col_num: 4, left: 384, right: 448, top: 256, bottom: 320, access_str: [256:320, 384:448], tmp.shape: (64, 64), canvas.shape: (384, 512), (i % num_rows): 6, (i / num_cols): 6.333333333333333\n",
      "i: 39, row_num: 7, col_num: 4, left: 448, right: 512, top: 256, bottom: 320, access_str: [256:320, 448:512], tmp.shape: (64, 64), canvas.shape: (384, 512), (i % num_rows): 7, (i / num_cols): 6.5\n",
      "i: 40, row_num: 0, col_num: 5, left:   0, right:  64, top: 320, bottom: 384, access_str: [320:384,   0: 64], tmp.shape: (64, 64), canvas.shape: (384, 512), (i % num_rows): 0, (i / num_cols): 6.666666666666667\n",
      "i: 41, row_num: 1, col_num: 5, left:  64, right: 128, top: 320, bottom: 384, access_str: [320:384,  64:128], tmp.shape: (64, 64), canvas.shape: (384, 512), (i % num_rows): 1, (i / num_cols): 6.833333333333333\n"
     ]
    }
   ],
   "source": [
    "for i in range(42):\n",
    "    row_num = i % num_rows\n",
    "#     col_num = math.floor((i - row_num) / num_rows)\n",
    "    col_num = math.floor(i / num_rows)\n",
    "    \n",
    "    left = row_num * image_width\n",
    "    right = (row_num + 1) * image_width\n",
    "    top  = col_num * image_height\n",
    "    bottom = (col_num + 1) * image_height\n",
    "    \n",
    "    tmp = canvas[top:bottom, left:right]\n",
    "    print(\n",
    "        f'i: {i:>2}, '\n",
    "        f'row_num: {row_num}, '\n",
    "        f'col_num: {col_num}, '\n",
    "        f'left: {left:>3}, '\n",
    "        f'right: {right:>3}, '\n",
    "        f'top: {top:>3}, '\n",
    "        f'bottom: {bottom:>3}, '\n",
    "        f'access_str: [{top:>3}:{bottom:>3}, {left:>3}:{right:>3}], '\n",
    "        f'tmp.shape: {repr(tmp.shape):>8}, '\n",
    "        f'canvas.shape: {repr(canvas.shape):>10}, '\n",
    "        f'(i % num_rows): {i % num_rows}, '\n",
    "        f'(i / num_cols): {i / num_cols}'\n",
    "    )"
   ]
  },
  {
   "cell_type": "code",
   "execution_count": 39,
   "metadata": {},
   "outputs": [
    {
     "data": {
      "text/plain": [
       "(384, 512)"
      ]
     },
     "execution_count": 39,
     "metadata": {},
     "output_type": "execute_result"
    }
   ],
   "source": [
    "canvas.shape"
   ]
  },
  {
   "cell_type": "code",
   "execution_count": null,
   "metadata": {},
   "outputs": [],
   "source": [
    "canvas"
   ]
  },
  {
   "cell_type": "code",
   "execution_count": 19,
   "metadata": {},
   "outputs": [
    {
     "data": {
      "text/plain": [
       "<matplotlib.image.AxesImage at 0x1ab03665f08>"
      ]
     },
     "execution_count": 19,
     "metadata": {},
     "output_type": "execute_result"
    },
    {
     "data": {
      "image/png": "[encoded data removed]",
      "text/plain": [
       "<Figure size 432x288 with 1 Axes>"
      ]
     },
     "metadata": {
      "needs_background": "light"
     },
     "output_type": "display_data"
    }
   ],
   "source": [
    "plt.imshow(canvas, cmap='gray')"
   ]
  },
  {
   "cell_type": "code",
   "execution_count": 13,
   "metadata": {},
   "outputs": [],
   "source": [
    "for i in range(canvas_height):\n",
    "    for j in range(canvas_width):\n",
    "        if (i % 2) == 0:\n",
    "            if (j % 2) == 0:\n",
    "                canvas[i,j] = 255\n",
    "                #print(i, j)\n",
    "        else:\n",
    "            if (j % 2) != 0:\n",
    "                canvas[i,j] = 255\n",
    "                #print(i, j)"
   ]
  },
  {
   "cell_type": "code",
   "execution_count": 15,
   "metadata": {},
   "outputs": [
    {
     "data": {
      "text/plain": [
       "<matplotlib.image.AxesImage at 0x1ab035424c8>"
      ]
     },
     "execution_count": 15,
     "metadata": {},
     "output_type": "execute_result"
    },
    {
     "data": {
      "image/png": "[encoded data removed]",
      "text/plain": [
       "<Figure size 432x288 with 1 Axes>"
      ]
     },
     "metadata": {
      "needs_background": "light"
     },
     "output_type": "display_data"
    }
   ],
   "source": [
    "plt.imshow(canvas, cmap='gray')"
   ]
  },
  {
   "cell_type": "code",
   "execution_count": 20,
   "metadata": {
    "scrolled": false
   },
   "outputs": [
    {
     "data": {
      "text/plain": [
       "<matplotlib.image.AxesImage at 0x1ab036cf848>"
      ]
     },
     "execution_count": 20,
     "metadata": {},
     "output_type": "execute_result"
    },
    {
     "data": {
      "image/png": "[encoded data removed]",
      "text/plain": [
       "<Figure size 432x288 with 1 Axes>"
      ]
     },
     "metadata": {
      "needs_background": "light"
     },
     "output_type": "display_data"
    }
   ],
   "source": [
    "pattern_width = 16\n",
    "pattern_height = 16\n",
    "pattern_rows = int(canvas_width / pattern_width)\n",
    "pattern_cols = int(canvas_height / pattern_height)\n",
    "\n",
    "for col in range(pattern_cols):\n",
    "    for row in range(pattern_rows):\n",
    "        left = row * pattern_width\n",
    "        right = (row + 1) * pattern_width\n",
    "        top = col * pattern_height\n",
    "        bottom = (col + 1) * pattern_height\n",
    "        tmp = canvas[top:bottom, left:right]\n",
    "        if col % 2:\n",
    "            if row % 2:\n",
    "                tmp.fill(255)\n",
    "        else:\n",
    "            if not (row % 2):\n",
    "                tmp.fill(255)\n",
    "#         print({\n",
    "#             'col': col,\n",
    "#             'row': row,\n",
    "#             'left': left,\n",
    "#             'right': right,\n",
    "#             'top': top,\n",
    "#             'bottom': bottom,\n",
    "#             'tmp.shape': tmp.shape,\n",
    "#         })\n",
    "\n",
    "plt.imshow(canvas, cmap='gray')"
   ]
  },
  {
   "cell_type": "code",
   "execution_count": 21,
   "metadata": {},
   "outputs": [],
   "source": [
    "import math"
   ]
  },
  {
   "cell_type": "code",
   "execution_count": 23,
   "metadata": {},
   "outputs": [
    {
     "name": "stdout",
     "output_type": "stream",
     "text": [
      "0 0 0\n",
      "1 1 0\n",
      "2 2 0\n",
      "3 3 0\n",
      "4 4 0\n",
      "5 5 0\n",
      "6 6 0\n",
      "7 7 1\n",
      "8 8 1\n",
      "9 9 1\n",
      "10 0 1\n",
      "11 1 1\n",
      "12 2 1\n",
      "13 3 1\n",
      "14 4 2\n",
      "15 5 2\n",
      "16 6 2\n",
      "17 7 2\n",
      "18 8 2\n",
      "19 9 2\n",
      "20 0 2\n",
      "21 1 3\n",
      "22 2 3\n",
      "23 3 3\n",
      "24 4 3\n",
      "25 5 3\n",
      "26 6 3\n",
      "27 7 3\n",
      "28 8 4\n",
      "29 9 4\n",
      "30 0 4\n",
      "31 1 4\n",
      "32 2 4\n",
      "33 3 4\n",
      "34 4 4\n",
      "35 5 5\n",
      "36 6 5\n",
      "37 7 5\n",
      "38 8 5\n",
      "39 9 5\n",
      "40 0 5\n",
      "41 1 5\n",
      "42 2 6\n",
      "43 3 6\n",
      "44 4 6\n",
      "45 5 6\n",
      "46 6 6\n",
      "47 7 6\n",
      "48 8 6\n",
      "49 9 7\n"
     ]
    }
   ],
   "source": [
    "\n",
    "\n",
    "num_rows = 10\n",
    "num_cols = 7\n",
    "\n",
    "for i in range(50):\n",
    "    row_num = i % num_rows\n",
    "    col_num = math.floor(i / num_cols)\n",
    "    print(i, row_num, col_num)"
   ]
  }
 ],
 "metadata": {
  "kernelspec": {
   "display_name": "Python 3",
   "language": "python",
   "name": "python3"
  },
  "language_info": {
   "codemirror_mode": {
    "name": "ipython",
    "version": 3
   },
   "file_extension": ".py",
   "mimetype": "text/x-python",
   "name": "python",
   "nbconvert_exporter": "python",
   "pygments_lexer": "ipython3",
   "version": "3.7.6"
  }
 },
 "nbformat": 4,
 "nbformat_minor": 4
}
