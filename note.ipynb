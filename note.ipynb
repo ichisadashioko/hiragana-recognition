{
 "cells": [
  {
   "cell_type": "code",
   "execution_count": 1,
   "metadata": {},
   "outputs": [],
   "source": [
    "# encoding=utf-8\n",
    "import os\n",
    "import time\n",
    "import re\n",
    "import unicodedata\n",
    "import traceback\n",
    "import warnings\n",
    "from typing import Callable\n",
    "import importlib\n",
    "\n",
    "from tqdm import tqdm\n",
    "from PIL import Image, ImageFont, ImageDraw\n",
    "import numpy as np\n",
    "import pandas as pd\n",
    "import matplotlib.pyplot as plt\n",
    "from fontTools.ttLib import TTFont"
   ]
  },
  {
   "cell_type": "code",
   "execution_count": 2,
   "metadata": {},
   "outputs": [],
   "source": [
    "from constants import *\n",
    "from logger import *\n",
    "\n",
    "import utils\n",
    "importlib.reload(utils)\n",
    "\n",
    "from utils import *"
   ]
  },
  {
   "cell_type": "code",
   "execution_count": 3,
   "metadata": {},
   "outputs": [
    {
     "data": {
      "text/plain": [
       "True"
      ]
     },
     "execution_count": 3,
     "metadata": {},
     "output_type": "execute_result"
    }
   ],
   "source": [
    "fonts_dir = 'fonts'\n",
    "font_size = 64\n",
    "os.path.exists(fonts_dir)"
   ]
  },
  {
   "cell_type": "code",
   "execution_count": 4,
   "metadata": {},
   "outputs": [
    {
     "name": "stderr",
     "output_type": "stream",
     "text": [
      "d:\\python\\python37\\lib\\site-packages\\ipykernel_launcher.py:17: UserWarning: Skipping unknown file type fonts\\readme.txt!\n"
     ]
    }
   ],
   "source": [
    "font_list = []\n",
    "file_list = os.listdir(fonts_dir)\n",
    "for filename in file_list:\n",
    "    child_path = os.path.join(fonts_dir, filename)\n",
    "\n",
    "    if not os.path.isfile(child_path):\n",
    "        warnings.warn(f'Skipping directory {child_path}!')\n",
    "        continue\n",
    "\n",
    "    file_ext = os.path.splitext(filename)[1]\n",
    "    file_ext = file_ext.lower()\n",
    "\n",
    "    if (file_ext == '.ttf') or (file_ext == '.otf'):\n",
    "        font = fetch_font(child_path, font_size=font_size)\n",
    "        font_list.append(font)\n",
    "    else:\n",
    "        warnings.warn(f'Skipping unknown file type {child_path}!')\n",
    "        continue"
   ]
  },
  {
   "cell_type": "code",
   "execution_count": 5,
   "metadata": {
    "scrolled": true
   },
   "outputs": [],
   "source": [
    "# font_list"
   ]
  },
  {
   "cell_type": "code",
   "execution_count": 6,
   "metadata": {},
   "outputs": [],
   "source": [
    "font = font_list[0]\n",
    "# font"
   ]
  },
  {
   "cell_type": "code",
   "execution_count": 7,
   "metadata": {},
   "outputs": [],
   "source": [
    "image_size = 64"
   ]
  },
  {
   "cell_type": "code",
   "execution_count": 8,
   "metadata": {},
   "outputs": [
    {
     "data": {
      "text/plain": [
       "128"
      ]
     },
     "execution_count": 8,
     "metadata": {},
     "output_type": "execute_result"
    }
   ],
   "source": [
    "canvas_size = int(max(font.size*2, image_size))\n",
    "canvas_size"
   ]
  },
  {
   "cell_type": "code",
   "execution_count": 9,
   "metadata": {},
   "outputs": [],
   "source": [
    "canvas = Image.new('L', (canvas_size, canvas_size), color=0)\n",
    "ctx = ImageDraw.Draw(canvas)"
   ]
  },
  {
   "cell_type": "code",
   "execution_count": 10,
   "metadata": {},
   "outputs": [
    {
     "data": {
      "text/plain": [
       "(32.0, 32.0)"
      ]
     },
     "execution_count": 10,
     "metadata": {},
     "output_type": "execute_result"
    }
   ],
   "source": [
    "char_x = (canvas_size - font.size) / 2\n",
    "char_y = (canvas_size - font.size) / 2\n",
    "char_origin_pos = (char_x, char_y)\n",
    "char_origin_pos"
   ]
  },
  {
   "cell_type": "code",
   "execution_count": 11,
   "metadata": {},
   "outputs": [],
   "source": [
    "c = 'あ'"
   ]
  },
  {
   "cell_type": "code",
   "execution_count": 12,
   "metadata": {},
   "outputs": [],
   "source": [
    "ctx.text(\n",
    "    xy=char_origin_pos,\n",
    "    text=c,\n",
    "    fill=255,\n",
    "    font=font.font,\n",
    ")"
   ]
  },
  {
   "cell_type": "code",
   "execution_count": 13,
   "metadata": {},
   "outputs": [
    {
     "data": {
      "text/plain": [
       "PIL.Image.Image"
      ]
     },
     "execution_count": 13,
     "metadata": {},
     "output_type": "execute_result"
    }
   ],
   "source": [
    "type(canvas)"
   ]
  },
  {
   "cell_type": "code",
   "execution_count": 14,
   "metadata": {},
   "outputs": [],
   "source": [
    "canvas.save('sample_a.png', format='PNG')"
   ]
  },
  {
   "cell_type": "code",
   "execution_count": 15,
   "metadata": {},
   "outputs": [
    {
     "data": {
      "text/plain": [
       "(128, 128)"
      ]
     },
     "execution_count": 15,
     "metadata": {},
     "output_type": "execute_result"
    }
   ],
   "source": [
    "np_img = np.asarray(canvas, dtype=np.uint8)\n",
    "np_img.shape"
   ]
  },
  {
   "cell_type": "code",
   "execution_count": 16,
   "metadata": {},
   "outputs": [
    {
     "data": {
      "text/plain": [
       "<matplotlib.image.AxesImage at 0x7fe53d800898>"
      ]
     },
     "execution_count": 16,
     "metadata": {},
     "output_type": "execute_result"
    },
    {
     "data": {
      "image/png": "[encoded data removed]",
      "text/plain": [
       "<Figure size 432x288 with 1 Axes>"
      ]
     },
     "metadata": {
      "needs_background": "light"
     },
     "output_type": "display_data"
    }
   ],
   "source": [
    "plt.imshow(np_img)"
   ]
  },
  {
   "cell_type": "code",
   "execution_count": 17,
   "metadata": {},
   "outputs": [
    {
     "data": {
      "text/plain": [
       "tuple"
      ]
     },
     "execution_count": 17,
     "metadata": {},
     "output_type": "execute_result"
    }
   ],
   "source": [
    "non_zeros_indices = np_img.nonzero()\n",
    "type(non_zeros_indices)"
   ]
  },
  {
   "cell_type": "code",
   "execution_count": 18,
   "metadata": {},
   "outputs": [
    {
     "data": {
      "text/plain": [
       "2"
      ]
     },
     "execution_count": 18,
     "metadata": {},
     "output_type": "execute_result"
    }
   ],
   "source": [
    "len(non_zeros_indices)"
   ]
  },
  {
   "cell_type": "code",
   "execution_count": 19,
   "metadata": {},
   "outputs": [
    {
     "data": {
      "text/plain": [
       "1640"
      ]
     },
     "execution_count": 19,
     "metadata": {},
     "output_type": "execute_result"
    }
   ],
   "source": [
    "len(non_zeros_indices[0])"
   ]
  },
  {
   "cell_type": "code",
   "execution_count": 20,
   "metadata": {},
   "outputs": [
    {
     "data": {
      "text/plain": [
       "1640"
      ]
     },
     "execution_count": 20,
     "metadata": {},
     "output_type": "execute_result"
    }
   ],
   "source": [
    "len(non_zeros_indices[1])"
   ]
  },
  {
   "cell_type": "code",
   "execution_count": 21,
   "metadata": {},
   "outputs": [
    {
     "data": {
      "text/plain": [
       "(array([33, 33, 33, ..., 89, 89, 89]), array([56, 57, 58, ..., 54, 55, 56]))"
      ]
     },
     "execution_count": 21,
     "metadata": {},
     "output_type": "execute_result"
    }
   ],
   "source": [
    "non_zeros_indices"
   ]
  },
  {
   "cell_type": "code",
   "execution_count": 22,
   "metadata": {},
   "outputs": [
    {
     "data": {
      "text/plain": [
       "(37, 91, 33, 89, 54, 56)"
      ]
     },
     "execution_count": 22,
     "metadata": {},
     "output_type": "execute_result"
    }
   ],
   "source": [
    "zero_ys, zero_xs = np_img.nonzero()[:2]  # `[:2]` just to be safe\n",
    "\n",
    "min_x, max_x = min(zero_xs), max(zero_xs)\n",
    "min_y, max_y = min(zero_ys), max(zero_ys)\n",
    "\n",
    "# the character dimensions is caculated based on the nonzero pixels\n",
    "character_width = max_x - min_x\n",
    "character_height = max_y - min_y\n",
    "\n",
    "min_x, max_x, min_y, max_y, character_width, character_height"
   ]
  },
  {
   "cell_type": "code",
   "execution_count": 23,
   "metadata": {},
   "outputs": [
    {
     "data": {
      "text/plain": [
       "(128, 128, 3)"
      ]
     },
     "execution_count": 23,
     "metadata": {},
     "output_type": "execute_result"
    }
   ],
   "source": [
    "rgb_canvas = np.stack((np_img,)*3, axis=-1)\n",
    "rgb_canvas.shape"
   ]
  },
  {
   "cell_type": "code",
   "execution_count": 24,
   "metadata": {},
   "outputs": [
    {
     "data": {
      "image/png": "[encoded data removed]",
      "text/plain": [
       "<PIL.Image.Image image mode=RGB size=128x128 at 0x7FE53D075828>"
      ]
     },
     "execution_count": 24,
     "metadata": {},
     "output_type": "execute_result"
    }
   ],
   "source": [
    "pil_image = Image.fromarray(rgb_canvas)\n",
    "draw_obj = ImageDraw.Draw(pil_image)\n",
    "\n",
    "draw_obj.rectangle(\n",
    "    xy=[(min_x, min_y), (max_x, max_y)],\n",
    "    outline=(0,255,0),\n",
    "    width=1,\n",
    ")\n",
    "\n",
    "pil_image"
   ]
  },
  {
   "cell_type": "code",
   "execution_count": 25,
   "metadata": {},
   "outputs": [],
   "source": [
    "pil_image.save('sample_a_with_bounding_box.png', format='PNG')"
   ]
  },
  {
   "cell_type": "code",
   "execution_count": 26,
   "metadata": {},
   "outputs": [
    {
     "data": {
      "text/plain": [
       "64"
      ]
     },
     "execution_count": 26,
     "metadata": {},
     "output_type": "execute_result"
    }
   ],
   "source": [
    "canvas_size - image_size"
   ]
  },
  {
   "cell_type": "code",
   "execution_count": 27,
   "metadata": {},
   "outputs": [
    {
     "name": "stdout",
     "output_type": "stream",
     "text": [
      "32 29\n"
     ]
    },
    {
     "data": {
      "image/png": "[encoded data removed]",
      "text/plain": [
       "<PIL.Image.Image image mode=RGB size=128x128 at 0x7FE53D075828>"
      ]
     },
     "execution_count": 27,
     "metadata": {},
     "output_type": "execute_result"
    }
   ],
   "source": [
    "image_offset_top = min_y - int((image_size - character_height)/2)\n",
    "image_offset_left = min_x - int((image_size - character_width)/2)\n",
    "\n",
    "print(image_offset_left, image_offset_top)\n",
    "\n",
    "draw_obj.rectangle(\n",
    "    xy=[(image_offset_left, image_offset_top), (image_offset_left+image_size, image_offset_top+image_size)],\n",
    "    outline=(0,0,255),\n",
    "    width=1,\n",
    ")\n",
    "\n",
    "pil_image"
   ]
  },
  {
   "cell_type": "code",
   "execution_count": 28,
   "metadata": {},
   "outputs": [],
   "source": [
    "pil_image.save('sample_a_with_bounding_boxes_for_exporting_image.png', 'PNG')"
   ]
  },
  {
   "cell_type": "code",
   "execution_count": 29,
   "metadata": {
    "scrolled": true
   },
   "outputs": [
    {
     "name": "stdout",
     "output_type": "stream",
     "text": [
      "48.0 45.0\n"
     ]
    },
    {
     "data": {
      "image/png": "[encoded data removed]",
      "text/plain": [
       "<PIL.Image.Image image mode=RGB size=128x128 at 0x7FE53D075828>"
      ]
     },
     "execution_count": 29,
     "metadata": {},
     "output_type": "execute_result"
    }
   ],
   "source": [
    "# experiment with image size smaller than font size\n",
    "image_size = 32\n",
    "image_offset_top = min_y - (image_size - character_height)/2\n",
    "image_offset_left = min_x - (image_size - character_width)/2\n",
    "\n",
    "print(image_offset_left, image_offset_top)\n",
    "\n",
    "draw_obj.rectangle(\n",
    "    xy=[(image_offset_left, image_offset_top), (image_offset_left+image_size, image_offset_top+image_size)],\n",
    "    outline=(255,0,0),\n",
    "    width=1,\n",
    ")\n",
    "\n",
    "pil_image"
   ]
  },
  {
   "cell_type": "code",
   "execution_count": 30,
   "metadata": {},
   "outputs": [
    {
     "data": {
      "text/plain": [
       "['1586795381.2372532-runtime.log',\n",
       " '1586661863.311972-runtime.log',\n",
       " '1586662042.1526327-runtime.log',\n",
       " '1586662082.3868406-runtime.log',\n",
       " '1586662097.7665117-runtime.log',\n",
       " '1586676971.023995-runtime.log',\n",
       " '1586677160.823435-runtime.log',\n",
       " '1586691725.5852675-runtime.log',\n",
       " '1586691782.888618-runtime.log',\n",
       " '1586791139.7935503-runtime.log',\n",
       " '1586791220.6789849-runtime.log',\n",
       " '1586791258.085564-runtime.log',\n",
       " '1586791294.405975-runtime.log',\n",
       " '1586791367.6133404-runtime.log',\n",
       " '1586795362.6864376-runtime.log',\n",
       " '1586825108.9177797-runtime.log',\n",
       " '1586825384.5339162-runtime.log',\n",
       " '1586874051.136705-runtime.log',\n",
       " '1586882136.4589186-runtime.log',\n",
       " '1586882212.1387413-runtime.log',\n",
       " '1586970239-runtime.log',\n",
       " '1586970410-runtime.log',\n",
       " '1586970539-runtime.log',\n",
       " '1586970605-runtime.log',\n",
       " '1586970646-runtime.log',\n",
       " '1586971393-runtime.log',\n",
       " '1586971453-runtime.log',\n",
       " '1586972257-runtime.log',\n",
       " '1586976399-runtime.log',\n",
       " '1587139306-runtime.log',\n",
       " '1587139825-runtime.log',\n",
       " '1587171989-runtime.log',\n",
       " '1587172438-runtime.log',\n",
       " '1587172492-runtime.log']"
      ]
     },
     "execution_count": 30,
     "metadata": {},
     "output_type": "execute_result"
    }
   ],
   "source": [
    "file_list = os.listdir(LOG_DIRECTORY)\n",
    "file_list"
   ]
  },
  {
   "cell_type": "code",
   "execution_count": 31,
   "metadata": {},
   "outputs": [],
   "source": [
    "from profiler import LogFile"
   ]
  },
  {
   "cell_type": "code",
   "execution_count": 32,
   "metadata": {},
   "outputs": [
    {
     "name": "stdout",
     "output_type": "stream",
     "text": [
      "[\u001b[93mWARNING\u001b[0m] Skipping log/1586795381.2372532-runtime.log! Unsupported format!\n",
      "[\u001b[93mWARNING\u001b[0m] Skipping log/1586661863.311972-runtime.log! Unsupported format!\n",
      "[\u001b[93mWARNING\u001b[0m] Skipping log/1586662042.1526327-runtime.log! Unsupported format!\n",
      "[\u001b[93mWARNING\u001b[0m] Skipping log/1586662082.3868406-runtime.log! Unsupported format!\n",
      "[\u001b[93mWARNING\u001b[0m] Skipping log/1586662097.7665117-runtime.log! Unsupported format!\n",
      "[\u001b[93mWARNING\u001b[0m] Skipping log/1586676971.023995-runtime.log! Unsupported format!\n",
      "[\u001b[93mWARNING\u001b[0m] Skipping log/1586677160.823435-runtime.log! Unsupported format!\n",
      "[\u001b[93mWARNING\u001b[0m] Skipping log/1586691725.5852675-runtime.log! Unsupported format!\n",
      "[\u001b[93mWARNING\u001b[0m] Skipping log/1586691782.888618-runtime.log! Unsupported format!\n",
      "[\u001b[93mWARNING\u001b[0m] Skipping log/1586791139.7935503-runtime.log! Unsupported format!\n",
      "[\u001b[93mWARNING\u001b[0m] Skipping log/1586791220.6789849-runtime.log! Unsupported format!\n",
      "[\u001b[93mWARNING\u001b[0m] Skipping log/1586791258.085564-runtime.log! Unsupported format!\n",
      "[\u001b[93mWARNING\u001b[0m] Skipping log/1586791294.405975-runtime.log! Unsupported format!\n",
      "[\u001b[93mWARNING\u001b[0m] Skipping log/1586791367.6133404-runtime.log! Unsupported format!\n",
      "[\u001b[93mWARNING\u001b[0m] Skipping log/1586795362.6864376-runtime.log! Unsupported format!\n",
      "[\u001b[93mWARNING\u001b[0m] Skipping log/1586825108.9177797-runtime.log! Unsupported format!\n",
      "[\u001b[93mWARNING\u001b[0m] Skipping log/1586825384.5339162-runtime.log! Unsupported format!\n",
      "[\u001b[93mWARNING\u001b[0m] Skipping log/1586874051.136705-runtime.log! Unsupported format!\n",
      "[\u001b[93mWARNING\u001b[0m] Skipping log/1586882136.4589186-runtime.log! Unsupported format!\n",
      "[\u001b[93mWARNING\u001b[0m] Skipping log/1586882212.1387413-runtime.log! Unsupported format!\n",
      "[\u001b[93mWARNING\u001b[0m] Skipping incompatible format 1586970239-runtime.log!\n"
     ]
    }
   ],
   "source": [
    "logs = []\n",
    "\n",
    "for filename in file_list:\n",
    "    if not LOG_SUFFIX in filename:\n",
    "        warn(f'Skipping file {filename}.')\n",
    "        continue\n",
    "\n",
    "    filepath = os.path.join(LOG_DIRECTORY, filename)\n",
    "    support_log_format = True\n",
    "    log_data = []\n",
    "    try:\n",
    "        # I don't use pandas because it will fill the empty value\n",
    "        # of old log format instead of raise Exception.\n",
    "        with open(filepath, mode='r') as infile:\n",
    "            for line in infile:\n",
    "                line = line.replace('\\n', '')\n",
    "                if len(line) == 0:\n",
    "                    # empty line\n",
    "                    continue\n",
    "\n",
    "                row = line.split(COLUMN_SEPARATOR)\n",
    "                if not len(row) == len(LOG_HEADER):\n",
    "                    support_log_format = False\n",
    "                    warn(f'Skipping {filepath}! Unsupported format!')\n",
    "                    break\n",
    "\n",
    "                # format data\n",
    "                row = [row[0], float(row[1]), float(row[2])]\n",
    "                log_data.append(row)\n",
    "\n",
    "        if not support_log_format:\n",
    "            continue\n",
    "\n",
    "        log_data = pd.DataFrame(\n",
    "            data=log_data,\n",
    "            columns=LOG_HEADER,\n",
    "        )\n",
    "\n",
    "    except:\n",
    "        # traceback.print_exc() # keep this here for debugging\n",
    "        warn(f'Skipping incompatible format {filename}!')\n",
    "        continue\n",
    "\n",
    "    ts = float(filename.replace(LOG_SUFFIX, ''))\n",
    "    log_file = LogFile(filename, ts, log_data)\n",
    "    logs.append(log_file)\n",
    "    \n",
    "logs.sort(key=lambda x: x.ts, reverse=True)"
   ]
  },
  {
   "cell_type": "code",
   "execution_count": 33,
   "metadata": {},
   "outputs": [
    {
     "data": {
      "text/plain": [
       "[('2020-04-18_01-14-52', '1587172492-runtime.log'),\n",
       " ('2020-04-18_01-13-58', '1587172438-runtime.log'),\n",
       " ('2020-04-18_01-06-29', '1587171989-runtime.log'),\n",
       " ('2020-04-17_16-10-25', '1587139825-runtime.log'),\n",
       " ('2020-04-17_16-01-46', '1587139306-runtime.log'),\n",
       " ('2020-04-15_18-46-39', '1586976399-runtime.log'),\n",
       " ('2020-04-15_17-37-37', '1586972257-runtime.log'),\n",
       " ('2020-04-15_17-24-13', '1586971453-runtime.log'),\n",
       " ('2020-04-15_17-23-13', '1586971393-runtime.log'),\n",
       " ('2020-04-15_17-10-46', '1586970646-runtime.log'),\n",
       " ('2020-04-15_17-10-05', '1586970605-runtime.log'),\n",
       " ('2020-04-15_17-08-59', '1586970539-runtime.log'),\n",
       " ('2020-04-15_17-06-50', '1586970410-runtime.log')]"
      ]
     },
     "execution_count": 33,
     "metadata": {},
     "output_type": "execute_result"
    }
   ],
   "source": [
    "logs"
   ]
  },
  {
   "cell_type": "code",
   "execution_count": 34,
   "metadata": {},
   "outputs": [
    {
     "data": {
      "text/html": [
       "<div>\n",
       "<style scoped>\n",
       "    .dataframe tbody tr th:only-of-type {\n",
       "        vertical-align: middle;\n",
       "    }\n",
       "\n",
       "    .dataframe tbody tr th {\n",
       "        vertical-align: top;\n",
       "    }\n",
       "\n",
       "    .dataframe thead th {\n",
       "        text-align: right;\n",
       "    }\n",
       "</style>\n",
       "<table border=\"1\" class=\"dataframe\">\n",
       "  <thead>\n",
       "    <tr style=\"text-align: right;\">\n",
       "      <th></th>\n",
       "      <th>func_name</th>\n",
       "      <th>start_time</th>\n",
       "      <th>end_time</th>\n",
       "    </tr>\n",
       "  </thead>\n",
       "  <tbody>\n",
       "    <tr>\n",
       "      <th>0</th>\n",
       "      <td>fetch_font</td>\n",
       "      <td>1.587172e+09</td>\n",
       "      <td>1.587172e+09</td>\n",
       "    </tr>\n",
       "    <tr>\n",
       "      <th>1</th>\n",
       "      <td>fetch_font</td>\n",
       "      <td>1.587172e+09</td>\n",
       "      <td>1.587172e+09</td>\n",
       "    </tr>\n",
       "    <tr>\n",
       "      <th>2</th>\n",
       "      <td>fetch_font</td>\n",
       "      <td>1.587172e+09</td>\n",
       "      <td>1.587172e+09</td>\n",
       "    </tr>\n",
       "    <tr>\n",
       "      <th>3</th>\n",
       "      <td>fetch_font</td>\n",
       "      <td>1.587172e+09</td>\n",
       "      <td>1.587172e+09</td>\n",
       "    </tr>\n",
       "    <tr>\n",
       "      <th>4</th>\n",
       "      <td>fetch_font</td>\n",
       "      <td>1.587172e+09</td>\n",
       "      <td>1.587172e+09</td>\n",
       "    </tr>\n",
       "    <tr>\n",
       "      <th>5</th>\n",
       "      <td>fetch_font</td>\n",
       "      <td>1.587172e+09</td>\n",
       "      <td>1.587172e+09</td>\n",
       "    </tr>\n",
       "    <tr>\n",
       "      <th>6</th>\n",
       "      <td>fetch_font</td>\n",
       "      <td>1.587172e+09</td>\n",
       "      <td>1.587172e+09</td>\n",
       "    </tr>\n",
       "    <tr>\n",
       "      <th>7</th>\n",
       "      <td>fetch_font</td>\n",
       "      <td>1.587172e+09</td>\n",
       "      <td>1.587172e+09</td>\n",
       "    </tr>\n",
       "    <tr>\n",
       "      <th>8</th>\n",
       "      <td>fetch_font</td>\n",
       "      <td>1.587172e+09</td>\n",
       "      <td>1.587172e+09</td>\n",
       "    </tr>\n",
       "    <tr>\n",
       "      <th>9</th>\n",
       "      <td>fetch_font</td>\n",
       "      <td>1.587172e+09</td>\n",
       "      <td>1.587172e+09</td>\n",
       "    </tr>\n",
       "    <tr>\n",
       "      <th>10</th>\n",
       "      <td>fetch_font</td>\n",
       "      <td>1.587172e+09</td>\n",
       "      <td>1.587172e+09</td>\n",
       "    </tr>\n",
       "    <tr>\n",
       "      <th>11</th>\n",
       "      <td>fetch_font</td>\n",
       "      <td>1.587172e+09</td>\n",
       "      <td>1.587172e+09</td>\n",
       "    </tr>\n",
       "    <tr>\n",
       "      <th>12</th>\n",
       "      <td>fetch_font</td>\n",
       "      <td>1.587172e+09</td>\n",
       "      <td>1.587172e+09</td>\n",
       "    </tr>\n",
       "    <tr>\n",
       "      <th>13</th>\n",
       "      <td>fetch_font</td>\n",
       "      <td>1.587172e+09</td>\n",
       "      <td>1.587172e+09</td>\n",
       "    </tr>\n",
       "    <tr>\n",
       "      <th>14</th>\n",
       "      <td>fetch_font</td>\n",
       "      <td>1.587172e+09</td>\n",
       "      <td>1.587172e+09</td>\n",
       "    </tr>\n",
       "    <tr>\n",
       "      <th>15</th>\n",
       "      <td>fetch_font</td>\n",
       "      <td>1.587172e+09</td>\n",
       "      <td>1.587172e+09</td>\n",
       "    </tr>\n",
       "    <tr>\n",
       "      <th>16</th>\n",
       "      <td>fetch_font</td>\n",
       "      <td>1.587172e+09</td>\n",
       "      <td>1.587172e+09</td>\n",
       "    </tr>\n",
       "    <tr>\n",
       "      <th>17</th>\n",
       "      <td>fetch_font</td>\n",
       "      <td>1.587172e+09</td>\n",
       "      <td>1.587172e+09</td>\n",
       "    </tr>\n",
       "    <tr>\n",
       "      <th>18</th>\n",
       "      <td>fetch_font</td>\n",
       "      <td>1.587172e+09</td>\n",
       "      <td>1.587172e+09</td>\n",
       "    </tr>\n",
       "    <tr>\n",
       "      <th>19</th>\n",
       "      <td>fetch_font</td>\n",
       "      <td>1.587172e+09</td>\n",
       "      <td>1.587172e+09</td>\n",
       "    </tr>\n",
       "    <tr>\n",
       "      <th>20</th>\n",
       "      <td>fetch_font</td>\n",
       "      <td>1.587172e+09</td>\n",
       "      <td>1.587172e+09</td>\n",
       "    </tr>\n",
       "    <tr>\n",
       "      <th>21</th>\n",
       "      <td>fetch_font</td>\n",
       "      <td>1.587172e+09</td>\n",
       "      <td>1.587172e+09</td>\n",
       "    </tr>\n",
       "    <tr>\n",
       "      <th>22</th>\n",
       "      <td>fetch_font</td>\n",
       "      <td>1.587172e+09</td>\n",
       "      <td>1.587172e+09</td>\n",
       "    </tr>\n",
       "    <tr>\n",
       "      <th>23</th>\n",
       "      <td>fetch_font</td>\n",
       "      <td>1.587172e+09</td>\n",
       "      <td>1.587172e+09</td>\n",
       "    </tr>\n",
       "    <tr>\n",
       "      <th>24</th>\n",
       "      <td>fetch_font</td>\n",
       "      <td>1.587172e+09</td>\n",
       "      <td>1.587172e+09</td>\n",
       "    </tr>\n",
       "    <tr>\n",
       "      <th>25</th>\n",
       "      <td>fetch_font</td>\n",
       "      <td>1.587172e+09</td>\n",
       "      <td>1.587172e+09</td>\n",
       "    </tr>\n",
       "    <tr>\n",
       "      <th>26</th>\n",
       "      <td>fetch_font</td>\n",
       "      <td>1.587172e+09</td>\n",
       "      <td>1.587172e+09</td>\n",
       "    </tr>\n",
       "    <tr>\n",
       "      <th>27</th>\n",
       "      <td>fetch_font</td>\n",
       "      <td>1.587172e+09</td>\n",
       "      <td>1.587172e+09</td>\n",
       "    </tr>\n",
       "    <tr>\n",
       "      <th>28</th>\n",
       "      <td>fetch_font</td>\n",
       "      <td>1.587172e+09</td>\n",
       "      <td>1.587172e+09</td>\n",
       "    </tr>\n",
       "    <tr>\n",
       "      <th>29</th>\n",
       "      <td>fetch_font</td>\n",
       "      <td>1.587172e+09</td>\n",
       "      <td>1.587172e+09</td>\n",
       "    </tr>\n",
       "    <tr>\n",
       "      <th>30</th>\n",
       "      <td>fetch_font</td>\n",
       "      <td>1.587172e+09</td>\n",
       "      <td>1.587172e+09</td>\n",
       "    </tr>\n",
       "    <tr>\n",
       "      <th>31</th>\n",
       "      <td>fetch_font</td>\n",
       "      <td>1.587172e+09</td>\n",
       "      <td>1.587172e+09</td>\n",
       "    </tr>\n",
       "    <tr>\n",
       "      <th>32</th>\n",
       "      <td>fetch_font</td>\n",
       "      <td>1.587172e+09</td>\n",
       "      <td>1.587172e+09</td>\n",
       "    </tr>\n",
       "    <tr>\n",
       "      <th>33</th>\n",
       "      <td>fetch_font</td>\n",
       "      <td>1.587172e+09</td>\n",
       "      <td>1.587172e+09</td>\n",
       "    </tr>\n",
       "    <tr>\n",
       "      <th>34</th>\n",
       "      <td>fetch_font</td>\n",
       "      <td>1.587172e+09</td>\n",
       "      <td>1.587172e+09</td>\n",
       "    </tr>\n",
       "    <tr>\n",
       "      <th>35</th>\n",
       "      <td>fetch_font</td>\n",
       "      <td>1.587172e+09</td>\n",
       "      <td>1.587172e+09</td>\n",
       "    </tr>\n",
       "    <tr>\n",
       "      <th>36</th>\n",
       "      <td>fetch_font</td>\n",
       "      <td>1.587172e+09</td>\n",
       "      <td>1.587172e+09</td>\n",
       "    </tr>\n",
       "    <tr>\n",
       "      <th>37</th>\n",
       "      <td>fetch_font</td>\n",
       "      <td>1.587172e+09</td>\n",
       "      <td>1.587172e+09</td>\n",
       "    </tr>\n",
       "    <tr>\n",
       "      <th>38</th>\n",
       "      <td>fetch_font</td>\n",
       "      <td>1.587172e+09</td>\n",
       "      <td>1.587172e+09</td>\n",
       "    </tr>\n",
       "    <tr>\n",
       "      <th>39</th>\n",
       "      <td>fetch_font</td>\n",
       "      <td>1.587172e+09</td>\n",
       "      <td>1.587172e+09</td>\n",
       "    </tr>\n",
       "    <tr>\n",
       "      <th>40</th>\n",
       "      <td>fetch_font</td>\n",
       "      <td>1.587172e+09</td>\n",
       "      <td>1.587172e+09</td>\n",
       "    </tr>\n",
       "    <tr>\n",
       "      <th>41</th>\n",
       "      <td>fetch_font</td>\n",
       "      <td>1.587172e+09</td>\n",
       "      <td>1.587172e+09</td>\n",
       "    </tr>\n",
       "    <tr>\n",
       "      <th>42</th>\n",
       "      <td>fetch_font</td>\n",
       "      <td>1.587172e+09</td>\n",
       "      <td>1.587172e+09</td>\n",
       "    </tr>\n",
       "    <tr>\n",
       "      <th>43</th>\n",
       "      <td>fetch_font</td>\n",
       "      <td>1.587172e+09</td>\n",
       "      <td>1.587172e+09</td>\n",
       "    </tr>\n",
       "    <tr>\n",
       "      <th>44</th>\n",
       "      <td>fetch_font</td>\n",
       "      <td>1.587172e+09</td>\n",
       "      <td>1.587172e+09</td>\n",
       "    </tr>\n",
       "    <tr>\n",
       "      <th>45</th>\n",
       "      <td>fetch_font</td>\n",
       "      <td>1.587172e+09</td>\n",
       "      <td>1.587172e+09</td>\n",
       "    </tr>\n",
       "  </tbody>\n",
       "</table>\n",
       "</div>"
      ],
      "text/plain": [
       "     func_name    start_time      end_time\n",
       "0   fetch_font  1.587172e+09  1.587172e+09\n",
       "1   fetch_font  1.587172e+09  1.587172e+09\n",
       "2   fetch_font  1.587172e+09  1.587172e+09\n",
       "3   fetch_font  1.587172e+09  1.587172e+09\n",
       "4   fetch_font  1.587172e+09  1.587172e+09\n",
       "5   fetch_font  1.587172e+09  1.587172e+09\n",
       "6   fetch_font  1.587172e+09  1.587172e+09\n",
       "7   fetch_font  1.587172e+09  1.587172e+09\n",
       "8   fetch_font  1.587172e+09  1.587172e+09\n",
       "9   fetch_font  1.587172e+09  1.587172e+09\n",
       "10  fetch_font  1.587172e+09  1.587172e+09\n",
       "11  fetch_font  1.587172e+09  1.587172e+09\n",
       "12  fetch_font  1.587172e+09  1.587172e+09\n",
       "13  fetch_font  1.587172e+09  1.587172e+09\n",
       "14  fetch_font  1.587172e+09  1.587172e+09\n",
       "15  fetch_font  1.587172e+09  1.587172e+09\n",
       "16  fetch_font  1.587172e+09  1.587172e+09\n",
       "17  fetch_font  1.587172e+09  1.587172e+09\n",
       "18  fetch_font  1.587172e+09  1.587172e+09\n",
       "19  fetch_font  1.587172e+09  1.587172e+09\n",
       "20  fetch_font  1.587172e+09  1.587172e+09\n",
       "21  fetch_font  1.587172e+09  1.587172e+09\n",
       "22  fetch_font  1.587172e+09  1.587172e+09\n",
       "23  fetch_font  1.587172e+09  1.587172e+09\n",
       "24  fetch_font  1.587172e+09  1.587172e+09\n",
       "25  fetch_font  1.587172e+09  1.587172e+09\n",
       "26  fetch_font  1.587172e+09  1.587172e+09\n",
       "27  fetch_font  1.587172e+09  1.587172e+09\n",
       "28  fetch_font  1.587172e+09  1.587172e+09\n",
       "29  fetch_font  1.587172e+09  1.587172e+09\n",
       "30  fetch_font  1.587172e+09  1.587172e+09\n",
       "31  fetch_font  1.587172e+09  1.587172e+09\n",
       "32  fetch_font  1.587172e+09  1.587172e+09\n",
       "33  fetch_font  1.587172e+09  1.587172e+09\n",
       "34  fetch_font  1.587172e+09  1.587172e+09\n",
       "35  fetch_font  1.587172e+09  1.587172e+09\n",
       "36  fetch_font  1.587172e+09  1.587172e+09\n",
       "37  fetch_font  1.587172e+09  1.587172e+09\n",
       "38  fetch_font  1.587172e+09  1.587172e+09\n",
       "39  fetch_font  1.587172e+09  1.587172e+09\n",
       "40  fetch_font  1.587172e+09  1.587172e+09\n",
       "41  fetch_font  1.587172e+09  1.587172e+09\n",
       "42  fetch_font  1.587172e+09  1.587172e+09\n",
       "43  fetch_font  1.587172e+09  1.587172e+09\n",
       "44  fetch_font  1.587172e+09  1.587172e+09\n",
       "45  fetch_font  1.587172e+09  1.587172e+09"
      ]
     },
     "execution_count": 34,
     "metadata": {},
     "output_type": "execute_result"
    }
   ],
   "source": [
    "log = logs[0]\n",
    "data = log.data\n",
    "data"
   ]
  },
  {
   "cell_type": "code",
   "execution_count": 35,
   "metadata": {},
   "outputs": [
    {
     "data": {
      "text/plain": [
       "array([['fetch_font', 1587172493.5831904, 1587172493.725806],\n",
       "       ['fetch_font', 1587172493.771716, 1587172493.9224126],\n",
       "       ['fetch_font', 1587172493.922929, 1587172493.9578135],\n",
       "       ['fetch_font', 1587172493.9581845, 1587172493.9597797],\n",
       "       ['fetch_font', 1587172493.960237, 1587172493.9625537],\n",
       "       ['fetch_font', 1587172493.9628174, 1587172493.9673705],\n",
       "       ['fetch_font', 1587172493.9676816, 1587172493.9687407],\n",
       "       ['fetch_font', 1587172493.9689875, 1587172493.971197],\n",
       "       ['fetch_font', 1587172493.971523, 1587172493.9735806],\n",
       "       ['fetch_font', 1587172493.9738615, 1587172493.9766076],\n",
       "       ['fetch_font', 1587172493.976948, 1587172493.9798377],\n",
       "       ['fetch_font', 1587172493.9803782, 1587172493.9830537],\n",
       "       ['fetch_font', 1587172493.9833057, 1587172493.9857168],\n",
       "       ['fetch_font', 1587172493.9862843, 1587172493.9884312],\n",
       "       ['fetch_font', 1587172493.98875, 1587172493.9924374],\n",
       "       ['fetch_font', 1587172493.9928174, 1587172493.9950252],\n",
       "       ['fetch_font', 1587172493.9953542, 1587172494.0151458],\n",
       "       ['fetch_font', 1587172494.0154793, 1587172494.0178459],\n",
       "       ['fetch_font', 1587172494.0182557, 1587172494.0191486],\n",
       "       ['fetch_font', 1587172494.0193608, 1587172494.0203388],\n",
       "       ['fetch_font', 1587172494.0205936, 1587172494.0234354],\n",
       "       ['fetch_font', 1587172494.0237916, 1587172494.0249434],\n",
       "       ['fetch_font', 1587172494.0252156, 1587172494.0260394],\n",
       "       ['fetch_font', 1587172494.0262613, 1587172494.0279987],\n",
       "       ['fetch_font', 1587172494.0285053, 1587172494.053263],\n",
       "       ['fetch_font', 1587172494.053878, 1587172494.0788746],\n",
       "       ['fetch_font', 1587172494.0792599, 1587172494.1039922],\n",
       "       ['fetch_font', 1587172494.1047542, 1587172494.1196675],\n",
       "       ['fetch_font', 1587172494.1204352, 1587172494.1219902],\n",
       "       ['fetch_font', 1587172494.1222777, 1587172494.223652],\n",
       "       ['fetch_font', 1587172494.2243848, 1587172494.3314247],\n",
       "       ['fetch_font', 1587172494.3318427, 1587172494.4367008],\n",
       "       ['fetch_font', 1587172494.4372292, 1587172494.546168],\n",
       "       ['fetch_font', 1587172494.5736141, 1587172494.67024],\n",
       "       ['fetch_font', 1587172494.67061, 1587172494.781028],\n",
       "       ['fetch_font', 1587172494.7822542, 1587172494.7846785],\n",
       "       ['fetch_font', 1587172494.7854104, 1587172494.8528583],\n",
       "       ['fetch_font', 1587172494.8537858, 1587172494.8548026],\n",
       "       ['fetch_font', 1587172494.8550737, 1587172494.9117212],\n",
       "       ['fetch_font', 1587172494.9126654, 1587172494.973742],\n",
       "       ['fetch_font', 1587172494.9741635, 1587172494.9759874],\n",
       "       ['fetch_font', 1587172494.9762583, 1587172494.9778104],\n",
       "       ['fetch_font', 1587172494.978274, 1587172495.007178],\n",
       "       ['fetch_font', 1587172495.0076196, 1587172495.0373244],\n",
       "       ['fetch_font', 1587172495.0379033, 1587172495.0564766],\n",
       "       ['fetch_font', 1587172495.0569897, 1587172495.0601647]],\n",
       "      dtype=object)"
      ]
     },
     "execution_count": 35,
     "metadata": {},
     "output_type": "execute_result"
    }
   ],
   "source": [
    "np_data = data.to_numpy()\n",
    "np_data"
   ]
  },
  {
   "cell_type": "code",
   "execution_count": 36,
   "metadata": {},
   "outputs": [
    {
     "data": {
      "text/plain": [
       "(46, 3)"
      ]
     },
     "execution_count": 36,
     "metadata": {},
     "output_type": "execute_result"
    }
   ],
   "source": [
    "np_data.shape"
   ]
  },
  {
   "cell_type": "code",
   "execution_count": 37,
   "metadata": {},
   "outputs": [
    {
     "name": "stdout",
     "output_type": "stream",
     "text": [
      "['fetch_font' 1587172493.5831904 1587172493.725806]\n",
      "fetch_font 0.14261555671691895\n"
     ]
    }
   ],
   "source": [
    "for row in np_data:\n",
    "    func_name, ts, te = row[:3]\n",
    "    exec_time = te - ts\n",
    "    print(row)\n",
    "    print(func_name, exec_time)\n",
    "    break"
   ]
  },
  {
   "cell_type": "code",
   "execution_count": 38,
   "metadata": {},
   "outputs": [
    {
     "data": {
      "text/plain": [
       "<pandas.core.groupby.generic.DataFrameGroupBy object at 0x7fe532acf710>"
      ]
     },
     "execution_count": 38,
     "metadata": {},
     "output_type": "execute_result"
    }
   ],
   "source": [
    "g = data.groupby('func_name')\n",
    "g"
   ]
  },
  {
   "cell_type": "code",
   "execution_count": 39,
   "metadata": {},
   "outputs": [
    {
     "data": {
      "text/html": [
       "<div>\n",
       "<style scoped>\n",
       "    .dataframe tbody tr th:only-of-type {\n",
       "        vertical-align: middle;\n",
       "    }\n",
       "\n",
       "    .dataframe tbody tr th {\n",
       "        vertical-align: top;\n",
       "    }\n",
       "\n",
       "    .dataframe thead th {\n",
       "        text-align: right;\n",
       "    }\n",
       "</style>\n",
       "<table border=\"1\" class=\"dataframe\">\n",
       "  <thead>\n",
       "    <tr style=\"text-align: right;\">\n",
       "      <th></th>\n",
       "      <th>start_time</th>\n",
       "      <th>end_time</th>\n",
       "    </tr>\n",
       "    <tr>\n",
       "      <th>func_name</th>\n",
       "      <th></th>\n",
       "      <th></th>\n",
       "    </tr>\n",
       "  </thead>\n",
       "  <tbody>\n",
       "    <tr>\n",
       "      <th>fetch_font</th>\n",
       "      <td>7.300993e+10</td>\n",
       "      <td>7.300993e+10</td>\n",
       "    </tr>\n",
       "  </tbody>\n",
       "</table>\n",
       "</div>"
      ],
      "text/plain": [
       "              start_time      end_time\n",
       "func_name                             \n",
       "fetch_font  7.300993e+10  7.300993e+10"
      ]
     },
     "execution_count": 39,
     "metadata": {},
     "output_type": "execute_result"
    }
   ],
   "source": [
    "execution_time_by_method_name = g.sum()\n",
    "execution_time_by_method_name"
   ]
  },
  {
   "cell_type": "code",
   "execution_count": 40,
   "metadata": {},
   "outputs": [
    {
     "data": {
      "text/html": [
       "<div>\n",
       "<style scoped>\n",
       "    .dataframe tbody tr th:only-of-type {\n",
       "        vertical-align: middle;\n",
       "    }\n",
       "\n",
       "    .dataframe tbody tr th {\n",
       "        vertical-align: top;\n",
       "    }\n",
       "\n",
       "    .dataframe thead th {\n",
       "        text-align: right;\n",
       "    }\n",
       "</style>\n",
       "<table border=\"1\" class=\"dataframe\">\n",
       "  <thead>\n",
       "    <tr style=\"text-align: right;\">\n",
       "      <th></th>\n",
       "      <th>start_time</th>\n",
       "      <th>end_time</th>\n",
       "    </tr>\n",
       "    <tr>\n",
       "      <th>func_name</th>\n",
       "      <th></th>\n",
       "      <th></th>\n",
       "    </tr>\n",
       "  </thead>\n",
       "  <tbody>\n",
       "    <tr>\n",
       "      <th>fetch_font</th>\n",
       "      <td>7.300993e+10</td>\n",
       "      <td>7.300993e+10</td>\n",
       "    </tr>\n",
       "  </tbody>\n",
       "</table>\n",
       "</div>"
      ],
      "text/plain": [
       "              start_time      end_time\n",
       "func_name                             \n",
       "fetch_font  7.300993e+10  7.300993e+10"
      ]
     },
     "execution_count": 40,
     "metadata": {},
     "output_type": "execute_result"
    }
   ],
   "source": [
    "execution_time_by_method_name"
   ]
  },
  {
   "cell_type": "code",
   "execution_count": 41,
   "metadata": {},
   "outputs": [
    {
     "data": {
      "text/plain": [
       "array([[7.30099347e+10, 7.30099347e+10]])"
      ]
     },
     "execution_count": 41,
     "metadata": {},
     "output_type": "execute_result"
    }
   ],
   "source": [
    "execution_time_by_method_name.to_numpy()"
   ]
  },
  {
   "cell_type": "markdown",
   "metadata": {},
   "source": [
    "# 3 plots\n",
    "\n",
    "- Plot the total amount of time for each methods\n",
    "- Plot the number of calls for each methods\n",
    "- Plot max, min, and avg for each methods"
   ]
  },
  {
   "cell_type": "code",
   "execution_count": 42,
   "metadata": {},
   "outputs": [
    {
     "data": {
      "text/plain": [
       "{'fetch_font': {'num_calls': 46,\n",
       "  'total_exec_time': 1.3838918209075928,\n",
       "  'min': 0.0008237361907958984,\n",
       "  'max': 0.1506965160369873,\n",
       "  'avg': 0.030084604802338974}}"
      ]
     },
     "execution_count": 42,
     "metadata": {},
     "output_type": "execute_result"
    }
   ],
   "source": [
    "func_data = {}\n",
    "\n",
    "for row in np_data:\n",
    "    func_name, ts, te = row[:3]\n",
    "    exec_time = te - ts\n",
    "    if func_name in func_data:\n",
    "        func_data[func_name]['num_calls'] += 1\n",
    "        func_data[func_name]['total_exec_time'] += exec_time\n",
    "\n",
    "        last_min = func_data[func_name]['min']\n",
    "        func_data[func_name]['min'] = min(exec_time, last_min)\n",
    "\n",
    "        last_max = func_data[func_name]['max']\n",
    "        func_data[func_name]['max'] = max(exec_time, last_max)\n",
    "    else:\n",
    "        func_data[func_name] = {\n",
    "            'num_calls': 1,\n",
    "            'total_exec_time': exec_time,\n",
    "            'min': exec_time,\n",
    "            'max': exec_time,\n",
    "        }\n",
    "\n",
    "for func_name in func_data:\n",
    "    # calculate and average\n",
    "    total_exec_time = func_data[func_name]['total_exec_time']\n",
    "    num_calls = func_data[func_name]['num_calls']\n",
    "\n",
    "    func_data[func_name]['avg'] = total_exec_time / num_calls\n",
    "    \n",
    "func_data"
   ]
  },
  {
   "cell_type": "code",
   "execution_count": 43,
   "metadata": {},
   "outputs": [
    {
     "name": "stdout",
     "output_type": "stream",
     "text": [
      "fetch_font\n"
     ]
    }
   ],
   "source": [
    "for key in func_data:\n",
    "    print(key)"
   ]
  },
  {
   "cell_type": "code",
   "execution_count": 44,
   "metadata": {},
   "outputs": [
    {
     "data": {
      "image/png": "[encoded data removed]",
      "text/plain": [
       "<Figure size 432x288 with 1 Axes>"
      ]
     },
     "metadata": {
      "needs_background": "light"
     },
     "output_type": "display_data"
    }
   ],
   "source": [
    "plt.title('total amount of execution time')\n",
    "names = []\n",
    "values = []\n",
    "for func_name in func_data:\n",
    "    names.append(func_name)\n",
    "    values.append(func_data[func_name]['total_exec_time'])\n",
    "\n",
    "bars = plt.bar(names, values)\n",
    "# show values on top of bars\n",
    "# https://stackoverflow.com/questions/53066633/python-how-to-show-values-on-top-of-bar-plot\n",
    "text_height_delta = max(values) * .005\n",
    "for idx, bar in enumerate(bars):\n",
    "    y = bar.get_height()\n",
    "    plt.text(\n",
    "        x=bar.get_x() + bar.get_width()*0.3,\n",
    "        y=bar.get_height() + text_height_delta,\n",
    "        s=f'{values[idx]:.2f}',\n",
    "    )"
   ]
  },
  {
   "cell_type": "code",
   "execution_count": 45,
   "metadata": {},
   "outputs": [
    {
     "data": {
      "text/plain": [
       "<BarContainer object of 1 artists>"
      ]
     },
     "execution_count": 45,
     "metadata": {},
     "output_type": "execute_result"
    }
   ],
   "source": [
    "bars"
   ]
  },
  {
   "cell_type": "code",
   "execution_count": 46,
   "metadata": {},
   "outputs": [
    {
     "data": {
      "text/plain": [
       "matplotlib.container.BarContainer"
      ]
     },
     "execution_count": 46,
     "metadata": {},
     "output_type": "execute_result"
    }
   ],
   "source": [
    "type(bars)"
   ]
  },
  {
   "cell_type": "code",
   "execution_count": 47,
   "metadata": {},
   "outputs": [
    {
     "data": {
      "text/plain": [
       "array([0, 1, 2, 3, 4, 5, 6, 7])"
      ]
     },
     "execution_count": 47,
     "metadata": {},
     "output_type": "execute_result"
    }
   ],
   "source": [
    "x = np.arange(8)\n",
    "x"
   ]
  },
  {
   "cell_type": "code",
   "execution_count": 48,
   "metadata": {
    "scrolled": true
   },
   "outputs": [
    {
     "data": {
      "text/plain": [
       "array([ 0,  2,  4,  6,  8, 10, 12, 14])"
      ]
     },
     "execution_count": 48,
     "metadata": {},
     "output_type": "execute_result"
    }
   ],
   "source": [
    "x * 2"
   ]
  },
  {
   "cell_type": "markdown",
   "metadata": {},
   "source": [
    "# Experiment with printing with color to console"
   ]
  },
  {
   "cell_type": "code",
   "execution_count": 49,
   "metadata": {},
   "outputs": [],
   "source": [
    "class TerminateColor:\n",
    "    HEADER = '\\033[95m'\n",
    "    OKBLUE = '\\033[94m'\n",
    "    OKGREEN = '\\033[92m'\n",
    "    WARNING = '\\033[93m'\n",
    "    FAIL = '\\033[91m'\n",
    "    ENDC = '\\033[0m'"
   ]
  },
  {
   "cell_type": "code",
   "execution_count": 50,
   "metadata": {},
   "outputs": [
    {
     "name": "stdout",
     "output_type": "stream",
     "text": [
      "\u001b[95mHeader\u001b[0m\n",
      "\u001b[94mOKBLUE\u001b[0m\n",
      "\u001b[92mOKGREEN\u001b[0m\n",
      "\u001b[93mWARNING\u001b[0m\n",
      "\u001b[91mFAIL\u001b[0m\n"
     ]
    }
   ],
   "source": [
    "print(f'{TerminateColor.HEADER}Header{TerminateColor.ENDC}')\n",
    "print(f'{TerminateColor.OKBLUE}OKBLUE{TerminateColor.ENDC}')\n",
    "print(f'{TerminateColor.OKGREEN}OKGREEN{TerminateColor.ENDC}')\n",
    "print(f'{TerminateColor.WARNING}WARNING{TerminateColor.ENDC}')\n",
    "print(f'{TerminateColor.FAIL}FAIL{TerminateColor.ENDC}')"
   ]
  },
  {
   "cell_type": "markdown",
   "metadata": {},
   "source": [
    "# Experiment with escaping invalid filename characters for using in regular expression"
   ]
  },
  {
   "cell_type": "code",
   "execution_count": 51,
   "metadata": {},
   "outputs": [
    {
     "name": "stdout",
     "output_type": "stream",
     "text": [
      "`~!@#$%^&*,<>?'\":;|\\\n",
      "'`~!@#$%^&*,<>?\\'\":;|\\\\'\n"
     ]
    }
   ],
   "source": [
    "INVALID_FILENAME_CHARS = '`~!@#$%^&*,<>?\\'\":;|\\\\'\n",
    "print(INVALID_FILENAME_CHARS)\n",
    "print(repr(INVALID_FILENAME_CHARS))"
   ]
  },
  {
   "cell_type": "code",
   "execution_count": 52,
   "metadata": {},
   "outputs": [
    {
     "name": "stdout",
     "output_type": "stream",
     "text": [
      "`~!@#$%^&*,<>?'\":;|\\\n"
     ]
    }
   ],
   "source": [
    "print(INVALID_FILENAME_CHARS)"
   ]
  },
  {
   "cell_type": "code",
   "execution_count": 53,
   "metadata": {},
   "outputs": [
    {
     "data": {
      "text/plain": [
       "'\\\\`\\\\~\\\\!\\\\@\\\\#\\\\$\\\\%\\\\^\\\\&\\\\*\\\\,\\\\<\\\\>\\\\?\\\\\\'\\\\\"\\\\:\\\\;\\\\|\\\\\\\\'"
      ]
     },
     "execution_count": 53,
     "metadata": {},
     "output_type": "execute_result"
    }
   ],
   "source": [
    "re.escape(INVALID_FILENAME_CHARS)"
   ]
  },
  {
   "cell_type": "code",
   "execution_count": 54,
   "metadata": {},
   "outputs": [
    {
     "data": {
      "text/plain": [
       "\"'(){}[]'\""
      ]
     },
     "execution_count": 54,
     "metadata": {},
     "output_type": "execute_result"
    }
   ],
   "source": [
    "x = '(){}[]'\n",
    "repr(x)"
   ]
  },
  {
   "cell_type": "code",
   "execution_count": 55,
   "metadata": {},
   "outputs": [
    {
     "data": {
      "text/plain": [
       "'(){}[]'"
      ]
     },
     "execution_count": 55,
     "metadata": {},
     "output_type": "execute_result"
    }
   ],
   "source": [
    "x"
   ]
  },
  {
   "cell_type": "code",
   "execution_count": 56,
   "metadata": {},
   "outputs": [
    {
     "data": {
      "text/plain": [
       "6"
      ]
     },
     "execution_count": 56,
     "metadata": {},
     "output_type": "execute_result"
    }
   ],
   "source": [
    "len(x)"
   ]
  },
  {
   "cell_type": "code",
   "execution_count": 57,
   "metadata": {},
   "outputs": [
    {
     "name": "stdout",
     "output_type": "stream",
     "text": [
      "(){}[]\n"
     ]
    }
   ],
   "source": [
    "print(x)"
   ]
  },
  {
   "cell_type": "markdown",
   "metadata": {},
   "source": [
    "# Experiment with TFRecord"
   ]
  },
  {
   "cell_type": "code",
   "execution_count": 58,
   "metadata": {},
   "outputs": [],
   "source": [
    "import tensorflow as tf"
   ]
  },
  {
   "cell_type": "code",
   "execution_count": 59,
   "metadata": {},
   "outputs": [
    {
     "data": {
      "text/plain": [
       "'2.1.0'"
      ]
     },
     "execution_count": 59,
     "metadata": {},
     "output_type": "execute_result"
    }
   ],
   "source": [
    "tf.__version__"
   ]
  },
  {
   "cell_type": "code",
   "execution_count": 60,
   "metadata": {},
   "outputs": [],
   "source": [
    "# The following functions can be used to convert a value to a type compatible\n",
    "# with tf.Example.\n",
    "\n",
    "def _bytes_feature(value):\n",
    "  \"\"\"Returns a bytes_list from a string / byte.\"\"\"\n",
    "  if isinstance(value, type(tf.constant(0))):\n",
    "    value = value.numpy() # BytesList won't unpack a string from an EagerTensor.\n",
    "  return tf.train.Feature(bytes_list=tf.train.BytesList(value=[value]))\n",
    "\n",
    "def _float_feature(value):\n",
    "  \"\"\"Returns a float_list from a float / double.\"\"\"\n",
    "  return tf.train.Feature(float_list=tf.train.FloatList(value=[value]))\n",
    "\n",
    "def _int64_feature(value):\n",
    "  \"\"\"Returns an int64_list from a bool / enum / int / uint.\"\"\"\n",
    "  return tf.train.Feature(int64_list=tf.train.Int64List(value=[value]))"
   ]
  },
  {
   "cell_type": "code",
   "execution_count": 61,
   "metadata": {},
   "outputs": [
    {
     "name": "stdout",
     "output_type": "stream",
     "text": [
      "bytes_list {\n",
      "  value: \"test_string\"\n",
      "}\n",
      "\n",
      "bytes_list {\n",
      "  value: \"test_bytes\"\n",
      "}\n",
      "\n",
      "float_list {\n",
      "  value: 2.7182817459106445\n",
      "}\n",
      "\n",
      "int64_list {\n",
      "  value: 1\n",
      "}\n",
      "\n",
      "int64_list {\n",
      "  value: 1\n",
      "}\n",
      "\n"
     ]
    }
   ],
   "source": [
    "print(_bytes_feature(b'test_string'))\n",
    "print(_bytes_feature(u'test_bytes'.encode('utf-8')))\n",
    "\n",
    "print(_float_feature(np.exp(1)))\n",
    "\n",
    "print(_int64_feature(True))\n",
    "print(_int64_feature(1))"
   ]
  },
  {
   "cell_type": "code",
   "execution_count": 62,
   "metadata": {},
   "outputs": [
    {
     "data": {
      "text/plain": [
       "b'\\x12\\x06\\n\\x04T\\xf8-@'"
      ]
     },
     "execution_count": 62,
     "metadata": {},
     "output_type": "execute_result"
    }
   ],
   "source": [
    "feature = _float_feature(np.exp(1))\n",
    "\n",
    "s = feature.SerializeToString()\n",
    "s"
   ]
  },
  {
   "cell_type": "code",
   "execution_count": 63,
   "metadata": {},
   "outputs": [
    {
     "data": {
      "text/plain": [
       "bytes"
      ]
     },
     "execution_count": 63,
     "metadata": {},
     "output_type": "execute_result"
    }
   ],
   "source": [
    "type(s)"
   ]
  },
  {
   "cell_type": "code",
   "execution_count": 64,
   "metadata": {},
   "outputs": [
    {
     "data": {
      "text/plain": [
       "tensorflow.core.example.feature_pb2.Feature"
      ]
     },
     "execution_count": 64,
     "metadata": {},
     "output_type": "execute_result"
    }
   ],
   "source": [
    "type(feature)"
   ]
  },
  {
   "cell_type": "code",
   "execution_count": 65,
   "metadata": {},
   "outputs": [
    {
     "data": {
      "text/plain": [
       "tensorflow.core.example.feature_pb2.Feature"
      ]
     },
     "execution_count": 65,
     "metadata": {},
     "output_type": "execute_result"
    }
   ],
   "source": [
    "feature_type = type(feature)\n",
    "feature_type"
   ]
  },
  {
   "cell_type": "code",
   "execution_count": 66,
   "metadata": {},
   "outputs": [
    {
     "data": {
      "text/plain": [
       "[tensorflow.core.example.feature_pb2.Feature,\n",
       " google.protobuf.pyext._message.CMessage,\n",
       " google.protobuf.message.Message,\n",
       " object]"
      ]
     },
     "execution_count": 66,
     "metadata": {},
     "output_type": "execute_result"
    }
   ],
   "source": [
    "feature_type.mro()"
   ]
  },
  {
   "cell_type": "markdown",
   "metadata": {},
   "source": [
    "# Experiment with multiple decorators\n",
    "\n",
    "Especially with built-in decorator `@classmethod`."
   ]
  },
  {
   "cell_type": "code",
   "execution_count": 67,
   "metadata": {},
   "outputs": [],
   "source": [
    "from functools import wraps"
   ]
  },
  {
   "cell_type": "code",
   "execution_count": 68,
   "metadata": {},
   "outputs": [],
   "source": [
    "def timedecorator(func):\n",
    "    @wraps(func)\n",
    "    def wrapper(*args, **kwargs):\n",
    "        print('Hi from timedecorator!')\n",
    "        print(f'calling {func.__name__}')\n",
    "        retval = func(*args, **kwargs)\n",
    "        return retval\n",
    "\n",
    "    return wrapper"
   ]
  },
  {
   "cell_type": "code",
   "execution_count": 69,
   "metadata": {},
   "outputs": [],
   "source": [
    "class Foo:\n",
    "    i = 0\n",
    "\n",
    "    @classmethod\n",
    "    def foo(cls, *args, **kwargs):\n",
    "        print('cls', type(cls), cls)\n",
    "        print('cls.i', cls.i)\n",
    "        print('args', type(args), args)\n",
    "        print('kwargs', type(kwargs), kwargs)"
   ]
  },
  {
   "cell_type": "code",
   "execution_count": 70,
   "metadata": {},
   "outputs": [
    {
     "name": "stdout",
     "output_type": "stream",
     "text": [
      "cls <class 'type'> <class '__main__.Foo'>\n",
      "cls.i 0\n",
      "args <class 'tuple'> ('hi',)\n",
      "kwargs <class 'dict'> {}\n"
     ]
    }
   ],
   "source": [
    "Foo.foo('hi')"
   ]
  },
  {
   "cell_type": "code",
   "execution_count": 71,
   "metadata": {},
   "outputs": [],
   "source": [
    "class Bar:\n",
    "    i = 2\n",
    "    \n",
    "    @classmethod\n",
    "    @timedecorator\n",
    "    def foo(cls, *args, **kwargs):\n",
    "        print('cls', type(cls), cls)\n",
    "        print('cls.i', cls.i)\n",
    "        print('args', type(args), args)\n",
    "        print('kwargs', type(kwargs), kwargs)"
   ]
  },
  {
   "cell_type": "code",
   "execution_count": 72,
   "metadata": {},
   "outputs": [
    {
     "name": "stdout",
     "output_type": "stream",
     "text": [
      "Hi from timedecorator!\n",
      "calling foo\n",
      "cls <class 'type'> <class '__main__.Bar'>\n",
      "cls.i 2\n",
      "args <class 'tuple'> ('hi',)\n",
      "kwargs <class 'dict'> {}\n"
     ]
    }
   ],
   "source": [
    "Bar.foo('hi')"
   ]
  },
  {
   "cell_type": "markdown",
   "metadata": {},
   "source": [
    "Put built-in decorator on first"
   ]
  },
  {
   "cell_type": "markdown",
   "metadata": {},
   "source": [
    "# Experiment with `try` and `except`"
   ]
  },
  {
   "cell_type": "code",
   "execution_count": 78,
   "metadata": {},
   "outputs": [
    {
     "name": "stdout",
     "output_type": "stream",
     "text": [
      "invalid literal for int() with base 10: 'a'\n"
     ]
    },
    {
     "name": "stderr",
     "output_type": "stream",
     "text": [
      "Traceback (most recent call last):\n",
      "  File \"<ipython-input-78-bb7a2836cdc9>\", line 4, in <module>\n",
      "    int('a')\n",
      "ValueError: invalid literal for int() with base 10: 'a'\n"
     ]
    }
   ],
   "source": [
    "last_ex = None\n",
    "\n",
    "try:\n",
    "    int('a')\n",
    "except ValueError as ex:\n",
    "    traceback.print_exc()\n",
    "    last_ex = ex\n",
    "    print(ex)"
   ]
  },
  {
   "cell_type": "code",
   "execution_count": 79,
   "metadata": {},
   "outputs": [
    {
     "data": {
      "text/plain": [
       "ValueError(\"invalid literal for int() with base 10: 'a'\")"
      ]
     },
     "execution_count": 79,
     "metadata": {},
     "output_type": "execute_result"
    }
   ],
   "source": [
    "last_ex"
   ]
  },
  {
   "cell_type": "code",
   "execution_count": 81,
   "metadata": {},
   "outputs": [
    {
     "data": {
      "text/plain": [
       "ValueError"
      ]
     },
     "execution_count": 81,
     "metadata": {},
     "output_type": "execute_result"
    }
   ],
   "source": [
    "type(last_ex)"
   ]
  },
  {
   "cell_type": "code",
   "execution_count": 82,
   "metadata": {},
   "outputs": [
    {
     "data": {
      "text/plain": [
       "'ValueError(\"invalid literal for int() with base 10: \\'a\\'\",)'"
      ]
     },
     "execution_count": 82,
     "metadata": {},
     "output_type": "execute_result"
    }
   ],
   "source": [
    "repr(last_ex)"
   ]
  },
  {
   "cell_type": "markdown",
   "metadata": {},
   "source": [
    "# Experiment with reading TFRecord"
   ]
  },
  {
   "cell_type": "code",
   "execution_count": 8,
   "metadata": {},
   "outputs": [],
   "source": [
    "import os\n",
    "\n",
    "import tensorflow as tf"
   ]
  },
  {
   "cell_type": "code",
   "execution_count": 9,
   "metadata": {},
   "outputs": [
    {
     "data": {
      "text/plain": [
       "True"
      ]
     },
     "execution_count": 9,
     "metadata": {},
     "output_type": "execute_result"
    }
   ],
   "source": [
    "sample_tfrecord = 'datasets/hiragana/dataset.tfrecord'\n",
    "os.path.exists(sample_tfrecord)"
   ]
  },
  {
   "cell_type": "code",
   "execution_count": 10,
   "metadata": {},
   "outputs": [
    {
     "data": {
      "text/plain": [
       "<TFRecordDatasetV2 shapes: (), types: tf.string>"
      ]
     },
     "execution_count": 10,
     "metadata": {},
     "output_type": "execute_result"
    }
   ],
   "source": [
    "raw_dataset = tf.data.TFRecordDataset(sample_tfrecord)\n",
    "raw_dataset"
   ]
  },
  {
   "cell_type": "code",
   "execution_count": 11,
   "metadata": {},
   "outputs": [
    {
     "data": {
      "text/plain": [
       "<tf.Tensor: shape=(), dtype=string, numpy=b'\\n\\xa6\\n\\n\\xf1\\x07\\n\\tPNG_IMAGE\\x12\\xe3\\x07\\n\\xe0\\x07\\n\\xdd\\x07\\x89PNG\\r\\n\\x1a\\n\\x00\\x00\\x00\\rIHDR\\x00\\x00\\x00@\\x00\\x00\\x00@\\x08\\x00\\x00\\x00\\x00\\x8f\\x02.\\x02\\x00\\x00\\x03\\xa4IDATx\\x9c\\xedV[HTQ\\x14]c\\x16\\xa9e\\x91\\x96\\x95B\\x16\\xa9}T\\x98Sa\\xe2\\xa34zPI\\xf4\\x80\\nz\\xf8Qf\\x85TB\\x14\\x11d%\\xfaa\\x10\\xf4\\xa4 \\x8d\\xc8\"\\xea\\xc3\\xec\\x81\\x06\\xd6G\\x92\\xd0;\\xc9^\\x82Zc\\x16ZFO\\xd3\\x99\\xbb\\xfb\\x98\\xbb\\xcf\\x9c{\\xef\\xdc\\xb9\\xe3\\xf8\\x15\\xb4\\x7f\\xee>{\\x9f\\xb5\\xf69{\\x9f\\xbb\\xcf\\x01\\xfe\\x8b\\xa9\\x9ch\\xec\\xa9\\x8a\\xeb\\x07>\\xa8\\x9b\\x88zJ\\xc3\\x03&\\x98@DD\\xf4iM\\xa0\\x04\\x0b\\xdc\\x04\\xf4\\xdcjb\\x90\\x89=^\\xfd\\x8e\\xee/A\\xe4\\xc0\\x00\\t\\x12\\xd4\\xaf-\\xc2j\\t&\\xd2\\xaa\\xe6\\xa0{@`\\xf8\\x10E%xf5\\xd3d\\x0bq6Uy\\x19 \\x01\\xe7\\x10\\x8d\\xfd%\\x98\\x93\\x88\\xc8\\x94\\x19\\xc1V4\\x00\\x86G\\xe7,L\\x8a\\x0e\\x06\\x80\\x81\\x93W\\xd5\\x13\\x8b\\xd2ED]%\\xc3\\xac\\xf0\\xdb\\xdd\\xd3]\\x1f\\x1f\\xdfj\\xe8!\\xa34\\'\\xfa\\xc6\\xdb\\xde{\\x01i\\xa4\\xc3\\xe4\\xd7Ts@\\xc5VK\\x8c\\\\\\xec\\x93\\x00\\xa7-\\xeb\\x15\\xed\\xdd\\xcc\\xf9uNN\\xb0\\xdb\\xed\\xd3\\x86\\x98\\x13\\x8c\\xb1\\x8a\\x00\\x00A\\x93\\xd6\\x96\\xbd\\xd3l\\xbd\\xfaf\\x1b\\x11\\x11\\xb5\\xd7,\\xf3\\x87\\x00\\x00\\x10\\x9fw\\xf5\\xb3 \\xd8\\x00\\x8c\\xcc\\\\\\x9a\\xd1\\xd7_*h\\x1b\\x13\\x1c\\xf6\\xe7\\x0cy\\x91\\xa5\\x9e\\x03p\\xad\\x97\\xa8\\xb9\\xb2p\\x9e\\x8f\\xf4\\xf8$\\x10\\xd2[\\xb7\\xab\\x0f]z\\x8d\\xf7\\xd3\\xf4(\\xcf\\xf2H\\xbbe\\xdd\\x0f\\xb3\\x03\\xf9\\xb34\\xca\\x1a\\x1eV\\xee\\xebL\\xff*\\x1al\\x81\\x9f\\xf2\\xd2\\x17\\x9e\\x88\\xdef\\xf9\\xc4o\\xfa\\xad\\x89w\\xe7hnJx\\xc8\\xc8\\xa9+\\x8b\\xea\\x9dlT\\x0e\\x98\\xf5b \\xfc\\x926\\xdaM\\xc97j\\xe7\\x176W\\x0f7\\xc1\\xdb\\x9bt\\xcb\\xad\\x90\\xbd\\xeb\\x14a\\x7f\\xea=\\x97\\xf9\\x7f\\xf4\\xfb=)y\\x17\\xf4J\\x8e71^\\xf0%\\xc6\\x84I}b\\xba\\xb6\\xb6\\xb56\\x03>[1\\x12\\xec\\xf6\\xb8\\x1f\\xe8\\\\\\xeb\\xf5\\xf8\\xf1]F<\\xe5\\t\\xf7\\\\\\xbd\\xabA\\x87\\xb7\\xdd\\x17\\xae\\xde\\x8a\\x1aV\\xf3\\x85\\xff\\xae\\x81\\xdc\\xae%\\xd8(\\x1c\\x1d\\xb3\\xb1\\x9a\\xf5\\xe3\\xec^a\\\\\\xddN\\r>\\xa2\\x93\\xed\\xcfb\\x81\\x02\\x1e\\xdcR\\xdd!-F\\x822@\\xba\\x99\\x0eq\\xd3iNo\\x01\\x86\\xb2\\xb9[\\xfd\\x96\\x8cc\\xcb\\x9e\\x14\\x85c\\xca\\x0b\\x18\\xc3\\'@\\x99\\x05\\x00\\xc5\\x1c\\xe5\\xac\\xdb=_\\x14\\xa8)8\\x93\\xd5\\x1b\\xf2\\nv\\x0cR\\x95\\xb2\\xfbr`t\\x01\\x00b\\xcaE\\xd1\\xf7;3Xm\\x95\\x08\\x86\\xe5\\xaaF\\xe7A\\x00\\xc0W\\rAX\\x95x*5V \\x9d\\xf5\\x16\\x89`\\x15?\\x08\\xabZ<>AP\\x9e(\\xb6\\xbaO\\x19\\x94\\xcc\\xfa+)\\x05\\xb5\\xbc\\xaf\\xe5\\xee\\xf1D\\x1eo\\x07\\xb0\\xd0\\x93\\xf8\\x876\\xa4\\xb2\\xae\\x8c\\xf0\\xe0\\xa3\\\\\\xaa\\xd1\\xc5=\\xef\\x93(U\\xd4)\\xd1\\x07\\xc89\\x17\\xd8+\\xca--`3\\x1b\\xc5\\xbb\\x92\\xbbZ\\xeb\\xfe\\x0eO\\xfc\\x1f\\x8b\\x00T\\xf3\\xa8D\"(d\\xe3e\\xb6\\xcc3\\x9e\\x1bj\\x9b\\x06 \\xf8;\\x0f\\xdd/Aw\\x12E\\x91\\x1c\\xac\\xdc\\x963\\xe4\\x96\\x86\\xe4\\'\\x00\\x92\\xf8\\x82\\xb9\\xf7Z\"\\xe8\\xd4$\\x1d\\x00\\xa8P\\x8f\\xafI}\\x0f\\xc0S\\xc4RH\\x04\\xe2q@b\\xfe\\xa5GZ\\xfc\\x85E\\xdf\\x00\\x00\\xdc\\x88\\xea*e\\x82\\xfa_\\xaay\\xac\\x00LP \\x89\\xf3X\\x8eS\\xc3\\xf7\\xa5@\\xcb\\x7f\\x9e\\xeb\\x94\\x06\\x00\\xb6\\xe4\\xe2\\x17\\x9a\\xf4U&\\x88\\x99G\\x88\\x88^o\\t\\xd5m0\\x8e/\\x83w3\\x13\\x97\\x9c\\xf9\\xa8K\\xffuifhV\\xe1\\xe5lc;\\xc4V\\x17\\x99H\\xf7\\xc5L/\\xf3\\x8d\\x92\\xf5\\xc1+\\xfc\\xc5\\x0e\\xbf\\x1f\\'\\x11G\\x0c\\x97B\\xcf\\xb9T\\x7f\\xd1\\x00\\x80\\xd8Ri\\x15NG\\xfd\\x95\\x1c?@\\xda\\xed\\rHKM\\x0eos8\\x1c\\x8e\\xb6vW\\x9f\\x82\\xff\\xcb\\xf2\\x17+L(\\x07\\xecu\\xa0\\x98\\x00\\x00\\x00\\x00IEND\\xaeB`\\x82\\no\\n\\x0bDESCRIPTION\\x12`\\n^\\n\\\\\\xe3\\x81\\x82 grayscale image created with font kouichi.sakurai font felt pen_Regular at font size 64.\\n\\x14\\n\\tCHARACTER\\x12\\x07\\n\\x05\\n\\x03\\xe3\\x81\\x82\\n,\\n\\x04HASH\\x12$\\n\"\\n 00E91A9751CC0B445BAE875C8FEACF9F\\n\\x12\\n\\tFONT_SIZE\\x12\\x05\\x1a\\x03\\n\\x01@\\n\\x0e\\n\\x05WIDTH\\x12\\x05\\x1a\\x03\\n\\x01@\\n\\x0f\\n\\x06HEIGHT\\x12\\x05\\x1a\\x03\\n\\x01@\\n6\\n\\tFONT_NAME\\x12)\\n\\'\\n%kouichi.sakurai font felt pen_Regular\\n\\x0e\\n\\x05DEPTH\\x12\\x05\\x1a\\x03\\n\\x01\\x01'>"
      ]
     },
     "execution_count": 11,
     "metadata": {},
     "output_type": "execute_result"
    }
   ],
   "source": [
    "for raw_record in raw_dataset:\n",
    "    break\n",
    "    \n",
    "raw_record"
   ]
  },
  {
   "cell_type": "code",
   "execution_count": 12,
   "metadata": {},
   "outputs": [
    {
     "data": {
      "text/plain": [
       "b'\\n\\xa6\\n\\n\\xf1\\x07\\n\\tPNG_IMAGE\\x12\\xe3\\x07\\n\\xe0\\x07\\n\\xdd\\x07\\x89PNG\\r\\n\\x1a\\n\\x00\\x00\\x00\\rIHDR\\x00\\x00\\x00@\\x00\\x00\\x00@\\x08\\x00\\x00\\x00\\x00\\x8f\\x02.\\x02\\x00\\x00\\x03\\xa4IDATx\\x9c\\xedV[HTQ\\x14]c\\x16\\xa9e\\x91\\x96\\x95B\\x16\\xa9}T\\x98Sa\\xe2\\xa34zPI\\xf4\\x80\\nz\\xf8Qf\\x85TB\\x14\\x11d%\\xfaa\\x10\\xf4\\xa4 \\x8d\\xc8\"\\xea\\xc3\\xec\\x81\\x06\\xd6G\\x92\\xd0;\\xc9^\\x82Zc\\x16ZFO\\xd3\\x99\\xbb\\xfb\\x98\\xbb\\xcf\\x9c{\\xef\\xdc\\xb9\\xe3\\xf8\\x15\\xb4\\x7f\\xee>{\\x9f\\xb5\\xf69{\\x9f\\xbb\\xcf\\x01\\xfe\\x8b\\xa9\\x9ch\\xec\\xa9\\x8a\\xeb\\x07>\\xa8\\x9b\\x88zJ\\xc3\\x03&\\x98@DD\\xf4iM\\xa0\\x04\\x0b\\xdc\\x04\\xf4\\xdcjb\\x90\\x89=^\\xfd\\x8e\\xee/A\\xe4\\xc0\\x00\\t\\x12\\xd4\\xaf-\\xc2j\\t&\\xd2\\xaa\\xe6\\xa0{@`\\xf8\\x10E%xf5\\xd3d\\x0bq6Uy\\x19 \\x01\\xe7\\x10\\x8d\\xfd%\\x98\\x93\\x88\\xc8\\x94\\x19\\xc1V4\\x00\\x86G\\xe7,L\\x8a\\x0e\\x06\\x80\\x81\\x93W\\xd5\\x13\\x8b\\xd2ED]%\\xc3\\xac\\xf0\\xdb\\xdd\\xd3]\\x1f\\x1f\\xdfj\\xe8!\\xa34\\'\\xfa\\xc6\\xdb\\xde{\\x01i\\xa4\\xc3\\xe4\\xd7Ts@\\xc5VK\\x8c\\\\\\xec\\x93\\x00\\xa7-\\xeb\\x15\\xed\\xdd\\xcc\\xf9uNN\\xb0\\xdb\\xed\\xd3\\x86\\x98\\x13\\x8c\\xb1\\x8a\\x00\\x00A\\x93\\xd6\\x96\\xbd\\xd3l\\xbd\\xfaf\\x1b\\x11\\x11\\xb5\\xd7,\\xf3\\x87\\x00\\x00\\x10\\x9fw\\xf5\\xb3 \\xd8\\x00\\x8c\\xcc\\\\\\x9a\\xd1\\xd7_*h\\x1b\\x13\\x1c\\xf6\\xe7\\x0cy\\x91\\xa5\\x9e\\x03p\\xad\\x97\\xa8\\xb9\\xb2p\\x9e\\x8f\\xf4\\xf8$\\x10\\xd2[\\xb7\\xab\\x0f]z\\x8d\\xf7\\xd3\\xf4(\\xcf\\xf2H\\xbbe\\xdd\\x0f\\xb3\\x03\\xf9\\xb34\\xca\\x1a\\x1eV\\xee\\xebL\\xff*\\x1al\\x81\\x9f\\xf2\\xd2\\x17\\x9e\\x88\\xdef\\xf9\\xc4o\\xfa\\xad\\x89w\\xe7hnJx\\xc8\\xc8\\xa9+\\x8b\\xea\\x9dlT\\x0e\\x98\\xf5b \\xfc\\x926\\xdaM\\xc97j\\xe7\\x176W\\x0f7\\xc1\\xdb\\x9bt\\xcb\\xad\\x90\\xbd\\xeb\\x14a\\x7f\\xea=\\x97\\xf9\\x7f\\xf4\\xfb=)y\\x17\\xf4J\\x8e71^\\xf0%\\xc6\\x84I}b\\xba\\xb6\\xb6\\xb56\\x03>[1\\x12\\xec\\xf6\\xb8\\x1f\\xe8\\\\\\xeb\\xf5\\xf8\\xf1]F<\\xe5\\t\\xf7\\\\\\xbd\\xabA\\x87\\xb7\\xdd\\x17\\xae\\xde\\x8a\\x1aV\\xf3\\x85\\xff\\xae\\x81\\xdc\\xae%\\xd8(\\x1c\\x1d\\xb3\\xb1\\x9a\\xf5\\xe3\\xec^a\\\\\\xddN\\r>\\xa2\\x93\\xed\\xcfb\\x81\\x02\\x1e\\xdcR\\xdd!-F\\x822@\\xba\\x99\\x0eq\\xd3iNo\\x01\\x86\\xb2\\xb9[\\xfd\\x96\\x8cc\\xcb\\x9e\\x14\\x85c\\xca\\x0b\\x18\\xc3\\'@\\x99\\x05\\x00\\xc5\\x1c\\xe5\\xac\\xdb=_\\x14\\xa8)8\\x93\\xd5\\x1b\\xf2\\nv\\x0cR\\x95\\xb2\\xfbr`t\\x01\\x00b\\xcaE\\xd1\\xf7;3Xm\\x95\\x08\\x86\\xe5\\xaaF\\xe7A\\x00\\xc0W\\rAX\\x95x*5V \\x9d\\xf5\\x16\\x89`\\x15?\\x08\\xabZ<>AP\\x9e(\\xb6\\xbaO\\x19\\x94\\xcc\\xfa+)\\x05\\xb5\\xbc\\xaf\\xe5\\xee\\xf1D\\x1eo\\x07\\xb0\\xd0\\x93\\xf8\\x876\\xa4\\xb2\\xae\\x8c\\xf0\\xe0\\xa3\\\\\\xaa\\xd1\\xc5=\\xef\\x93(U\\xd4)\\xd1\\x07\\xc89\\x17\\xd8+\\xca--`3\\x1b\\xc5\\xbb\\x92\\xbbZ\\xeb\\xfe\\x0eO\\xfc\\x1f\\x8b\\x00T\\xf3\\xa8D\"(d\\xe3e\\xb6\\xcc3\\x9e\\x1bj\\x9b\\x06 \\xf8;\\x0f\\xdd/Aw\\x12E\\x91\\x1c\\xac\\xdc\\x963\\xe4\\x96\\x86\\xe4\\'\\x00\\x92\\xf8\\x82\\xb9\\xf7Z\"\\xe8\\xd4$\\x1d\\x00\\xa8P\\x8f\\xafI}\\x0f\\xc0S\\xc4RH\\x04\\xe2q@b\\xfe\\xa5GZ\\xfc\\x85E\\xdf\\x00\\x00\\xdc\\x88\\xea*e\\x82\\xfa_\\xaay\\xac\\x00LP \\x89\\xf3X\\x8eS\\xc3\\xf7\\xa5@\\xcb\\x7f\\x9e\\xeb\\x94\\x06\\x00\\xb6\\xe4\\xe2\\x17\\x9a\\xf4U&\\x88\\x99G\\x88\\x88^o\\t\\xd5m0\\x8e/\\x83w3\\x13\\x97\\x9c\\xf9\\xa8K\\xffuifhV\\xe1\\xe5lc;\\xc4V\\x17\\x99H\\xf7\\xc5L/\\xf3\\x8d\\x92\\xf5\\xc1+\\xfc\\xc5\\x0e\\xbf\\x1f\\'\\x11G\\x0c\\x97B\\xcf\\xb9T\\x7f\\xd1\\x00\\x80\\xd8Ri\\x15NG\\xfd\\x95\\x1c?@\\xda\\xed\\rHKM\\x0eos8\\x1c\\x8e\\xb6vW\\x9f\\x82\\xff\\xcb\\xf2\\x17+L(\\x07\\xecu\\xa0\\x98\\x00\\x00\\x00\\x00IEND\\xaeB`\\x82\\no\\n\\x0bDESCRIPTION\\x12`\\n^\\n\\\\\\xe3\\x81\\x82 grayscale image created with font kouichi.sakurai font felt pen_Regular at font size 64.\\n\\x14\\n\\tCHARACTER\\x12\\x07\\n\\x05\\n\\x03\\xe3\\x81\\x82\\n,\\n\\x04HASH\\x12$\\n\"\\n 00E91A9751CC0B445BAE875C8FEACF9F\\n\\x12\\n\\tFONT_SIZE\\x12\\x05\\x1a\\x03\\n\\x01@\\n\\x0e\\n\\x05WIDTH\\x12\\x05\\x1a\\x03\\n\\x01@\\n\\x0f\\n\\x06HEIGHT\\x12\\x05\\x1a\\x03\\n\\x01@\\n6\\n\\tFONT_NAME\\x12)\\n\\'\\n%kouichi.sakurai font felt pen_Regular\\n\\x0e\\n\\x05DEPTH\\x12\\x05\\x1a\\x03\\n\\x01\\x01'"
      ]
     },
     "execution_count": 12,
     "metadata": {},
     "output_type": "execute_result"
    }
   ],
   "source": [
    "raw_record.numpy()"
   ]
  },
  {
   "cell_type": "code",
   "execution_count": 13,
   "metadata": {
    "scrolled": true
   },
   "outputs": [
    {
     "data": {
      "text/plain": [
       "features {\n",
       "  feature {\n",
       "    key: \"CHARACTER\"\n",
       "    value {\n",
       "      bytes_list {\n",
       "        value: \"\\343\\201\\202\"\n",
       "      }\n",
       "    }\n",
       "  }\n",
       "  feature {\n",
       "    key: \"DEPTH\"\n",
       "    value {\n",
       "      int64_list {\n",
       "        value: 1\n",
       "      }\n",
       "    }\n",
       "  }\n",
       "  feature {\n",
       "    key: \"DESCRIPTION\"\n",
       "    value {\n",
       "      bytes_list {\n",
       "        value: \"\\343\\201\\202 grayscale image created with font kouichi.sakurai font felt pen_Regular at font size 64.\"\n",
       "      }\n",
       "    }\n",
       "  }\n",
       "  feature {\n",
       "    key: \"FONT_NAME\"\n",
       "    value {\n",
       "      bytes_list {\n",
       "        value: \"kouichi.sakurai font felt pen_Regular\"\n",
       "      }\n",
       "    }\n",
       "  }\n",
       "  feature {\n",
       "    key: \"FONT_SIZE\"\n",
       "    value {\n",
       "      int64_list {\n",
       "        value: 64\n",
       "      }\n",
       "    }\n",
       "  }\n",
       "  feature {\n",
       "    key: \"HASH\"\n",
       "    value {\n",
       "      bytes_list {\n",
       "        value: \"00E91A9751CC0B445BAE875C8FEACF9F\"\n",
       "      }\n",
       "    }\n",
       "  }\n",
       "  feature {\n",
       "    key: \"HEIGHT\"\n",
       "    value {\n",
       "      int64_list {\n",
       "        value: 64\n",
       "      }\n",
       "    }\n",
       "  }\n",
       "  feature {\n",
       "    key: \"PNG_IMAGE\"\n",
       "    value {\n",
       "      bytes_list {\n",
       "        value: \"\\211PNG\\r\\n\\032\\n\\000\\000\\000\\rIHDR\\000\\000\\000@\\000\\000\\000@\\010\\000\\000\\000\\000\\217\\002.\\002\\000\\000\\003\\244IDATx\\234\\355V[HTQ\\024]c\\026\\251e\\221\\226\\225B\\026\\251}T\\230Sa\\342\\2434zPI\\364\\200\\nz\\370Qf\\205TB\\024\\021d%\\372a\\020\\364\\244 \\215\\310\\\"\\352\\303\\354\\201\\006\\326G\\222\\320;\\311^\\202Zc\\026ZFO\\323\\231\\273\\373\\230\\273\\317\\234{\\357\\334\\271\\343\\370\\025\\264\\177\\356>{\\237\\265\\3669{\\237\\273\\317\\001\\376\\213\\251\\234h\\354\\251\\212\\353\\007>\\250\\233\\210zJ\\303\\003&\\230@DD\\364iM\\240\\004\\013\\334\\004\\364\\334jb\\220\\211=^\\375\\216\\356/A\\344\\300\\000\\t\\022\\324\\257-\\302j\\t&\\322\\252\\346\\240{@`\\370\\020E%xf5\\323d\\013q6Uy\\031 \\001\\347\\020\\215\\375%\\230\\223\\210\\310\\224\\031\\301V4\\000\\206G\\347,L\\212\\016\\006\\200\\201\\223W\\325\\023\\213\\322ED]%\\303\\254\\360\\333\\335\\323]\\037\\037\\337j\\350!\\2434\\'\\372\\306\\333\\336{\\001i\\244\\303\\344\\327Ts@\\305VK\\214\\\\\\354\\223\\000\\247-\\353\\025\\355\\335\\314\\371uNN\\260\\333\\355\\323\\206\\230\\023\\214\\261\\212\\000\\000A\\223\\326\\226\\275\\323l\\275\\372f\\033\\021\\021\\265\\327,\\363\\207\\000\\000\\020\\237w\\365\\263 \\330\\000\\214\\314\\\\\\232\\321\\327_*h\\033\\023\\034\\366\\347\\014y\\221\\245\\236\\003p\\255\\227\\250\\271\\262p\\236\\217\\364\\370$\\020\\322[\\267\\253\\017]z\\215\\367\\323\\364(\\317\\362H\\273e\\335\\017\\263\\003\\371\\2634\\312\\032\\036V\\356\\353L\\377*\\032l\\201\\237\\362\\322\\027\\236\\210\\336f\\371\\304o\\372\\255\\211w\\347hnJx\\310\\310\\251+\\213\\352\\235lT\\016\\230\\365b \\374\\2226\\332M\\3117j\\347\\0276W\\0177\\301\\333\\233t\\313\\255\\220\\275\\353\\024a\\177\\352=\\227\\371\\177\\364\\373=)y\\027\\364J\\21671^\\360%\\306\\204I}b\\272\\266\\266\\2656\\003>[1\\022\\354\\366\\270\\037\\350\\\\\\353\\365\\370\\361]F<\\345\\t\\367\\\\\\275\\253A\\207\\267\\335\\027\\256\\336\\212\\032V\\363\\205\\377\\256\\201\\334\\256%\\330(\\034\\035\\263\\261\\232\\365\\343\\354^a\\\\\\335N\\r>\\242\\223\\355\\317b\\201\\002\\036\\334R\\335!-F\\2022@\\272\\231\\016q\\323iNo\\001\\206\\262\\271[\\375\\226\\214c\\313\\236\\024\\205c\\312\\013\\030\\303\\'@\\231\\005\\000\\305\\034\\345\\254\\333=_\\024\\250)8\\223\\325\\033\\362\\nv\\014R\\225\\262\\373r`t\\001\\000b\\312E\\321\\367;3Xm\\225\\010\\206\\345\\252F\\347A\\000\\300W\\rAX\\225x*5V \\235\\365\\026\\211`\\025?\\010\\253Z<>AP\\236(\\266\\272O\\031\\224\\314\\372+)\\005\\265\\274\\257\\345\\356\\361D\\036o\\007\\260\\320\\223\\370\\2076\\244\\262\\256\\214\\360\\340\\243\\\\\\252\\321\\305=\\357\\223(U\\324)\\321\\007\\3109\\027\\330+\\312--`3\\033\\305\\273\\222\\273Z\\353\\376\\016O\\374\\037\\213\\000T\\363\\250D\\\"(d\\343e\\266\\3143\\236\\033j\\233\\006 \\370;\\017\\335/Aw\\022E\\221\\034\\254\\334\\2263\\344\\226\\206\\344\\'\\000\\222\\370\\202\\271\\367Z\\\"\\350\\324$\\035\\000\\250P\\217\\257I}\\017\\300S\\304RH\\004\\342q@b\\376\\245GZ\\374\\205E\\337\\000\\000\\334\\210\\352*e\\202\\372_\\252y\\254\\000LP \\211\\363X\\216S\\303\\367\\245@\\313\\177\\236\\353\\224\\006\\000\\266\\344\\342\\027\\232\\364U&\\210\\231G\\210\\210^o\\t\\325m0\\216/\\203w3\\023\\227\\234\\371\\250K\\377uifhV\\341\\345lc;\\304V\\027\\231H\\367\\305L/\\363\\215\\222\\365\\301+\\374\\305\\016\\277\\037\\'\\021G\\014\\227B\\317\\271T\\177\\321\\000\\200\\330Ri\\025NG\\375\\225\\034?@\\332\\355\\rHKM\\016os8\\034\\216\\266vW\\237\\202\\377\\313\\362\\027+L(\\007\\354u\\240\\230\\000\\000\\000\\000IEND\\256B`\\202\"\n",
       "      }\n",
       "    }\n",
       "  }\n",
       "  feature {\n",
       "    key: \"WIDTH\"\n",
       "    value {\n",
       "      int64_list {\n",
       "        value: 64\n",
       "      }\n",
       "    }\n",
       "  }\n",
       "}"
      ]
     },
     "execution_count": 13,
     "metadata": {},
     "output_type": "execute_result"
    }
   ],
   "source": [
    "example = tf.train.Example()\n",
    "example.ParseFromString(raw_record.numpy())\n",
    "example"
   ]
  },
  {
   "cell_type": "code",
   "execution_count": 27,
   "metadata": {},
   "outputs": [],
   "source": [
    "from tensorflow_utils import *"
   ]
  },
  {
   "cell_type": "code",
   "execution_count": 31,
   "metadata": {},
   "outputs": [
    {
     "data": {
      "text/plain": [
       "<tf.Tensor: shape=(), dtype=string, numpy=b'\\n\\xa6\\n\\n\\xf1\\x07\\n\\tPNG_IMAGE\\x12\\xe3\\x07\\n\\xe0\\x07\\n\\xdd\\x07\\x89PNG\\r\\n\\x1a\\n\\x00\\x00\\x00\\rIHDR\\x00\\x00\\x00@\\x00\\x00\\x00@\\x08\\x00\\x00\\x00\\x00\\x8f\\x02.\\x02\\x00\\x00\\x03\\xa4IDATx\\x9c\\xedV[HTQ\\x14]c\\x16\\xa9e\\x91\\x96\\x95B\\x16\\xa9}T\\x98Sa\\xe2\\xa34zPI\\xf4\\x80\\nz\\xf8Qf\\x85TB\\x14\\x11d%\\xfaa\\x10\\xf4\\xa4 \\x8d\\xc8\"\\xea\\xc3\\xec\\x81\\x06\\xd6G\\x92\\xd0;\\xc9^\\x82Zc\\x16ZFO\\xd3\\x99\\xbb\\xfb\\x98\\xbb\\xcf\\x9c{\\xef\\xdc\\xb9\\xe3\\xf8\\x15\\xb4\\x7f\\xee>{\\x9f\\xb5\\xf69{\\x9f\\xbb\\xcf\\x01\\xfe\\x8b\\xa9\\x9ch\\xec\\xa9\\x8a\\xeb\\x07>\\xa8\\x9b\\x88zJ\\xc3\\x03&\\x98@DD\\xf4iM\\xa0\\x04\\x0b\\xdc\\x04\\xf4\\xdcjb\\x90\\x89=^\\xfd\\x8e\\xee/A\\xe4\\xc0\\x00\\t\\x12\\xd4\\xaf-\\xc2j\\t&\\xd2\\xaa\\xe6\\xa0{@`\\xf8\\x10E%xf5\\xd3d\\x0bq6Uy\\x19 \\x01\\xe7\\x10\\x8d\\xfd%\\x98\\x93\\x88\\xc8\\x94\\x19\\xc1V4\\x00\\x86G\\xe7,L\\x8a\\x0e\\x06\\x80\\x81\\x93W\\xd5\\x13\\x8b\\xd2ED]%\\xc3\\xac\\xf0\\xdb\\xdd\\xd3]\\x1f\\x1f\\xdfj\\xe8!\\xa34\\'\\xfa\\xc6\\xdb\\xde{\\x01i\\xa4\\xc3\\xe4\\xd7Ts@\\xc5VK\\x8c\\\\\\xec\\x93\\x00\\xa7-\\xeb\\x15\\xed\\xdd\\xcc\\xf9uNN\\xb0\\xdb\\xed\\xd3\\x86\\x98\\x13\\x8c\\xb1\\x8a\\x00\\x00A\\x93\\xd6\\x96\\xbd\\xd3l\\xbd\\xfaf\\x1b\\x11\\x11\\xb5\\xd7,\\xf3\\x87\\x00\\x00\\x10\\x9fw\\xf5\\xb3 \\xd8\\x00\\x8c\\xcc\\\\\\x9a\\xd1\\xd7_*h\\x1b\\x13\\x1c\\xf6\\xe7\\x0cy\\x91\\xa5\\x9e\\x03p\\xad\\x97\\xa8\\xb9\\xb2p\\x9e\\x8f\\xf4\\xf8$\\x10\\xd2[\\xb7\\xab\\x0f]z\\x8d\\xf7\\xd3\\xf4(\\xcf\\xf2H\\xbbe\\xdd\\x0f\\xb3\\x03\\xf9\\xb34\\xca\\x1a\\x1eV\\xee\\xebL\\xff*\\x1al\\x81\\x9f\\xf2\\xd2\\x17\\x9e\\x88\\xdef\\xf9\\xc4o\\xfa\\xad\\x89w\\xe7hnJx\\xc8\\xc8\\xa9+\\x8b\\xea\\x9dlT\\x0e\\x98\\xf5b \\xfc\\x926\\xdaM\\xc97j\\xe7\\x176W\\x0f7\\xc1\\xdb\\x9bt\\xcb\\xad\\x90\\xbd\\xeb\\x14a\\x7f\\xea=\\x97\\xf9\\x7f\\xf4\\xfb=)y\\x17\\xf4J\\x8e71^\\xf0%\\xc6\\x84I}b\\xba\\xb6\\xb6\\xb56\\x03>[1\\x12\\xec\\xf6\\xb8\\x1f\\xe8\\\\\\xeb\\xf5\\xf8\\xf1]F<\\xe5\\t\\xf7\\\\\\xbd\\xabA\\x87\\xb7\\xdd\\x17\\xae\\xde\\x8a\\x1aV\\xf3\\x85\\xff\\xae\\x81\\xdc\\xae%\\xd8(\\x1c\\x1d\\xb3\\xb1\\x9a\\xf5\\xe3\\xec^a\\\\\\xddN\\r>\\xa2\\x93\\xed\\xcfb\\x81\\x02\\x1e\\xdcR\\xdd!-F\\x822@\\xba\\x99\\x0eq\\xd3iNo\\x01\\x86\\xb2\\xb9[\\xfd\\x96\\x8cc\\xcb\\x9e\\x14\\x85c\\xca\\x0b\\x18\\xc3\\'@\\x99\\x05\\x00\\xc5\\x1c\\xe5\\xac\\xdb=_\\x14\\xa8)8\\x93\\xd5\\x1b\\xf2\\nv\\x0cR\\x95\\xb2\\xfbr`t\\x01\\x00b\\xcaE\\xd1\\xf7;3Xm\\x95\\x08\\x86\\xe5\\xaaF\\xe7A\\x00\\xc0W\\rAX\\x95x*5V \\x9d\\xf5\\x16\\x89`\\x15?\\x08\\xabZ<>AP\\x9e(\\xb6\\xbaO\\x19\\x94\\xcc\\xfa+)\\x05\\xb5\\xbc\\xaf\\xe5\\xee\\xf1D\\x1eo\\x07\\xb0\\xd0\\x93\\xf8\\x876\\xa4\\xb2\\xae\\x8c\\xf0\\xe0\\xa3\\\\\\xaa\\xd1\\xc5=\\xef\\x93(U\\xd4)\\xd1\\x07\\xc89\\x17\\xd8+\\xca--`3\\x1b\\xc5\\xbb\\x92\\xbbZ\\xeb\\xfe\\x0eO\\xfc\\x1f\\x8b\\x00T\\xf3\\xa8D\"(d\\xe3e\\xb6\\xcc3\\x9e\\x1bj\\x9b\\x06 \\xf8;\\x0f\\xdd/Aw\\x12E\\x91\\x1c\\xac\\xdc\\x963\\xe4\\x96\\x86\\xe4\\'\\x00\\x92\\xf8\\x82\\xb9\\xf7Z\"\\xe8\\xd4$\\x1d\\x00\\xa8P\\x8f\\xafI}\\x0f\\xc0S\\xc4RH\\x04\\xe2q@b\\xfe\\xa5GZ\\xfc\\x85E\\xdf\\x00\\x00\\xdc\\x88\\xea*e\\x82\\xfa_\\xaay\\xac\\x00LP \\x89\\xf3X\\x8eS\\xc3\\xf7\\xa5@\\xcb\\x7f\\x9e\\xeb\\x94\\x06\\x00\\xb6\\xe4\\xe2\\x17\\x9a\\xf4U&\\x88\\x99G\\x88\\x88^o\\t\\xd5m0\\x8e/\\x83w3\\x13\\x97\\x9c\\xf9\\xa8K\\xffuifhV\\xe1\\xe5lc;\\xc4V\\x17\\x99H\\xf7\\xc5L/\\xf3\\x8d\\x92\\xf5\\xc1+\\xfc\\xc5\\x0e\\xbf\\x1f\\'\\x11G\\x0c\\x97B\\xcf\\xb9T\\x7f\\xd1\\x00\\x80\\xd8Ri\\x15NG\\xfd\\x95\\x1c?@\\xda\\xed\\rHKM\\x0eos8\\x1c\\x8e\\xb6vW\\x9f\\x82\\xff\\xcb\\xf2\\x17+L(\\x07\\xecu\\xa0\\x98\\x00\\x00\\x00\\x00IEND\\xaeB`\\x82\\no\\n\\x0bDESCRIPTION\\x12`\\n^\\n\\\\\\xe3\\x81\\x82 grayscale image created with font kouichi.sakurai font felt pen_Regular at font size 64.\\n\\x14\\n\\tCHARACTER\\x12\\x07\\n\\x05\\n\\x03\\xe3\\x81\\x82\\n,\\n\\x04HASH\\x12$\\n\"\\n 00E91A9751CC0B445BAE875C8FEACF9F\\n\\x12\\n\\tFONT_SIZE\\x12\\x05\\x1a\\x03\\n\\x01@\\n\\x0e\\n\\x05WIDTH\\x12\\x05\\x1a\\x03\\n\\x01@\\n\\x0f\\n\\x06HEIGHT\\x12\\x05\\x1a\\x03\\n\\x01@\\n6\\n\\tFONT_NAME\\x12)\\n\\'\\n%kouichi.sakurai font felt pen_Regular\\n\\x0e\\n\\x05DEPTH\\x12\\x05\\x1a\\x03\\n\\x01\\x01'>"
      ]
     },
     "execution_count": 31,
     "metadata": {},
     "output_type": "execute_result"
    }
   ],
   "source": [
    "raw_record"
   ]
  },
  {
   "cell_type": "code",
   "execution_count": 32,
   "metadata": {},
   "outputs": [
    {
     "data": {
      "text/plain": [
       "b'\\n\\xa6\\n\\n\\xf1\\x07\\n\\tPNG_IMAGE\\x12\\xe3\\x07\\n\\xe0\\x07\\n\\xdd\\x07\\x89PNG\\r\\n\\x1a\\n\\x00\\x00\\x00\\rIHDR\\x00\\x00\\x00@\\x00\\x00\\x00@\\x08\\x00\\x00\\x00\\x00\\x8f\\x02.\\x02\\x00\\x00\\x03\\xa4IDATx\\x9c\\xedV[HTQ\\x14]c\\x16\\xa9e\\x91\\x96\\x95B\\x16\\xa9}T\\x98Sa\\xe2\\xa34zPI\\xf4\\x80\\nz\\xf8Qf\\x85TB\\x14\\x11d%\\xfaa\\x10\\xf4\\xa4 \\x8d\\xc8\"\\xea\\xc3\\xec\\x81\\x06\\xd6G\\x92\\xd0;\\xc9^\\x82Zc\\x16ZFO\\xd3\\x99\\xbb\\xfb\\x98\\xbb\\xcf\\x9c{\\xef\\xdc\\xb9\\xe3\\xf8\\x15\\xb4\\x7f\\xee>{\\x9f\\xb5\\xf69{\\x9f\\xbb\\xcf\\x01\\xfe\\x8b\\xa9\\x9ch\\xec\\xa9\\x8a\\xeb\\x07>\\xa8\\x9b\\x88zJ\\xc3\\x03&\\x98@DD\\xf4iM\\xa0\\x04\\x0b\\xdc\\x04\\xf4\\xdcjb\\x90\\x89=^\\xfd\\x8e\\xee/A\\xe4\\xc0\\x00\\t\\x12\\xd4\\xaf-\\xc2j\\t&\\xd2\\xaa\\xe6\\xa0{@`\\xf8\\x10E%xf5\\xd3d\\x0bq6Uy\\x19 \\x01\\xe7\\x10\\x8d\\xfd%\\x98\\x93\\x88\\xc8\\x94\\x19\\xc1V4\\x00\\x86G\\xe7,L\\x8a\\x0e\\x06\\x80\\x81\\x93W\\xd5\\x13\\x8b\\xd2ED]%\\xc3\\xac\\xf0\\xdb\\xdd\\xd3]\\x1f\\x1f\\xdfj\\xe8!\\xa34\\'\\xfa\\xc6\\xdb\\xde{\\x01i\\xa4\\xc3\\xe4\\xd7Ts@\\xc5VK\\x8c\\\\\\xec\\x93\\x00\\xa7-\\xeb\\x15\\xed\\xdd\\xcc\\xf9uNN\\xb0\\xdb\\xed\\xd3\\x86\\x98\\x13\\x8c\\xb1\\x8a\\x00\\x00A\\x93\\xd6\\x96\\xbd\\xd3l\\xbd\\xfaf\\x1b\\x11\\x11\\xb5\\xd7,\\xf3\\x87\\x00\\x00\\x10\\x9fw\\xf5\\xb3 \\xd8\\x00\\x8c\\xcc\\\\\\x9a\\xd1\\xd7_*h\\x1b\\x13\\x1c\\xf6\\xe7\\x0cy\\x91\\xa5\\x9e\\x03p\\xad\\x97\\xa8\\xb9\\xb2p\\x9e\\x8f\\xf4\\xf8$\\x10\\xd2[\\xb7\\xab\\x0f]z\\x8d\\xf7\\xd3\\xf4(\\xcf\\xf2H\\xbbe\\xdd\\x0f\\xb3\\x03\\xf9\\xb34\\xca\\x1a\\x1eV\\xee\\xebL\\xff*\\x1al\\x81\\x9f\\xf2\\xd2\\x17\\x9e\\x88\\xdef\\xf9\\xc4o\\xfa\\xad\\x89w\\xe7hnJx\\xc8\\xc8\\xa9+\\x8b\\xea\\x9dlT\\x0e\\x98\\xf5b \\xfc\\x926\\xdaM\\xc97j\\xe7\\x176W\\x0f7\\xc1\\xdb\\x9bt\\xcb\\xad\\x90\\xbd\\xeb\\x14a\\x7f\\xea=\\x97\\xf9\\x7f\\xf4\\xfb=)y\\x17\\xf4J\\x8e71^\\xf0%\\xc6\\x84I}b\\xba\\xb6\\xb6\\xb56\\x03>[1\\x12\\xec\\xf6\\xb8\\x1f\\xe8\\\\\\xeb\\xf5\\xf8\\xf1]F<\\xe5\\t\\xf7\\\\\\xbd\\xabA\\x87\\xb7\\xdd\\x17\\xae\\xde\\x8a\\x1aV\\xf3\\x85\\xff\\xae\\x81\\xdc\\xae%\\xd8(\\x1c\\x1d\\xb3\\xb1\\x9a\\xf5\\xe3\\xec^a\\\\\\xddN\\r>\\xa2\\x93\\xed\\xcfb\\x81\\x02\\x1e\\xdcR\\xdd!-F\\x822@\\xba\\x99\\x0eq\\xd3iNo\\x01\\x86\\xb2\\xb9[\\xfd\\x96\\x8cc\\xcb\\x9e\\x14\\x85c\\xca\\x0b\\x18\\xc3\\'@\\x99\\x05\\x00\\xc5\\x1c\\xe5\\xac\\xdb=_\\x14\\xa8)8\\x93\\xd5\\x1b\\xf2\\nv\\x0cR\\x95\\xb2\\xfbr`t\\x01\\x00b\\xcaE\\xd1\\xf7;3Xm\\x95\\x08\\x86\\xe5\\xaaF\\xe7A\\x00\\xc0W\\rAX\\x95x*5V \\x9d\\xf5\\x16\\x89`\\x15?\\x08\\xabZ<>AP\\x9e(\\xb6\\xbaO\\x19\\x94\\xcc\\xfa+)\\x05\\xb5\\xbc\\xaf\\xe5\\xee\\xf1D\\x1eo\\x07\\xb0\\xd0\\x93\\xf8\\x876\\xa4\\xb2\\xae\\x8c\\xf0\\xe0\\xa3\\\\\\xaa\\xd1\\xc5=\\xef\\x93(U\\xd4)\\xd1\\x07\\xc89\\x17\\xd8+\\xca--`3\\x1b\\xc5\\xbb\\x92\\xbbZ\\xeb\\xfe\\x0eO\\xfc\\x1f\\x8b\\x00T\\xf3\\xa8D\"(d\\xe3e\\xb6\\xcc3\\x9e\\x1bj\\x9b\\x06 \\xf8;\\x0f\\xdd/Aw\\x12E\\x91\\x1c\\xac\\xdc\\x963\\xe4\\x96\\x86\\xe4\\'\\x00\\x92\\xf8\\x82\\xb9\\xf7Z\"\\xe8\\xd4$\\x1d\\x00\\xa8P\\x8f\\xafI}\\x0f\\xc0S\\xc4RH\\x04\\xe2q@b\\xfe\\xa5GZ\\xfc\\x85E\\xdf\\x00\\x00\\xdc\\x88\\xea*e\\x82\\xfa_\\xaay\\xac\\x00LP \\x89\\xf3X\\x8eS\\xc3\\xf7\\xa5@\\xcb\\x7f\\x9e\\xeb\\x94\\x06\\x00\\xb6\\xe4\\xe2\\x17\\x9a\\xf4U&\\x88\\x99G\\x88\\x88^o\\t\\xd5m0\\x8e/\\x83w3\\x13\\x97\\x9c\\xf9\\xa8K\\xffuifhV\\xe1\\xe5lc;\\xc4V\\x17\\x99H\\xf7\\xc5L/\\xf3\\x8d\\x92\\xf5\\xc1+\\xfc\\xc5\\x0e\\xbf\\x1f\\'\\x11G\\x0c\\x97B\\xcf\\xb9T\\x7f\\xd1\\x00\\x80\\xd8Ri\\x15NG\\xfd\\x95\\x1c?@\\xda\\xed\\rHKM\\x0eos8\\x1c\\x8e\\xb6vW\\x9f\\x82\\xff\\xcb\\xf2\\x17+L(\\x07\\xecu\\xa0\\x98\\x00\\x00\\x00\\x00IEND\\xaeB`\\x82\\no\\n\\x0bDESCRIPTION\\x12`\\n^\\n\\\\\\xe3\\x81\\x82 grayscale image created with font kouichi.sakurai font felt pen_Regular at font size 64.\\n\\x14\\n\\tCHARACTER\\x12\\x07\\n\\x05\\n\\x03\\xe3\\x81\\x82\\n,\\n\\x04HASH\\x12$\\n\"\\n 00E91A9751CC0B445BAE875C8FEACF9F\\n\\x12\\n\\tFONT_SIZE\\x12\\x05\\x1a\\x03\\n\\x01@\\n\\x0e\\n\\x05WIDTH\\x12\\x05\\x1a\\x03\\n\\x01@\\n\\x0f\\n\\x06HEIGHT\\x12\\x05\\x1a\\x03\\n\\x01@\\n6\\n\\tFONT_NAME\\x12)\\n\\'\\n%kouichi.sakurai font felt pen_Regular\\n\\x0e\\n\\x05DEPTH\\x12\\x05\\x1a\\x03\\n\\x01\\x01'"
      ]
     },
     "execution_count": 32,
     "metadata": {},
     "output_type": "execute_result"
    }
   ],
   "source": [
    "raw_record.numpy()"
   ]
  },
  {
   "cell_type": "code",
   "execution_count": 30,
   "metadata": {},
   "outputs": [
    {
     "data": {
      "text/plain": [
       "{'CHARACTER': <tf.Tensor: shape=(), dtype=string, numpy=b'\\xe3\\x81\\x82'>,\n",
       " 'DEPTH': <tf.Tensor: shape=(), dtype=int64, numpy=1>,\n",
       " 'DESCRIPTION': <tf.Tensor: shape=(), dtype=string, numpy=b'\\xe3\\x81\\x82 grayscale image created with font kouichi.sakurai font felt pen_Regular at font size 64.'>,\n",
       " 'FONT_NAME': <tf.Tensor: shape=(), dtype=string, numpy=b'kouichi.sakurai font felt pen_Regular'>,\n",
       " 'FONT_SIZE': <tf.Tensor: shape=(), dtype=int64, numpy=64>,\n",
       " 'HASH': <tf.Tensor: shape=(), dtype=string, numpy=b'00E91A9751CC0B445BAE875C8FEACF9F'>,\n",
       " 'HEIGHT': <tf.Tensor: shape=(), dtype=int64, numpy=64>,\n",
       " 'PNG_IMAGE': <tf.Tensor: shape=(), dtype=string, numpy=b'\\x89PNG\\r\\n\\x1a\\n\\x00\\x00\\x00\\rIHDR\\x00\\x00\\x00@\\x00\\x00\\x00@\\x08\\x00\\x00\\x00\\x00\\x8f\\x02.\\x02\\x00\\x00\\x03\\xa4IDATx\\x9c\\xedV[HTQ\\x14]c\\x16\\xa9e\\x91\\x96\\x95B\\x16\\xa9}T\\x98Sa\\xe2\\xa34zPI\\xf4\\x80\\nz\\xf8Qf\\x85TB\\x14\\x11d%\\xfaa\\x10\\xf4\\xa4 \\x8d\\xc8\"\\xea\\xc3\\xec\\x81\\x06\\xd6G\\x92\\xd0;\\xc9^\\x82Zc\\x16ZFO\\xd3\\x99\\xbb\\xfb\\x98\\xbb\\xcf\\x9c{\\xef\\xdc\\xb9\\xe3\\xf8\\x15\\xb4\\x7f\\xee>{\\x9f\\xb5\\xf69{\\x9f\\xbb\\xcf\\x01\\xfe\\x8b\\xa9\\x9ch\\xec\\xa9\\x8a\\xeb\\x07>\\xa8\\x9b\\x88zJ\\xc3\\x03&\\x98@DD\\xf4iM\\xa0\\x04\\x0b\\xdc\\x04\\xf4\\xdcjb\\x90\\x89=^\\xfd\\x8e\\xee/A\\xe4\\xc0\\x00\\t\\x12\\xd4\\xaf-\\xc2j\\t&\\xd2\\xaa\\xe6\\xa0{@`\\xf8\\x10E%xf5\\xd3d\\x0bq6Uy\\x19 \\x01\\xe7\\x10\\x8d\\xfd%\\x98\\x93\\x88\\xc8\\x94\\x19\\xc1V4\\x00\\x86G\\xe7,L\\x8a\\x0e\\x06\\x80\\x81\\x93W\\xd5\\x13\\x8b\\xd2ED]%\\xc3\\xac\\xf0\\xdb\\xdd\\xd3]\\x1f\\x1f\\xdfj\\xe8!\\xa34\\'\\xfa\\xc6\\xdb\\xde{\\x01i\\xa4\\xc3\\xe4\\xd7Ts@\\xc5VK\\x8c\\\\\\xec\\x93\\x00\\xa7-\\xeb\\x15\\xed\\xdd\\xcc\\xf9uNN\\xb0\\xdb\\xed\\xd3\\x86\\x98\\x13\\x8c\\xb1\\x8a\\x00\\x00A\\x93\\xd6\\x96\\xbd\\xd3l\\xbd\\xfaf\\x1b\\x11\\x11\\xb5\\xd7,\\xf3\\x87\\x00\\x00\\x10\\x9fw\\xf5\\xb3 \\xd8\\x00\\x8c\\xcc\\\\\\x9a\\xd1\\xd7_*h\\x1b\\x13\\x1c\\xf6\\xe7\\x0cy\\x91\\xa5\\x9e\\x03p\\xad\\x97\\xa8\\xb9\\xb2p\\x9e\\x8f\\xf4\\xf8$\\x10\\xd2[\\xb7\\xab\\x0f]z\\x8d\\xf7\\xd3\\xf4(\\xcf\\xf2H\\xbbe\\xdd\\x0f\\xb3\\x03\\xf9\\xb34\\xca\\x1a\\x1eV\\xee\\xebL\\xff*\\x1al\\x81\\x9f\\xf2\\xd2\\x17\\x9e\\x88\\xdef\\xf9\\xc4o\\xfa\\xad\\x89w\\xe7hnJx\\xc8\\xc8\\xa9+\\x8b\\xea\\x9dlT\\x0e\\x98\\xf5b \\xfc\\x926\\xdaM\\xc97j\\xe7\\x176W\\x0f7\\xc1\\xdb\\x9bt\\xcb\\xad\\x90\\xbd\\xeb\\x14a\\x7f\\xea=\\x97\\xf9\\x7f\\xf4\\xfb=)y\\x17\\xf4J\\x8e71^\\xf0%\\xc6\\x84I}b\\xba\\xb6\\xb6\\xb56\\x03>[1\\x12\\xec\\xf6\\xb8\\x1f\\xe8\\\\\\xeb\\xf5\\xf8\\xf1]F<\\xe5\\t\\xf7\\\\\\xbd\\xabA\\x87\\xb7\\xdd\\x17\\xae\\xde\\x8a\\x1aV\\xf3\\x85\\xff\\xae\\x81\\xdc\\xae%\\xd8(\\x1c\\x1d\\xb3\\xb1\\x9a\\xf5\\xe3\\xec^a\\\\\\xddN\\r>\\xa2\\x93\\xed\\xcfb\\x81\\x02\\x1e\\xdcR\\xdd!-F\\x822@\\xba\\x99\\x0eq\\xd3iNo\\x01\\x86\\xb2\\xb9[\\xfd\\x96\\x8cc\\xcb\\x9e\\x14\\x85c\\xca\\x0b\\x18\\xc3\\'@\\x99\\x05\\x00\\xc5\\x1c\\xe5\\xac\\xdb=_\\x14\\xa8)8\\x93\\xd5\\x1b\\xf2\\nv\\x0cR\\x95\\xb2\\xfbr`t\\x01\\x00b\\xcaE\\xd1\\xf7;3Xm\\x95\\x08\\x86\\xe5\\xaaF\\xe7A\\x00\\xc0W\\rAX\\x95x*5V \\x9d\\xf5\\x16\\x89`\\x15?\\x08\\xabZ<>AP\\x9e(\\xb6\\xbaO\\x19\\x94\\xcc\\xfa+)\\x05\\xb5\\xbc\\xaf\\xe5\\xee\\xf1D\\x1eo\\x07\\xb0\\xd0\\x93\\xf8\\x876\\xa4\\xb2\\xae\\x8c\\xf0\\xe0\\xa3\\\\\\xaa\\xd1\\xc5=\\xef\\x93(U\\xd4)\\xd1\\x07\\xc89\\x17\\xd8+\\xca--`3\\x1b\\xc5\\xbb\\x92\\xbbZ\\xeb\\xfe\\x0eO\\xfc\\x1f\\x8b\\x00T\\xf3\\xa8D\"(d\\xe3e\\xb6\\xcc3\\x9e\\x1bj\\x9b\\x06 \\xf8;\\x0f\\xdd/Aw\\x12E\\x91\\x1c\\xac\\xdc\\x963\\xe4\\x96\\x86\\xe4\\'\\x00\\x92\\xf8\\x82\\xb9\\xf7Z\"\\xe8\\xd4$\\x1d\\x00\\xa8P\\x8f\\xafI}\\x0f\\xc0S\\xc4RH\\x04\\xe2q@b\\xfe\\xa5GZ\\xfc\\x85E\\xdf\\x00\\x00\\xdc\\x88\\xea*e\\x82\\xfa_\\xaay\\xac\\x00LP \\x89\\xf3X\\x8eS\\xc3\\xf7\\xa5@\\xcb\\x7f\\x9e\\xeb\\x94\\x06\\x00\\xb6\\xe4\\xe2\\x17\\x9a\\xf4U&\\x88\\x99G\\x88\\x88^o\\t\\xd5m0\\x8e/\\x83w3\\x13\\x97\\x9c\\xf9\\xa8K\\xffuifhV\\xe1\\xe5lc;\\xc4V\\x17\\x99H\\xf7\\xc5L/\\xf3\\x8d\\x92\\xf5\\xc1+\\xfc\\xc5\\x0e\\xbf\\x1f\\'\\x11G\\x0c\\x97B\\xcf\\xb9T\\x7f\\xd1\\x00\\x80\\xd8Ri\\x15NG\\xfd\\x95\\x1c?@\\xda\\xed\\rHKM\\x0eos8\\x1c\\x8e\\xb6vW\\x9f\\x82\\xff\\xcb\\xf2\\x17+L(\\x07\\xecu\\xa0\\x98\\x00\\x00\\x00\\x00IEND\\xaeB`\\x82'>,\n",
       " 'WIDTH': <tf.Tensor: shape=(), dtype=int64, numpy=64>}"
      ]
     },
     "execution_count": 30,
     "metadata": {},
     "output_type": "execute_result"
    }
   ],
   "source": [
    "TFRSerDes.read_record(raw_record)"
   ]
  },
  {
   "cell_type": "code",
   "execution_count": 17,
   "metadata": {},
   "outputs": [
    {
     "data": {
      "text/plain": [
       "tensorflow.core.example.feature_pb2.Features"
      ]
     },
     "execution_count": 17,
     "metadata": {},
     "output_type": "execute_result"
    }
   ],
   "source": [
    "type(example.features)"
   ]
  },
  {
   "cell_type": "code",
   "execution_count": 16,
   "metadata": {
    "scrolled": true
   },
   "outputs": [
    {
     "data": {
      "text/plain": [
       "feature {\n",
       "  key: \"CHARACTER\"\n",
       "  value {\n",
       "    bytes_list {\n",
       "      value: \"\\343\\201\\202\"\n",
       "    }\n",
       "  }\n",
       "}\n",
       "feature {\n",
       "  key: \"DEPTH\"\n",
       "  value {\n",
       "    int64_list {\n",
       "      value: 1\n",
       "    }\n",
       "  }\n",
       "}\n",
       "feature {\n",
       "  key: \"DESCRIPTION\"\n",
       "  value {\n",
       "    bytes_list {\n",
       "      value: \"\\343\\201\\202 grayscale image created with font kouichi.sakurai font felt pen_Regular at font size 64.\"\n",
       "    }\n",
       "  }\n",
       "}\n",
       "feature {\n",
       "  key: \"FONT_NAME\"\n",
       "  value {\n",
       "    bytes_list {\n",
       "      value: \"kouichi.sakurai font felt pen_Regular\"\n",
       "    }\n",
       "  }\n",
       "}\n",
       "feature {\n",
       "  key: \"FONT_SIZE\"\n",
       "  value {\n",
       "    int64_list {\n",
       "      value: 64\n",
       "    }\n",
       "  }\n",
       "}\n",
       "feature {\n",
       "  key: \"HASH\"\n",
       "  value {\n",
       "    bytes_list {\n",
       "      value: \"00E91A9751CC0B445BAE875C8FEACF9F\"\n",
       "    }\n",
       "  }\n",
       "}\n",
       "feature {\n",
       "  key: \"HEIGHT\"\n",
       "  value {\n",
       "    int64_list {\n",
       "      value: 64\n",
       "    }\n",
       "  }\n",
       "}\n",
       "feature {\n",
       "  key: \"PNG_IMAGE\"\n",
       "  value {\n",
       "    bytes_list {\n",
       "      value: \"\\211PNG\\r\\n\\032\\n\\000\\000\\000\\rIHDR\\000\\000\\000@\\000\\000\\000@\\010\\000\\000\\000\\000\\217\\002.\\002\\000\\000\\003\\244IDATx\\234\\355V[HTQ\\024]c\\026\\251e\\221\\226\\225B\\026\\251}T\\230Sa\\342\\2434zPI\\364\\200\\nz\\370Qf\\205TB\\024\\021d%\\372a\\020\\364\\244 \\215\\310\\\"\\352\\303\\354\\201\\006\\326G\\222\\320;\\311^\\202Zc\\026ZFO\\323\\231\\273\\373\\230\\273\\317\\234{\\357\\334\\271\\343\\370\\025\\264\\177\\356>{\\237\\265\\3669{\\237\\273\\317\\001\\376\\213\\251\\234h\\354\\251\\212\\353\\007>\\250\\233\\210zJ\\303\\003&\\230@DD\\364iM\\240\\004\\013\\334\\004\\364\\334jb\\220\\211=^\\375\\216\\356/A\\344\\300\\000\\t\\022\\324\\257-\\302j\\t&\\322\\252\\346\\240{@`\\370\\020E%xf5\\323d\\013q6Uy\\031 \\001\\347\\020\\215\\375%\\230\\223\\210\\310\\224\\031\\301V4\\000\\206G\\347,L\\212\\016\\006\\200\\201\\223W\\325\\023\\213\\322ED]%\\303\\254\\360\\333\\335\\323]\\037\\037\\337j\\350!\\2434\\'\\372\\306\\333\\336{\\001i\\244\\303\\344\\327Ts@\\305VK\\214\\\\\\354\\223\\000\\247-\\353\\025\\355\\335\\314\\371uNN\\260\\333\\355\\323\\206\\230\\023\\214\\261\\212\\000\\000A\\223\\326\\226\\275\\323l\\275\\372f\\033\\021\\021\\265\\327,\\363\\207\\000\\000\\020\\237w\\365\\263 \\330\\000\\214\\314\\\\\\232\\321\\327_*h\\033\\023\\034\\366\\347\\014y\\221\\245\\236\\003p\\255\\227\\250\\271\\262p\\236\\217\\364\\370$\\020\\322[\\267\\253\\017]z\\215\\367\\323\\364(\\317\\362H\\273e\\335\\017\\263\\003\\371\\2634\\312\\032\\036V\\356\\353L\\377*\\032l\\201\\237\\362\\322\\027\\236\\210\\336f\\371\\304o\\372\\255\\211w\\347hnJx\\310\\310\\251+\\213\\352\\235lT\\016\\230\\365b \\374\\2226\\332M\\3117j\\347\\0276W\\0177\\301\\333\\233t\\313\\255\\220\\275\\353\\024a\\177\\352=\\227\\371\\177\\364\\373=)y\\027\\364J\\21671^\\360%\\306\\204I}b\\272\\266\\266\\2656\\003>[1\\022\\354\\366\\270\\037\\350\\\\\\353\\365\\370\\361]F<\\345\\t\\367\\\\\\275\\253A\\207\\267\\335\\027\\256\\336\\212\\032V\\363\\205\\377\\256\\201\\334\\256%\\330(\\034\\035\\263\\261\\232\\365\\343\\354^a\\\\\\335N\\r>\\242\\223\\355\\317b\\201\\002\\036\\334R\\335!-F\\2022@\\272\\231\\016q\\323iNo\\001\\206\\262\\271[\\375\\226\\214c\\313\\236\\024\\205c\\312\\013\\030\\303\\'@\\231\\005\\000\\305\\034\\345\\254\\333=_\\024\\250)8\\223\\325\\033\\362\\nv\\014R\\225\\262\\373r`t\\001\\000b\\312E\\321\\367;3Xm\\225\\010\\206\\345\\252F\\347A\\000\\300W\\rAX\\225x*5V \\235\\365\\026\\211`\\025?\\010\\253Z<>AP\\236(\\266\\272O\\031\\224\\314\\372+)\\005\\265\\274\\257\\345\\356\\361D\\036o\\007\\260\\320\\223\\370\\2076\\244\\262\\256\\214\\360\\340\\243\\\\\\252\\321\\305=\\357\\223(U\\324)\\321\\007\\3109\\027\\330+\\312--`3\\033\\305\\273\\222\\273Z\\353\\376\\016O\\374\\037\\213\\000T\\363\\250D\\\"(d\\343e\\266\\3143\\236\\033j\\233\\006 \\370;\\017\\335/Aw\\022E\\221\\034\\254\\334\\2263\\344\\226\\206\\344\\'\\000\\222\\370\\202\\271\\367Z\\\"\\350\\324$\\035\\000\\250P\\217\\257I}\\017\\300S\\304RH\\004\\342q@b\\376\\245GZ\\374\\205E\\337\\000\\000\\334\\210\\352*e\\202\\372_\\252y\\254\\000LP \\211\\363X\\216S\\303\\367\\245@\\313\\177\\236\\353\\224\\006\\000\\266\\344\\342\\027\\232\\364U&\\210\\231G\\210\\210^o\\t\\325m0\\216/\\203w3\\023\\227\\234\\371\\250K\\377uifhV\\341\\345lc;\\304V\\027\\231H\\367\\305L/\\363\\215\\222\\365\\301+\\374\\305\\016\\277\\037\\'\\021G\\014\\227B\\317\\271T\\177\\321\\000\\200\\330Ri\\025NG\\375\\225\\034?@\\332\\355\\rHKM\\016os8\\034\\216\\266vW\\237\\202\\377\\313\\362\\027+L(\\007\\354u\\240\\230\\000\\000\\000\\000IEND\\256B`\\202\"\n",
       "    }\n",
       "  }\n",
       "}\n",
       "feature {\n",
       "  key: \"WIDTH\"\n",
       "  value {\n",
       "    int64_list {\n",
       "      value: 64\n",
       "    }\n",
       "  }\n",
       "}"
      ]
     },
     "execution_count": 16,
     "metadata": {},
     "output_type": "execute_result"
    }
   ],
   "source": [
    "example.features"
   ]
  },
  {
   "cell_type": "code",
   "execution_count": 19,
   "metadata": {},
   "outputs": [
    {
     "data": {
      "text/plain": [
       "google.protobuf.pyext._message.MessageMapContainer"
      ]
     },
     "execution_count": 19,
     "metadata": {},
     "output_type": "execute_result"
    }
   ],
   "source": [
    "type(example.features.feature)"
   ]
  },
  {
   "cell_type": "code",
   "execution_count": 22,
   "metadata": {},
   "outputs": [
    {
     "data": {
      "text/plain": [
       "tensorflow.core.example.feature_pb2.Feature"
      ]
     },
     "execution_count": 22,
     "metadata": {},
     "output_type": "execute_result"
    }
   ],
   "source": [
    "c = example.features.feature['CHARACTER']\n",
    "type(c)"
   ]
  },
  {
   "cell_type": "code",
   "execution_count": 23,
   "metadata": {},
   "outputs": [
    {
     "data": {
      "text/plain": [
       "bytes_list {\n",
       "  value: \"\\343\\201\\202\"\n",
       "}"
      ]
     },
     "execution_count": 23,
     "metadata": {},
     "output_type": "execute_result"
    }
   ],
   "source": [
    "c"
   ]
  },
  {
   "cell_type": "code",
   "execution_count": 25,
   "metadata": {},
   "outputs": [
    {
     "data": {
      "text/plain": [
       "[b'\\xe3\\x81\\x82']"
      ]
     },
     "execution_count": 25,
     "metadata": {},
     "output_type": "execute_result"
    }
   ],
   "source": [
    "c.bytes_list.value"
   ]
  },
  {
   "cell_type": "code",
   "execution_count": 26,
   "metadata": {},
   "outputs": [
    {
     "data": {
      "text/plain": [
       "google.protobuf.pyext._message.RepeatedScalarContainer"
      ]
     },
     "execution_count": 26,
     "metadata": {},
     "output_type": "execute_result"
    }
   ],
   "source": [
    "type(c.bytes_list.value)"
   ]
  },
  {
   "cell_type": "code",
   "execution_count": 10,
   "metadata": {},
   "outputs": [
    {
     "data": {
      "text/plain": [
       "tensorflow.python.data.ops.readers.TFRecordDatasetV2"
      ]
     },
     "execution_count": 10,
     "metadata": {},
     "output_type": "execute_result"
    }
   ],
   "source": [
    "type(raw_dataset)"
   ]
  },
  {
   "cell_type": "code",
   "execution_count": 6,
   "metadata": {},
   "outputs": [],
   "source": [
    "from tensorflow_utils import *"
   ]
  },
  {
   "cell_type": "code",
   "execution_count": 7,
   "metadata": {},
   "outputs": [
    {
     "data": {
      "text/plain": [
       "tensorflow.python.data.ops.dataset_ops.MapDataset"
      ]
     },
     "execution_count": 7,
     "metadata": {},
     "output_type": "execute_result"
    }
   ],
   "source": [
    "parsed_dataset = raw_dataset.map(TFRSerDes.read_record)\n",
    "type(parsed_dataset)"
   ]
  },
  {
   "cell_type": "code",
   "execution_count": 8,
   "metadata": {},
   "outputs": [
    {
     "name": "stdout",
     "output_type": "stream",
     "text": [
      "<class 'dict'>\n"
     ]
    }
   ],
   "source": [
    "for record in parsed_dataset:\n",
    "    print(type(record))\n",
    "    break"
   ]
  },
  {
   "cell_type": "code",
   "execution_count": 9,
   "metadata": {},
   "outputs": [
    {
     "data": {
      "text/plain": [
       "{'CHARACTER': <tf.Tensor: shape=(), dtype=string, numpy=b'\\xe3\\x81\\x82'>,\n",
       " 'DEPTH': <tf.Tensor: shape=(), dtype=int64, numpy=1>,\n",
       " 'DESCRIPTION': <tf.Tensor: shape=(), dtype=string, numpy=b'\\xe3\\x81\\x82 grayscale image created with font kouichi.sakurai font felt pen_Regular at font size 64.'>,\n",
       " 'FONT_NAME': <tf.Tensor: shape=(), dtype=string, numpy=b'kouichi.sakurai font felt pen_Regular'>,\n",
       " 'FONT_SIZE': <tf.Tensor: shape=(), dtype=int64, numpy=64>,\n",
       " 'HASH': <tf.Tensor: shape=(), dtype=string, numpy=b'00E91A9751CC0B445BAE875C8FEACF9F'>,\n",
       " 'HEIGHT': <tf.Tensor: shape=(), dtype=int64, numpy=64>,\n",
       " 'IMAGE': <tf.Tensor: shape=(), dtype=string, numpy=b'\\x89PNG\\r\\n\\x1a\\n\\x00\\x00\\x00\\rIHDR\\x00\\x00\\x00@\\x00\\x00\\x00@\\x08\\x00\\x00\\x00\\x00\\x8f\\x02.\\x02\\x00\\x00\\x03\\xa4IDATx\\x9c\\xedV[HTQ\\x14]c\\x16\\xa9e\\x91\\x96\\x95B\\x16\\xa9}T\\x98Sa\\xe2\\xa34zPI\\xf4\\x80\\nz\\xf8Qf\\x85TB\\x14\\x11d%\\xfaa\\x10\\xf4\\xa4 \\x8d\\xc8\"\\xea\\xc3\\xec\\x81\\x06\\xd6G\\x92\\xd0;\\xc9^\\x82Zc\\x16ZFO\\xd3\\x99\\xbb\\xfb\\x98\\xbb\\xcf\\x9c{\\xef\\xdc\\xb9\\xe3\\xf8\\x15\\xb4\\x7f\\xee>{\\x9f\\xb5\\xf69{\\x9f\\xbb\\xcf\\x01\\xfe\\x8b\\xa9\\x9ch\\xec\\xa9\\x8a\\xeb\\x07>\\xa8\\x9b\\x88zJ\\xc3\\x03&\\x98@DD\\xf4iM\\xa0\\x04\\x0b\\xdc\\x04\\xf4\\xdcjb\\x90\\x89=^\\xfd\\x8e\\xee/A\\xe4\\xc0\\x00\\t\\x12\\xd4\\xaf-\\xc2j\\t&\\xd2\\xaa\\xe6\\xa0{@`\\xf8\\x10E%xf5\\xd3d\\x0bq6Uy\\x19 \\x01\\xe7\\x10\\x8d\\xfd%\\x98\\x93\\x88\\xc8\\x94\\x19\\xc1V4\\x00\\x86G\\xe7,L\\x8a\\x0e\\x06\\x80\\x81\\x93W\\xd5\\x13\\x8b\\xd2ED]%\\xc3\\xac\\xf0\\xdb\\xdd\\xd3]\\x1f\\x1f\\xdfj\\xe8!\\xa34\\'\\xfa\\xc6\\xdb\\xde{\\x01i\\xa4\\xc3\\xe4\\xd7Ts@\\xc5VK\\x8c\\\\\\xec\\x93\\x00\\xa7-\\xeb\\x15\\xed\\xdd\\xcc\\xf9uNN\\xb0\\xdb\\xed\\xd3\\x86\\x98\\x13\\x8c\\xb1\\x8a\\x00\\x00A\\x93\\xd6\\x96\\xbd\\xd3l\\xbd\\xfaf\\x1b\\x11\\x11\\xb5\\xd7,\\xf3\\x87\\x00\\x00\\x10\\x9fw\\xf5\\xb3 \\xd8\\x00\\x8c\\xcc\\\\\\x9a\\xd1\\xd7_*h\\x1b\\x13\\x1c\\xf6\\xe7\\x0cy\\x91\\xa5\\x9e\\x03p\\xad\\x97\\xa8\\xb9\\xb2p\\x9e\\x8f\\xf4\\xf8$\\x10\\xd2[\\xb7\\xab\\x0f]z\\x8d\\xf7\\xd3\\xf4(\\xcf\\xf2H\\xbbe\\xdd\\x0f\\xb3\\x03\\xf9\\xb34\\xca\\x1a\\x1eV\\xee\\xebL\\xff*\\x1al\\x81\\x9f\\xf2\\xd2\\x17\\x9e\\x88\\xdef\\xf9\\xc4o\\xfa\\xad\\x89w\\xe7hnJx\\xc8\\xc8\\xa9+\\x8b\\xea\\x9dlT\\x0e\\x98\\xf5b \\xfc\\x926\\xdaM\\xc97j\\xe7\\x176W\\x0f7\\xc1\\xdb\\x9bt\\xcb\\xad\\x90\\xbd\\xeb\\x14a\\x7f\\xea=\\x97\\xf9\\x7f\\xf4\\xfb=)y\\x17\\xf4J\\x8e71^\\xf0%\\xc6\\x84I}b\\xba\\xb6\\xb6\\xb56\\x03>[1\\x12\\xec\\xf6\\xb8\\x1f\\xe8\\\\\\xeb\\xf5\\xf8\\xf1]F<\\xe5\\t\\xf7\\\\\\xbd\\xabA\\x87\\xb7\\xdd\\x17\\xae\\xde\\x8a\\x1aV\\xf3\\x85\\xff\\xae\\x81\\xdc\\xae%\\xd8(\\x1c\\x1d\\xb3\\xb1\\x9a\\xf5\\xe3\\xec^a\\\\\\xddN\\r>\\xa2\\x93\\xed\\xcfb\\x81\\x02\\x1e\\xdcR\\xdd!-F\\x822@\\xba\\x99\\x0eq\\xd3iNo\\x01\\x86\\xb2\\xb9[\\xfd\\x96\\x8cc\\xcb\\x9e\\x14\\x85c\\xca\\x0b\\x18\\xc3\\'@\\x99\\x05\\x00\\xc5\\x1c\\xe5\\xac\\xdb=_\\x14\\xa8)8\\x93\\xd5\\x1b\\xf2\\nv\\x0cR\\x95\\xb2\\xfbr`t\\x01\\x00b\\xcaE\\xd1\\xf7;3Xm\\x95\\x08\\x86\\xe5\\xaaF\\xe7A\\x00\\xc0W\\rAX\\x95x*5V \\x9d\\xf5\\x16\\x89`\\x15?\\x08\\xabZ<>AP\\x9e(\\xb6\\xbaO\\x19\\x94\\xcc\\xfa+)\\x05\\xb5\\xbc\\xaf\\xe5\\xee\\xf1D\\x1eo\\x07\\xb0\\xd0\\x93\\xf8\\x876\\xa4\\xb2\\xae\\x8c\\xf0\\xe0\\xa3\\\\\\xaa\\xd1\\xc5=\\xef\\x93(U\\xd4)\\xd1\\x07\\xc89\\x17\\xd8+\\xca--`3\\x1b\\xc5\\xbb\\x92\\xbbZ\\xeb\\xfe\\x0eO\\xfc\\x1f\\x8b\\x00T\\xf3\\xa8D\"(d\\xe3e\\xb6\\xcc3\\x9e\\x1bj\\x9b\\x06 \\xf8;\\x0f\\xdd/Aw\\x12E\\x91\\x1c\\xac\\xdc\\x963\\xe4\\x96\\x86\\xe4\\'\\x00\\x92\\xf8\\x82\\xb9\\xf7Z\"\\xe8\\xd4$\\x1d\\x00\\xa8P\\x8f\\xafI}\\x0f\\xc0S\\xc4RH\\x04\\xe2q@b\\xfe\\xa5GZ\\xfc\\x85E\\xdf\\x00\\x00\\xdc\\x88\\xea*e\\x82\\xfa_\\xaay\\xac\\x00LP \\x89\\xf3X\\x8eS\\xc3\\xf7\\xa5@\\xcb\\x7f\\x9e\\xeb\\x94\\x06\\x00\\xb6\\xe4\\xe2\\x17\\x9a\\xf4U&\\x88\\x99G\\x88\\x88^o\\t\\xd5m0\\x8e/\\x83w3\\x13\\x97\\x9c\\xf9\\xa8K\\xffuifhV\\xe1\\xe5lc;\\xc4V\\x17\\x99H\\xf7\\xc5L/\\xf3\\x8d\\x92\\xf5\\xc1+\\xfc\\xc5\\x0e\\xbf\\x1f\\'\\x11G\\x0c\\x97B\\xcf\\xb9T\\x7f\\xd1\\x00\\x80\\xd8Ri\\x15NG\\xfd\\x95\\x1c?@\\xda\\xed\\rHKM\\x0eos8\\x1c\\x8e\\xb6vW\\x9f\\x82\\xff\\xcb\\xf2\\x17+L(\\x07\\xecu\\xa0\\x98\\x00\\x00\\x00\\x00IEND\\xaeB`\\x82'>,\n",
       " 'WIDTH': <tf.Tensor: shape=(), dtype=int64, numpy=64>}"
      ]
     },
     "execution_count": 9,
     "metadata": {},
     "output_type": "execute_result"
    }
   ],
   "source": [
    "record"
   ]
  },
  {
   "cell_type": "code",
   "execution_count": 11,
   "metadata": {},
   "outputs": [
    {
     "data": {
      "text/plain": [
       "<tf.Tensor: shape=(), dtype=string, numpy=b'00E91A9751CC0B445BAE875C8FEACF9F'>"
      ]
     },
     "execution_count": 11,
     "metadata": {},
     "output_type": "execute_result"
    }
   ],
   "source": [
    "record_hash = record[TFRSerDes.HASH_KEY]\n",
    "record_hash"
   ]
  },
  {
   "cell_type": "code",
   "execution_count": 12,
   "metadata": {},
   "outputs": [
    {
     "data": {
      "text/plain": [
       "tensorflow.python.framework.ops.EagerTensor"
      ]
     },
     "execution_count": 12,
     "metadata": {},
     "output_type": "execute_result"
    }
   ],
   "source": [
    "type(record_hash)"
   ]
  },
  {
   "cell_type": "code",
   "execution_count": 14,
   "metadata": {},
   "outputs": [
    {
     "data": {
      "text/plain": [
       "bytes"
      ]
     },
     "execution_count": 14,
     "metadata": {},
     "output_type": "execute_result"
    }
   ],
   "source": [
    "hash_bytes = record_hash.numpy()\n",
    "type(hash_bytes)"
   ]
  },
  {
   "cell_type": "code",
   "execution_count": 15,
   "metadata": {},
   "outputs": [
    {
     "data": {
      "text/plain": [
       "b'00E91A9751CC0B445BAE875C8FEACF9F'"
      ]
     },
     "execution_count": 15,
     "metadata": {},
     "output_type": "execute_result"
    }
   ],
   "source": [
    "hash_bytes"
   ]
  },
  {
   "cell_type": "code",
   "execution_count": 16,
   "metadata": {},
   "outputs": [
    {
     "data": {
      "text/plain": [
       "'00E91A9751CC0B445BAE875C8FEACF9F'"
      ]
     },
     "execution_count": 16,
     "metadata": {},
     "output_type": "execute_result"
    }
   ],
   "source": [
    "hash_bytes.decode('utf-8')"
   ]
  }
 ],
 "metadata": {
  "kernelspec": {
   "display_name": "Python 3",
   "language": "python",
   "name": "python3"
  },
  "language_info": {
   "codemirror_mode": {
    "name": "ipython",
    "version": 3
   },
   "file_extension": ".py",
   "mimetype": "text/x-python",
   "name": "python",
   "nbconvert_exporter": "python",
   "pygments_lexer": "ipython3",
   "version": "3.7.6"
  }
 },
 "nbformat": 4,
 "nbformat_minor": 4
}
