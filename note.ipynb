{
 "cells": [
  {
   "cell_type": "code",
   "execution_count": 24,
   "metadata": {},
   "outputs": [],
   "source": [
    "# encoding=utf-8\n",
    "import os\n",
    "import time\n",
    "import re\n",
    "import unicodedata\n",
    "import traceback\n",
    "import warnings\n",
    "from typing import Callable\n",
    "import importlib\n",
    "\n",
    "from tqdm import tqdm\n",
    "from PIL import Image, ImageFont, ImageDraw\n",
    "import numpy as np\n",
    "import matplotlib.pyplot as plt\n",
    "from fontTools.ttLib import TTFont"
   ]
  },
  {
   "cell_type": "code",
   "execution_count": 14,
   "metadata": {},
   "outputs": [],
   "source": [
    "import utils\n",
    "importlib.reload(utils)\n",
    "\n",
    "from utils import fetch_font"
   ]
  },
  {
   "cell_type": "code",
   "execution_count": 7,
   "metadata": {},
   "outputs": [
    {
     "data": {
      "text/plain": [
       "True"
      ]
     },
     "execution_count": 7,
     "metadata": {},
     "output_type": "execute_result"
    }
   ],
   "source": [
    "fonts_dir = 'fonts'\n",
    "font_size = 64\n",
    "os.path.exists(fonts_dir)"
   ]
  },
  {
   "cell_type": "code",
   "execution_count": 16,
   "metadata": {},
   "outputs": [
    {
     "name": "stderr",
     "output_type": "stream",
     "text": [
      "/home/shioko/venv/lib/python3.6/site-packages/ipykernel_launcher.py:17: UserWarning: Skipping unknown file type fonts/readme.txt!\n"
     ]
    }
   ],
   "source": [
    "font_list = []\n",
    "file_list = os.listdir(fonts_dir)\n",
    "for filename in file_list:\n",
    "    child_path = os.path.join(fonts_dir, filename)\n",
    "\n",
    "    if not os.path.isfile(child_path):\n",
    "        warnings.warn(f'Skipping directory {child_path}!')\n",
    "        continue\n",
    "\n",
    "    file_ext = os.path.splitext(filename)[1]\n",
    "    file_ext = file_ext.lower()\n",
    "\n",
    "    if (file_ext == '.ttf') or (file_ext == '.otf'):\n",
    "        font = fetch_font(child_path, font_size=font_size)\n",
    "        font_list.append(font)\n",
    "    else:\n",
    "        warnings.warn(f'Skipping unknown file type {child_path}!')\n",
    "        continue"
   ]
  },
  {
   "cell_type": "code",
   "execution_count": null,
   "metadata": {
    "scrolled": true
   },
   "outputs": [],
   "source": [
    "font_list"
   ]
  },
  {
   "cell_type": "code",
   "execution_count": null,
   "metadata": {},
   "outputs": [],
   "source": [
    "font = font_list[0]\n",
    "font"
   ]
  },
  {
   "cell_type": "code",
   "execution_count": 61,
   "metadata": {},
   "outputs": [],
   "source": [
    "image_size = 64"
   ]
  },
  {
   "cell_type": "code",
   "execution_count": 20,
   "metadata": {},
   "outputs": [
    {
     "data": {
      "text/plain": [
       "128"
      ]
     },
     "execution_count": 20,
     "metadata": {},
     "output_type": "execute_result"
    }
   ],
   "source": [
    "canvas_size = int(max(font.size*2, image_size))\n",
    "canvas_size"
   ]
  },
  {
   "cell_type": "code",
   "execution_count": 21,
   "metadata": {},
   "outputs": [],
   "source": [
    "canvas = Image.new('L', (canvas_size, canvas_size), color=0)\n",
    "ctx = ImageDraw.Draw(canvas)"
   ]
  },
  {
   "cell_type": "code",
   "execution_count": 22,
   "metadata": {},
   "outputs": [
    {
     "data": {
      "text/plain": [
       "(32.0, 32.0)"
      ]
     },
     "execution_count": 22,
     "metadata": {},
     "output_type": "execute_result"
    }
   ],
   "source": [
    "char_x = (canvas_size - font.size) / 2\n",
    "char_y = (canvas_size - font.size) / 2\n",
    "char_origin_pos = (char_x, char_y)\n",
    "char_origin_pos"
   ]
  },
  {
   "cell_type": "code",
   "execution_count": 26,
   "metadata": {},
   "outputs": [],
   "source": [
    "c = 'あ'"
   ]
  },
  {
   "cell_type": "code",
   "execution_count": 28,
   "metadata": {},
   "outputs": [],
   "source": [
    "ctx.text(\n",
    "    xy=char_origin_pos,\n",
    "    text=c,\n",
    "    fill=255,\n",
    "    font=font.font,\n",
    ")"
   ]
  },
  {
   "cell_type": "code",
   "execution_count": 42,
   "metadata": {},
   "outputs": [
    {
     "data": {
      "text/plain": [
       "PIL.Image.Image"
      ]
     },
     "execution_count": 42,
     "metadata": {},
     "output_type": "execute_result"
    }
   ],
   "source": [
    "type(canvas)"
   ]
  },
  {
   "cell_type": "code",
   "execution_count": 43,
   "metadata": {},
   "outputs": [],
   "source": [
    "canvas.save('sample_a.png', format='PNG')"
   ]
  },
  {
   "cell_type": "code",
   "execution_count": 29,
   "metadata": {},
   "outputs": [
    {
     "data": {
      "text/plain": [
       "(128, 128)"
      ]
     },
     "execution_count": 29,
     "metadata": {},
     "output_type": "execute_result"
    }
   ],
   "source": [
    "np_img = np.asarray(canvas, dtype=np.uint8)\n",
    "np_img.shape"
   ]
  },
  {
   "cell_type": "code",
   "execution_count": 30,
   "metadata": {},
   "outputs": [
    {
     "data": {
      "text/plain": [
       "<matplotlib.image.AxesImage at 0x7fcc8d3ba6d8>"
      ]
     },
     "execution_count": 30,
     "metadata": {},
     "output_type": "execute_result"
    },
    {
     "data": {
      "image/png": "[encoded data removed]",
      "text/plain": [
       "<Figure size 432x288 with 1 Axes>"
      ]
     },
     "metadata": {
      "needs_background": "light"
     },
     "output_type": "display_data"
    }
   ],
   "source": [
    "plt.imshow(np_img)"
   ]
  },
  {
   "cell_type": "code",
   "execution_count": 36,
   "metadata": {},
   "outputs": [
    {
     "data": {
      "text/plain": [
       "tuple"
      ]
     },
     "execution_count": 36,
     "metadata": {},
     "output_type": "execute_result"
    }
   ],
   "source": [
    "non_zeros_indices = np_img.nonzero()\n",
    "type(non_zeros_indices)"
   ]
  },
  {
   "cell_type": "code",
   "execution_count": 37,
   "metadata": {},
   "outputs": [
    {
     "data": {
      "text/plain": [
       "2"
      ]
     },
     "execution_count": 37,
     "metadata": {},
     "output_type": "execute_result"
    }
   ],
   "source": [
    "len(non_zeros_indices)"
   ]
  },
  {
   "cell_type": "code",
   "execution_count": 38,
   "metadata": {},
   "outputs": [
    {
     "data": {
      "text/plain": [
       "1640"
      ]
     },
     "execution_count": 38,
     "metadata": {},
     "output_type": "execute_result"
    }
   ],
   "source": [
    "len(non_zeros_indices[0])"
   ]
  },
  {
   "cell_type": "code",
   "execution_count": 39,
   "metadata": {},
   "outputs": [
    {
     "data": {
      "text/plain": [
       "1640"
      ]
     },
     "execution_count": 39,
     "metadata": {},
     "output_type": "execute_result"
    }
   ],
   "source": [
    "len(non_zeros_indices[1])"
   ]
  },
  {
   "cell_type": "code",
   "execution_count": 40,
   "metadata": {},
   "outputs": [
    {
     "data": {
      "text/plain": [
       "(array([33, 33, 33, ..., 89, 89, 89]), array([56, 57, 58, ..., 54, 55, 56]))"
      ]
     },
     "execution_count": 40,
     "metadata": {},
     "output_type": "execute_result"
    }
   ],
   "source": [
    "non_zeros_indices"
   ]
  },
  {
   "cell_type": "code",
   "execution_count": 47,
   "metadata": {},
   "outputs": [
    {
     "data": {
      "text/plain": [
       "(37, 91, 33, 89, 54, 56)"
      ]
     },
     "execution_count": 47,
     "metadata": {},
     "output_type": "execute_result"
    }
   ],
   "source": [
    "zero_ys, zero_xs = np_img.nonzero()[:2]  # `[:2]` just to be safe\n",
    "\n",
    "min_x, max_x = min(zero_xs), max(zero_xs)\n",
    "min_y, max_y = min(zero_ys), max(zero_ys)\n",
    "\n",
    "# the character dimensions is caculated based on the nonzero pixels\n",
    "character_width = max_x - min_x\n",
    "character_height = max_y - min_y\n",
    "\n",
    "min_x, max_x, min_y, max_y, character_width, character_height"
   ]
  },
  {
   "cell_type": "code",
   "execution_count": 45,
   "metadata": {},
   "outputs": [
    {
     "data": {
      "text/plain": [
       "(128, 128, 3)"
      ]
     },
     "execution_count": 45,
     "metadata": {},
     "output_type": "execute_result"
    }
   ],
   "source": [
    "rgb_canvas = np.stack((np_img,)*3, axis=-1)\n",
    "rgb_canvas.shape"
   ]
  },
  {
   "cell_type": "code",
   "execution_count": 60,
   "metadata": {},
   "outputs": [
    {
     "data": {
      "image/png": "[encoded data removed]",
      "text/plain": [
       "<PIL.Image.Image image mode=RGB size=128x128 at 0x7FCC8C5B3588>"
      ]
     },
     "execution_count": 60,
     "metadata": {},
     "output_type": "execute_result"
    }
   ],
   "source": [
    "pil_image = Image.fromarray(rgb_canvas)\n",
    "draw_obj = ImageDraw.Draw(pil_image)\n",
    "\n",
    "draw_obj.rectangle(\n",
    "    xy=[(min_x, min_y), (max_x, max_y)],\n",
    "    outline=(0,255,0),\n",
    "    width=1,\n",
    ")\n",
    "\n",
    "pil_image"
   ]
  },
  {
   "cell_type": "code",
   "execution_count": 49,
   "metadata": {},
   "outputs": [],
   "source": [
    "pil_image.save('sample_a_with_bounding_box.png', format='PNG')"
   ]
  },
  {
   "cell_type": "code",
   "execution_count": 55,
   "metadata": {},
   "outputs": [
    {
     "data": {
      "text/plain": [
       "64"
      ]
     },
     "execution_count": 55,
     "metadata": {},
     "output_type": "execute_result"
    }
   ],
   "source": [
    "canvas_size - image_size"
   ]
  },
  {
   "cell_type": "code",
   "execution_count": 62,
   "metadata": {},
   "outputs": [
    {
     "name": "stdout",
     "output_type": "stream",
     "text": [
      "32 29\n"
     ]
    },
    {
     "data": {
      "image/png": "[encoded data removed]",
      "text/plain": [
       "<PIL.Image.Image image mode=RGB size=128x128 at 0x7FCC8C5B3588>"
      ]
     },
     "execution_count": 62,
     "metadata": {},
     "output_type": "execute_result"
    }
   ],
   "source": [
    "image_offset_top = min_y - int((image_size - character_height)/2)\n",
    "image_offset_left = min_x - int((image_size - character_width)/2)\n",
    "\n",
    "print(image_offset_left, image_offset_top)\n",
    "\n",
    "draw_obj.rectangle(\n",
    "    xy=[(image_offset_left, image_offset_top), (image_offset_left+image_size, image_offset_top+image_size)],\n",
    "    outline=(0,0,255),\n",
    "    width=1,\n",
    ")\n",
    "\n",
    "pil_image"
   ]
  },
  {
   "cell_type": "code",
   "execution_count": 63,
   "metadata": {},
   "outputs": [],
   "source": [
    "pil_image.save('sample_a_with_bounding_boxes_for_exporting_image.png', 'PNG')"
   ]
  },
  {
   "cell_type": "code",
   "execution_count": 59,
   "metadata": {},
   "outputs": [
    {
     "name": "stdout",
     "output_type": "stream",
     "text": [
      "48.0 45.0\n"
     ]
    },
    {
     "data": {
      "image/png": "[encoded data removed]",
      "text/plain": [
       "<PIL.Image.Image image mode=RGB size=128x128 at 0x7FCC8C5A2400>"
      ]
     },
     "execution_count": 59,
     "metadata": {},
     "output_type": "execute_result"
    }
   ],
   "source": [
    "# experiment with image size smaller than font size\n",
    "image_size = 32\n",
    "image_offset_top = min_y - (image_size - character_height)/2\n",
    "image_offset_left = min_x - (image_size - character_width)/2\n",
    "\n",
    "print(image_offset_left, image_offset_top)\n",
    "\n",
    "draw_obj.rectangle(\n",
    "    xy=[(image_offset_left, image_offset_top), (image_offset_left+image_size, image_offset_top+image_size)],\n",
    "    outline=(255,0,0),\n",
    "    width=1,\n",
    ")\n",
    "\n",
    "pil_image"
   ]
  }
 ],
 "metadata": {
  "kernelspec": {
   "display_name": "Python 3",
   "language": "python",
   "name": "python3"
  },
  "language_info": {
   "codemirror_mode": {
    "name": "ipython",
    "version": 3
   },
   "file_extension": ".py",
   "mimetype": "text/x-python",
   "name": "python",
   "nbconvert_exporter": "python",
   "pygments_lexer": "ipython3",
   "version": "3.6.9"
  }
 },
 "nbformat": 4,
 "nbformat_minor": 4
}
