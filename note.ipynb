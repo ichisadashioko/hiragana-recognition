{
 "cells": [
  {
   "cell_type": "code",
   "execution_count": 65,
   "metadata": {},
   "outputs": [],
   "source": [
    "# encoding=utf-8\n",
    "import os\n",
    "import time\n",
    "import re\n",
    "import unicodedata\n",
    "import traceback\n",
    "import warnings\n",
    "from typing import Callable\n",
    "import importlib\n",
    "\n",
    "from tqdm import tqdm\n",
    "from PIL import Image, ImageFont, ImageDraw\n",
    "import numpy as np\n",
    "import pandas as pd\n",
    "import matplotlib.pyplot as plt\n",
    "from fontTools.ttLib import TTFont"
   ]
  },
  {
   "cell_type": "code",
   "execution_count": 67,
   "metadata": {},
   "outputs": [],
   "source": [
    "import utils\n",
    "importlib.reload(utils)\n",
    "\n",
    "from utils import fetch_font, LOG_DIRECTORY, LOG_SUFFIX, COLUMN_SEPARATOR, LogFile"
   ]
  },
  {
   "cell_type": "code",
   "execution_count": 7,
   "metadata": {},
   "outputs": [
    {
     "data": {
      "text/plain": [
       "True"
      ]
     },
     "execution_count": 7,
     "metadata": {},
     "output_type": "execute_result"
    }
   ],
   "source": [
    "fonts_dir = 'fonts'\n",
    "font_size = 64\n",
    "os.path.exists(fonts_dir)"
   ]
  },
  {
   "cell_type": "code",
   "execution_count": 16,
   "metadata": {},
   "outputs": [
    {
     "name": "stderr",
     "output_type": "stream",
     "text": [
      "/home/shioko/venv/lib/python3.6/site-packages/ipykernel_launcher.py:17: UserWarning: Skipping unknown file type fonts/readme.txt!\n"
     ]
    }
   ],
   "source": [
    "font_list = []\n",
    "file_list = os.listdir(fonts_dir)\n",
    "for filename in file_list:\n",
    "    child_path = os.path.join(fonts_dir, filename)\n",
    "\n",
    "    if not os.path.isfile(child_path):\n",
    "        warnings.warn(f'Skipping directory {child_path}!')\n",
    "        continue\n",
    "\n",
    "    file_ext = os.path.splitext(filename)[1]\n",
    "    file_ext = file_ext.lower()\n",
    "\n",
    "    if (file_ext == '.ttf') or (file_ext == '.otf'):\n",
    "        font = fetch_font(child_path, font_size=font_size)\n",
    "        font_list.append(font)\n",
    "    else:\n",
    "        warnings.warn(f'Skipping unknown file type {child_path}!')\n",
    "        continue"
   ]
  },
  {
   "cell_type": "code",
   "execution_count": null,
   "metadata": {
    "scrolled": true
   },
   "outputs": [],
   "source": [
    "font_list"
   ]
  },
  {
   "cell_type": "code",
   "execution_count": null,
   "metadata": {},
   "outputs": [],
   "source": [
    "font = font_list[0]\n",
    "font"
   ]
  },
  {
   "cell_type": "code",
   "execution_count": 61,
   "metadata": {},
   "outputs": [],
   "source": [
    "image_size = 64"
   ]
  },
  {
   "cell_type": "code",
   "execution_count": 20,
   "metadata": {},
   "outputs": [
    {
     "data": {
      "text/plain": [
       "128"
      ]
     },
     "execution_count": 20,
     "metadata": {},
     "output_type": "execute_result"
    }
   ],
   "source": [
    "canvas_size = int(max(font.size*2, image_size))\n",
    "canvas_size"
   ]
  },
  {
   "cell_type": "code",
   "execution_count": 21,
   "metadata": {},
   "outputs": [],
   "source": [
    "canvas = Image.new('L', (canvas_size, canvas_size), color=0)\n",
    "ctx = ImageDraw.Draw(canvas)"
   ]
  },
  {
   "cell_type": "code",
   "execution_count": 22,
   "metadata": {},
   "outputs": [
    {
     "data": {
      "text/plain": [
       "(32.0, 32.0)"
      ]
     },
     "execution_count": 22,
     "metadata": {},
     "output_type": "execute_result"
    }
   ],
   "source": [
    "char_x = (canvas_size - font.size) / 2\n",
    "char_y = (canvas_size - font.size) / 2\n",
    "char_origin_pos = (char_x, char_y)\n",
    "char_origin_pos"
   ]
  },
  {
   "cell_type": "code",
   "execution_count": 26,
   "metadata": {},
   "outputs": [],
   "source": [
    "c = 'あ'"
   ]
  },
  {
   "cell_type": "code",
   "execution_count": 28,
   "metadata": {},
   "outputs": [],
   "source": [
    "ctx.text(\n",
    "    xy=char_origin_pos,\n",
    "    text=c,\n",
    "    fill=255,\n",
    "    font=font.font,\n",
    ")"
   ]
  },
  {
   "cell_type": "code",
   "execution_count": 42,
   "metadata": {},
   "outputs": [
    {
     "data": {
      "text/plain": [
       "PIL.Image.Image"
      ]
     },
     "execution_count": 42,
     "metadata": {},
     "output_type": "execute_result"
    }
   ],
   "source": [
    "type(canvas)"
   ]
  },
  {
   "cell_type": "code",
   "execution_count": 43,
   "metadata": {},
   "outputs": [],
   "source": [
    "canvas.save('sample_a.png', format='PNG')"
   ]
  },
  {
   "cell_type": "code",
   "execution_count": 29,
   "metadata": {},
   "outputs": [
    {
     "data": {
      "text/plain": [
       "(128, 128)"
      ]
     },
     "execution_count": 29,
     "metadata": {},
     "output_type": "execute_result"
    }
   ],
   "source": [
    "np_img = np.asarray(canvas, dtype=np.uint8)\n",
    "np_img.shape"
   ]
  },
  {
   "cell_type": "code",
   "execution_count": 30,
   "metadata": {},
   "outputs": [
    {
     "data": {
      "text/plain": [
       "<matplotlib.image.AxesImage at 0x7fcc8d3ba6d8>"
      ]
     },
     "execution_count": 30,
     "metadata": {},
     "output_type": "execute_result"
    },
    {
     "data": {
      "image/png": "[encoded data removed]",
      "text/plain": [
       "<Figure size 432x288 with 1 Axes>"
      ]
     },
     "metadata": {
      "needs_background": "light"
     },
     "output_type": "display_data"
    }
   ],
   "source": [
    "plt.imshow(np_img)"
   ]
  },
  {
   "cell_type": "code",
   "execution_count": 36,
   "metadata": {},
   "outputs": [
    {
     "data": {
      "text/plain": [
       "tuple"
      ]
     },
     "execution_count": 36,
     "metadata": {},
     "output_type": "execute_result"
    }
   ],
   "source": [
    "non_zeros_indices = np_img.nonzero()\n",
    "type(non_zeros_indices)"
   ]
  },
  {
   "cell_type": "code",
   "execution_count": 37,
   "metadata": {},
   "outputs": [
    {
     "data": {
      "text/plain": [
       "2"
      ]
     },
     "execution_count": 37,
     "metadata": {},
     "output_type": "execute_result"
    }
   ],
   "source": [
    "len(non_zeros_indices)"
   ]
  },
  {
   "cell_type": "code",
   "execution_count": 38,
   "metadata": {},
   "outputs": [
    {
     "data": {
      "text/plain": [
       "1640"
      ]
     },
     "execution_count": 38,
     "metadata": {},
     "output_type": "execute_result"
    }
   ],
   "source": [
    "len(non_zeros_indices[0])"
   ]
  },
  {
   "cell_type": "code",
   "execution_count": 39,
   "metadata": {},
   "outputs": [
    {
     "data": {
      "text/plain": [
       "1640"
      ]
     },
     "execution_count": 39,
     "metadata": {},
     "output_type": "execute_result"
    }
   ],
   "source": [
    "len(non_zeros_indices[1])"
   ]
  },
  {
   "cell_type": "code",
   "execution_count": 40,
   "metadata": {},
   "outputs": [
    {
     "data": {
      "text/plain": [
       "(array([33, 33, 33, ..., 89, 89, 89]), array([56, 57, 58, ..., 54, 55, 56]))"
      ]
     },
     "execution_count": 40,
     "metadata": {},
     "output_type": "execute_result"
    }
   ],
   "source": [
    "non_zeros_indices"
   ]
  },
  {
   "cell_type": "code",
   "execution_count": 47,
   "metadata": {},
   "outputs": [
    {
     "data": {
      "text/plain": [
       "(37, 91, 33, 89, 54, 56)"
      ]
     },
     "execution_count": 47,
     "metadata": {},
     "output_type": "execute_result"
    }
   ],
   "source": [
    "zero_ys, zero_xs = np_img.nonzero()[:2]  # `[:2]` just to be safe\n",
    "\n",
    "min_x, max_x = min(zero_xs), max(zero_xs)\n",
    "min_y, max_y = min(zero_ys), max(zero_ys)\n",
    "\n",
    "# the character dimensions is caculated based on the nonzero pixels\n",
    "character_width = max_x - min_x\n",
    "character_height = max_y - min_y\n",
    "\n",
    "min_x, max_x, min_y, max_y, character_width, character_height"
   ]
  },
  {
   "cell_type": "code",
   "execution_count": 45,
   "metadata": {},
   "outputs": [
    {
     "data": {
      "text/plain": [
       "(128, 128, 3)"
      ]
     },
     "execution_count": 45,
     "metadata": {},
     "output_type": "execute_result"
    }
   ],
   "source": [
    "rgb_canvas = np.stack((np_img,)*3, axis=-1)\n",
    "rgb_canvas.shape"
   ]
  },
  {
   "cell_type": "code",
   "execution_count": 60,
   "metadata": {},
   "outputs": [
    {
     "data": {
      "image/png": "[encoded data removed]",
      "text/plain": [
       "<PIL.Image.Image image mode=RGB size=128x128 at 0x7FCC8C5B3588>"
      ]
     },
     "execution_count": 60,
     "metadata": {},
     "output_type": "execute_result"
    }
   ],
   "source": [
    "pil_image = Image.fromarray(rgb_canvas)\n",
    "draw_obj = ImageDraw.Draw(pil_image)\n",
    "\n",
    "draw_obj.rectangle(\n",
    "    xy=[(min_x, min_y), (max_x, max_y)],\n",
    "    outline=(0,255,0),\n",
    "    width=1,\n",
    ")\n",
    "\n",
    "pil_image"
   ]
  },
  {
   "cell_type": "code",
   "execution_count": 49,
   "metadata": {},
   "outputs": [],
   "source": [
    "pil_image.save('sample_a_with_bounding_box.png', format='PNG')"
   ]
  },
  {
   "cell_type": "code",
   "execution_count": 55,
   "metadata": {},
   "outputs": [
    {
     "data": {
      "text/plain": [
       "64"
      ]
     },
     "execution_count": 55,
     "metadata": {},
     "output_type": "execute_result"
    }
   ],
   "source": [
    "canvas_size - image_size"
   ]
  },
  {
   "cell_type": "code",
   "execution_count": 62,
   "metadata": {},
   "outputs": [
    {
     "name": "stdout",
     "output_type": "stream",
     "text": [
      "32 29\n"
     ]
    },
    {
     "data": {
      "image/png": "[encoded data removed]",
      "text/plain": [
       "<PIL.Image.Image image mode=RGB size=128x128 at 0x7FCC8C5B3588>"
      ]
     },
     "execution_count": 62,
     "metadata": {},
     "output_type": "execute_result"
    }
   ],
   "source": [
    "image_offset_top = min_y - int((image_size - character_height)/2)\n",
    "image_offset_left = min_x - int((image_size - character_width)/2)\n",
    "\n",
    "print(image_offset_left, image_offset_top)\n",
    "\n",
    "draw_obj.rectangle(\n",
    "    xy=[(image_offset_left, image_offset_top), (image_offset_left+image_size, image_offset_top+image_size)],\n",
    "    outline=(0,0,255),\n",
    "    width=1,\n",
    ")\n",
    "\n",
    "pil_image"
   ]
  },
  {
   "cell_type": "code",
   "execution_count": 63,
   "metadata": {},
   "outputs": [],
   "source": [
    "pil_image.save('sample_a_with_bounding_boxes_for_exporting_image.png', 'PNG')"
   ]
  },
  {
   "cell_type": "code",
   "execution_count": 59,
   "metadata": {
    "scrolled": true
   },
   "outputs": [
    {
     "name": "stdout",
     "output_type": "stream",
     "text": [
      "48.0 45.0\n"
     ]
    },
    {
     "data": {
      "image/png": "[encoded data removed]",
      "text/plain": [
       "<PIL.Image.Image image mode=RGB size=128x128 at 0x7FCC8C5A2400>"
      ]
     },
     "execution_count": 59,
     "metadata": {},
     "output_type": "execute_result"
    }
   ],
   "source": [
    "# experiment with image size smaller than font size\n",
    "image_size = 32\n",
    "image_offset_top = min_y - (image_size - character_height)/2\n",
    "image_offset_left = min_x - (image_size - character_width)/2\n",
    "\n",
    "print(image_offset_left, image_offset_top)\n",
    "\n",
    "draw_obj.rectangle(\n",
    "    xy=[(image_offset_left, image_offset_top), (image_offset_left+image_size, image_offset_top+image_size)],\n",
    "    outline=(255,0,0),\n",
    "    width=1,\n",
    ")\n",
    "\n",
    "pil_image"
   ]
  },
  {
   "cell_type": "code",
   "execution_count": 66,
   "metadata": {},
   "outputs": [
    {
     "data": {
      "text/plain": [
       "['1586661863.311972-runtime.log',\n",
       " '1586662042.1526327-runtime.log',\n",
       " '1586662082.3868406-runtime.log',\n",
       " '1586662097.7665117-runtime.log',\n",
       " '1586676971.023995-runtime.log',\n",
       " '1586677160.823435-runtime.log',\n",
       " '1586691725.5852675-runtime.log',\n",
       " '1586691782.888618-runtime.log']"
      ]
     },
     "execution_count": 66,
     "metadata": {},
     "output_type": "execute_result"
    }
   ],
   "source": [
    "file_list = os.listdir(LOG_DIRECTORY)\n",
    "file_list"
   ]
  },
  {
   "cell_type": "code",
   "execution_count": 72,
   "metadata": {},
   "outputs": [],
   "source": [
    "logs = []\n",
    "\n",
    "for filename in file_list:\n",
    "    if not LOG_SUFFIX in filename:\n",
    "        print(f'[WARNING] Skipping file {filename}.')\n",
    "        continue\n",
    "\n",
    "    filepath = os.path.join(LOG_DIRECTORY, filename)\n",
    "\n",
    "    try:\n",
    "        log_data = pd.read_csv(filepath, sep=COLUMN_SEPARATOR, names=('method_name', 'execution_time'))\n",
    "    except:\n",
    "        print(f'[WARNING] Skipping incompatible format {filename}!')\n",
    "        continue\n",
    "\n",
    "    ts = float(filename.replace(LOG_SUFFIX, ''))\n",
    "    log_file = LogFile(filename, ts, log_data)\n",
    "    logs.append(log_file)\n",
    "\n",
    "logs.sort(key=lambda x: x.ts)"
   ]
  },
  {
   "cell_type": "code",
   "execution_count": 73,
   "metadata": {},
   "outputs": [
    {
     "data": {
      "text/plain": [
       "[('2020-04-12_03-24-23', '1586661863.311972-runtime.log'),\n",
       " ('2020-04-12_03-27-22', '1586662042.1526327-runtime.log'),\n",
       " ('2020-04-12_03-28-02', '1586662082.3868406-runtime.log'),\n",
       " ('2020-04-12_03-28-17', '1586662097.7665117-runtime.log'),\n",
       " ('2020-04-12_07-36-11', '1586676971.023995-runtime.log'),\n",
       " ('2020-04-12_07-39-20', '1586677160.823435-runtime.log'),\n",
       " ('2020-04-12_11-42-05', '1586691725.5852675-runtime.log'),\n",
       " ('2020-04-12_11-43-02', '1586691782.888618-runtime.log')]"
      ]
     },
     "execution_count": 73,
     "metadata": {},
     "output_type": "execute_result"
    }
   ],
   "source": [
    "logs"
   ]
  },
  {
   "cell_type": "code",
   "execution_count": 82,
   "metadata": {},
   "outputs": [
    {
     "data": {
      "text/html": [
       "<div>\n",
       "<style scoped>\n",
       "    .dataframe tbody tr th:only-of-type {\n",
       "        vertical-align: middle;\n",
       "    }\n",
       "\n",
       "    .dataframe tbody tr th {\n",
       "        vertical-align: top;\n",
       "    }\n",
       "\n",
       "    .dataframe thead th {\n",
       "        text-align: right;\n",
       "    }\n",
       "</style>\n",
       "<table border=\"1\" class=\"dataframe\">\n",
       "  <thead>\n",
       "    <tr style=\"text-align: right;\">\n",
       "      <th></th>\n",
       "      <th>method_name</th>\n",
       "      <th>execution_time</th>\n",
       "    </tr>\n",
       "  </thead>\n",
       "  <tbody>\n",
       "    <tr>\n",
       "      <th>0</th>\n",
       "      <td>fetch_font</td>\n",
       "      <td>0.000296</td>\n",
       "    </tr>\n",
       "    <tr>\n",
       "      <th>1</th>\n",
       "      <td>fetch_font</td>\n",
       "      <td>0.001524</td>\n",
       "    </tr>\n",
       "    <tr>\n",
       "      <th>2</th>\n",
       "      <td>fetch_font</td>\n",
       "      <td>0.000408</td>\n",
       "    </tr>\n",
       "    <tr>\n",
       "      <th>3</th>\n",
       "      <td>fetch_font</td>\n",
       "      <td>0.000120</td>\n",
       "    </tr>\n",
       "    <tr>\n",
       "      <th>4</th>\n",
       "      <td>fetch_font</td>\n",
       "      <td>0.000225</td>\n",
       "    </tr>\n",
       "    <tr>\n",
       "      <th>...</th>\n",
       "      <td>...</td>\n",
       "      <td>...</td>\n",
       "    </tr>\n",
       "    <tr>\n",
       "      <th>6449</th>\n",
       "      <td>is_support</td>\n",
       "      <td>0.022821</td>\n",
       "    </tr>\n",
       "    <tr>\n",
       "      <th>6450</th>\n",
       "      <td>is_support</td>\n",
       "      <td>0.023367</td>\n",
       "    </tr>\n",
       "    <tr>\n",
       "      <th>6451</th>\n",
       "      <td>is_support</td>\n",
       "      <td>0.023174</td>\n",
       "    </tr>\n",
       "    <tr>\n",
       "      <th>6452</th>\n",
       "      <td>is_support</td>\n",
       "      <td>0.023229</td>\n",
       "    </tr>\n",
       "    <tr>\n",
       "      <th>6453</th>\n",
       "      <td>is_support</td>\n",
       "      <td>0.028339</td>\n",
       "    </tr>\n",
       "  </tbody>\n",
       "</table>\n",
       "<p>6454 rows × 2 columns</p>\n",
       "</div>"
      ],
      "text/plain": [
       "     method_name  execution_time\n",
       "0     fetch_font        0.000296\n",
       "1     fetch_font        0.001524\n",
       "2     fetch_font        0.000408\n",
       "3     fetch_font        0.000120\n",
       "4     fetch_font        0.000225\n",
       "...          ...             ...\n",
       "6449  is_support        0.022821\n",
       "6450  is_support        0.023367\n",
       "6451  is_support        0.023174\n",
       "6452  is_support        0.023229\n",
       "6453  is_support        0.028339\n",
       "\n",
       "[6454 rows x 2 columns]"
      ]
     },
     "execution_count": 82,
     "metadata": {},
     "output_type": "execute_result"
    }
   ],
   "source": [
    "log = logs[-1]\n",
    "data = log.data\n",
    "data"
   ]
  },
  {
   "cell_type": "code",
   "execution_count": 84,
   "metadata": {},
   "outputs": [
    {
     "data": {
      "text/plain": [
       "array([[<matplotlib.axes._subplots.AxesSubplot object at 0x7fcc80d1b4a8>]],\n",
       "      dtype=object)"
      ]
     },
     "execution_count": 84,
     "metadata": {},
     "output_type": "execute_result"
    },
    {
     "data": {
      "image/png": "[encoded data removed]",
      "text/plain": [
       "<Figure size 432x288 with 1 Axes>"
      ]
     },
     "metadata": {
      "needs_background": "light"
     },
     "output_type": "display_data"
    }
   ],
   "source": [
    "data.hist()"
   ]
  },
  {
   "cell_type": "code",
   "execution_count": 83,
   "metadata": {},
   "outputs": [
    {
     "data": {
      "text/plain": [
       "436.96581292152405"
      ]
     },
     "execution_count": 83,
     "metadata": {},
     "output_type": "execute_result"
    }
   ],
   "source": [
    "data.execution_time.sum()"
   ]
  },
  {
   "cell_type": "code",
   "execution_count": 100,
   "metadata": {},
   "outputs": [
    {
     "data": {
      "text/plain": [
       "array([['fetch_font', 0.0002961158752441406],\n",
       "       ['fetch_font', 0.0015244483947753904],\n",
       "       ['fetch_font', 0.00040841102600097656],\n",
       "       ...,\n",
       "       ['is_support', 0.023173809051513672],\n",
       "       ['is_support', 0.023229122161865238],\n",
       "       ['is_support', 0.02833890914916992]], dtype=object)"
      ]
     },
     "execution_count": 100,
     "metadata": {},
     "output_type": "execute_result"
    }
   ],
   "source": [
    "np_data = data.to_numpy()\n",
    "np_data"
   ]
  },
  {
   "cell_type": "code",
   "execution_count": 101,
   "metadata": {},
   "outputs": [
    {
     "data": {
      "text/plain": [
       "(6454, 2)"
      ]
     },
     "execution_count": 101,
     "metadata": {},
     "output_type": "execute_result"
    }
   ],
   "source": [
    "np_data.shape"
   ]
  },
  {
   "cell_type": "code",
   "execution_count": 103,
   "metadata": {},
   "outputs": [
    {
     "name": "stdout",
     "output_type": "stream",
     "text": [
      "['fetch_font' 0.0002961158752441406]\n",
      "fetch_font 0.0002961158752441406\n"
     ]
    }
   ],
   "source": [
    "for row in np_data:\n",
    "    print(row)\n",
    "    method_name, execution_time = row[:2]\n",
    "    print(method_name, execution_time)\n",
    "    break"
   ]
  },
  {
   "cell_type": "code",
   "execution_count": 86,
   "metadata": {},
   "outputs": [
    {
     "data": {
      "text/plain": [
       "<pandas.core.groupby.generic.DataFrameGroupBy object at 0x7fcc7ff5fb38>"
      ]
     },
     "execution_count": 86,
     "metadata": {},
     "output_type": "execute_result"
    }
   ],
   "source": [
    "g = data.groupby('method_name')\n",
    "g"
   ]
  },
  {
   "cell_type": "code",
   "execution_count": 90,
   "metadata": {},
   "outputs": [
    {
     "data": {
      "text/html": [
       "<div>\n",
       "<style scoped>\n",
       "    .dataframe tbody tr th:only-of-type {\n",
       "        vertical-align: middle;\n",
       "    }\n",
       "\n",
       "    .dataframe tbody tr th {\n",
       "        vertical-align: top;\n",
       "    }\n",
       "\n",
       "    .dataframe thead th {\n",
       "        text-align: right;\n",
       "    }\n",
       "</style>\n",
       "<table border=\"1\" class=\"dataframe\">\n",
       "  <thead>\n",
       "    <tr style=\"text-align: right;\">\n",
       "      <th></th>\n",
       "      <th>execution_time</th>\n",
       "    </tr>\n",
       "    <tr>\n",
       "      <th>method_name</th>\n",
       "      <th></th>\n",
       "    </tr>\n",
       "  </thead>\n",
       "  <tbody>\n",
       "    <tr>\n",
       "      <th>fetch_font</th>\n",
       "      <td>0.020285</td>\n",
       "    </tr>\n",
       "    <tr>\n",
       "      <th>is_support</th>\n",
       "      <td>436.945528</td>\n",
       "    </tr>\n",
       "  </tbody>\n",
       "</table>\n",
       "</div>"
      ],
      "text/plain": [
       "             execution_time\n",
       "method_name                \n",
       "fetch_font         0.020285\n",
       "is_support       436.945528"
      ]
     },
     "execution_count": 90,
     "metadata": {},
     "output_type": "execute_result"
    }
   ],
   "source": [
    "execution_time_by_method_name = g.sum()\n",
    "execution_time_by_method_name"
   ]
  },
  {
   "cell_type": "code",
   "execution_count": 98,
   "metadata": {},
   "outputs": [
    {
     "data": {
      "text/html": [
       "<div>\n",
       "<style scoped>\n",
       "    .dataframe tbody tr th:only-of-type {\n",
       "        vertical-align: middle;\n",
       "    }\n",
       "\n",
       "    .dataframe tbody tr th {\n",
       "        vertical-align: top;\n",
       "    }\n",
       "\n",
       "    .dataframe thead th {\n",
       "        text-align: right;\n",
       "    }\n",
       "</style>\n",
       "<table border=\"1\" class=\"dataframe\">\n",
       "  <thead>\n",
       "    <tr style=\"text-align: right;\">\n",
       "      <th></th>\n",
       "      <th>execution_time</th>\n",
       "    </tr>\n",
       "    <tr>\n",
       "      <th>method_name</th>\n",
       "      <th></th>\n",
       "    </tr>\n",
       "  </thead>\n",
       "  <tbody>\n",
       "    <tr>\n",
       "      <th>fetch_font</th>\n",
       "      <td>0.020285</td>\n",
       "    </tr>\n",
       "    <tr>\n",
       "      <th>is_support</th>\n",
       "      <td>436.945528</td>\n",
       "    </tr>\n",
       "  </tbody>\n",
       "</table>\n",
       "</div>"
      ],
      "text/plain": [
       "             execution_time\n",
       "method_name                \n",
       "fetch_font         0.020285\n",
       "is_support       436.945528"
      ]
     },
     "execution_count": 98,
     "metadata": {},
     "output_type": "execute_result"
    }
   ],
   "source": [
    "execution_time_by_method_name"
   ]
  },
  {
   "cell_type": "code",
   "execution_count": 96,
   "metadata": {},
   "outputs": [
    {
     "data": {
      "text/plain": [
       "array([[2.02851295e-02],\n",
       "       [4.36945528e+02]])"
      ]
     },
     "execution_count": 96,
     "metadata": {},
     "output_type": "execute_result"
    }
   ],
   "source": [
    "execution_time_by_method_name.to_numpy()"
   ]
  },
  {
   "cell_type": "markdown",
   "metadata": {},
   "source": [
    "# 3 plots\n",
    "\n",
    "- Plot the total amount of time for each methods\n",
    "- Plot the number of calls for each methods\n",
    "- Plot max, min, and avg for each methods"
   ]
  },
  {
   "cell_type": "code",
   "execution_count": 110,
   "metadata": {},
   "outputs": [
    {
     "data": {
      "text/plain": [
       "{'fetch_font': {'num_calls': 46,\n",
       "  'total_exec_time': 0.02028512954711914,\n",
       "  'min': 9.989738464355467e-05,\n",
       "  'max': 0.0018551349639892574,\n",
       "  'avg': 0.0004409810771112857},\n",
       " 'is_support': {'num_calls': 6408,\n",
       "  'total_exec_time': 436.94552779197693,\n",
       "  'min': 0.01925802230834961,\n",
       "  'max': 0.2489619255065918,\n",
       "  'avg': 0.06818750433707504}}"
      ]
     },
     "execution_count": 110,
     "metadata": {},
     "output_type": "execute_result"
    }
   ],
   "source": [
    "func_data = {}\n",
    "\n",
    "for row in np_data:\n",
    "    func_name, exec_time = row[:2]\n",
    "    if func_name in func_data:\n",
    "        func_data[func_name]['num_calls'] += 1\n",
    "        func_data[func_name]['total_exec_time'] += exec_time\n",
    "\n",
    "        last_min = func_data[func_name]['min']\n",
    "        func_data[func_name]['min'] = min(exec_time, last_min)\n",
    "\n",
    "        last_max = func_data[func_name]['max']\n",
    "        func_data[func_name]['max'] = max(exec_time, last_max)\n",
    "    else:\n",
    "        func_data[func_name] = {\n",
    "            'num_calls': 1,\n",
    "            'total_exec_time': exec_time,\n",
    "            'min': exec_time,\n",
    "            'max': exec_time,\n",
    "        }\n",
    "\n",
    "for func_name in func_data:\n",
    "    # calculate and average\n",
    "    total_exec_time = func_data[func_name]['total_exec_time']\n",
    "    num_calls = func_data[func_name]['num_calls']\n",
    "\n",
    "    func_data[func_name]['avg'] = total_exec_time / num_calls\n",
    "    \n",
    "func_data"
   ]
  },
  {
   "cell_type": "code",
   "execution_count": 107,
   "metadata": {},
   "outputs": [
    {
     "name": "stdout",
     "output_type": "stream",
     "text": [
      "fetch_font\n",
      "is_support\n"
     ]
    }
   ],
   "source": [
    "for key in func_data:\n",
    "    print(key)"
   ]
  },
  {
   "cell_type": "code",
   "execution_count": 115,
   "metadata": {},
   "outputs": [
    {
     "data": {
      "image/png": "[encoded data removed]",
      "text/plain": [
       "<Figure size 432x288 with 1 Axes>"
      ]
     },
     "metadata": {
      "needs_background": "light"
     },
     "output_type": "display_data"
    }
   ],
   "source": [
    "plt.title('total amount of execution time')\n",
    "names = []\n",
    "values = []\n",
    "for func_name in func_data:\n",
    "    names.append(func_name)\n",
    "    values.append(func_data[func_name]['total_exec_time'])\n",
    "\n",
    "bars = plt.bar(names, values)\n",
    "# show values on top of bars\n",
    "# https://stackoverflow.com/questions/53066633/python-how-to-show-values-on-top-of-bar-plot\n",
    "text_height_delta = max(values) * .005\n",
    "for idx, bar in enumerate(bars):\n",
    "    y = bar.get_height()\n",
    "    plt.text(\n",
    "        x=bar.get_x() + bar.get_width()*0.3,\n",
    "        y=bar.get_height() + text_height_delta,\n",
    "        s=f'{values[idx]:.2f}',\n",
    "    )"
   ]
  },
  {
   "cell_type": "code",
   "execution_count": 116,
   "metadata": {},
   "outputs": [
    {
     "data": {
      "text/plain": [
       "<BarContainer object of 2 artists>"
      ]
     },
     "execution_count": 116,
     "metadata": {},
     "output_type": "execute_result"
    }
   ],
   "source": [
    "bars"
   ]
  },
  {
   "cell_type": "code",
   "execution_count": 117,
   "metadata": {},
   "outputs": [
    {
     "data": {
      "text/plain": [
       "matplotlib.container.BarContainer"
      ]
     },
     "execution_count": 117,
     "metadata": {},
     "output_type": "execute_result"
    }
   ],
   "source": [
    "type(bars)"
   ]
  },
  {
   "cell_type": "code",
   "execution_count": 119,
   "metadata": {},
   "outputs": [
    {
     "data": {
      "text/plain": [
       "array([0, 1, 2, 3, 4, 5, 6, 7])"
      ]
     },
     "execution_count": 119,
     "metadata": {},
     "output_type": "execute_result"
    }
   ],
   "source": [
    "x = np.arange(8)\n",
    "x"
   ]
  },
  {
   "cell_type": "code",
   "execution_count": 120,
   "metadata": {
    "scrolled": true
   },
   "outputs": [
    {
     "data": {
      "text/plain": [
       "array([ 0,  2,  4,  6,  8, 10, 12, 14])"
      ]
     },
     "execution_count": 120,
     "metadata": {},
     "output_type": "execute_result"
    }
   ],
   "source": [
    "x * 2"
   ]
  },
  {
   "cell_type": "code",
   "execution_count": 121,
   "metadata": {},
   "outputs": [],
   "source": [
    "class TerminateColor:\n",
    "    HEADER = '\\033[95m'\n",
    "    OKBLUE = '\\033[94m'\n",
    "    OKGREEN = '\\033[92m'\n",
    "    WARNING = '\\033[93m'\n",
    "    FAIL = '\\033[91m'\n",
    "    ENDC = '\\033[0m'"
   ]
  },
  {
   "cell_type": "code",
   "execution_count": 122,
   "metadata": {},
   "outputs": [
    {
     "name": "stdout",
     "output_type": "stream",
     "text": [
      "\u001b[95mHeader\u001b[0m\n",
      "\u001b[94mOKBLUE\u001b[0m\n",
      "\u001b[92mOKGREEN\u001b[0m\n",
      "\u001b[93mWARNING\u001b[0m\n",
      "\u001b[91mFAIL\u001b[0m\n"
     ]
    }
   ],
   "source": [
    "print(f'{TerminateColor.HEADER}Header{TerminateColor.ENDC}')\n",
    "print(f'{TerminateColor.OKBLUE}OKBLUE{TerminateColor.ENDC}')\n",
    "print(f'{TerminateColor.OKGREEN}OKGREEN{TerminateColor.ENDC}')\n",
    "print(f'{TerminateColor.WARNING}WARNING{TerminateColor.ENDC}')\n",
    "print(f'{TerminateColor.FAIL}FAIL{TerminateColor.ENDC}')"
   ]
  }
 ],
 "metadata": {
  "kernelspec": {
   "display_name": "Python 3",
   "language": "python",
   "name": "python3"
  },
  "language_info": {
   "codemirror_mode": {
    "name": "ipython",
    "version": 3
   },
   "file_extension": ".py",
   "mimetype": "text/x-python",
   "name": "python",
   "nbconvert_exporter": "python",
   "pygments_lexer": "ipython3",
   "version": "3.6.9"
  }
 },
 "nbformat": 4,
 "nbformat_minor": 4
}
