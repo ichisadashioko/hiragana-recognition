{
 "cells": [
  {
   "cell_type": "code",
   "execution_count": 1,
   "metadata": {},
   "outputs": [],
   "source": [
    "# encoding=utf-8\n",
    "import os\n",
    "import time\n",
    "import re\n",
    "import unicodedata\n",
    "import traceback\n",
    "import warnings\n",
    "from typing import Callable\n",
    "import importlib\n",
    "\n",
    "from tqdm import tqdm\n",
    "from PIL import Image, ImageFont, ImageDraw\n",
    "import numpy as np\n",
    "import pandas as pd\n",
    "import matplotlib.pyplot as plt\n",
    "from fontTools.ttLib import TTFont"
   ]
  },
  {
   "cell_type": "code",
   "execution_count": 2,
   "metadata": {},
   "outputs": [],
   "source": [
    "import utils\n",
    "importlib.reload(utils)\n",
    "\n",
    "from utils import fetch_font, LOG_DIRECTORY, LOG_SUFFIX, COLUMN_SEPARATOR, LogFile"
   ]
  },
  {
   "cell_type": "code",
   "execution_count": 3,
   "metadata": {},
   "outputs": [
    {
     "data": {
      "text/plain": [
       "True"
      ]
     },
     "execution_count": 3,
     "metadata": {},
     "output_type": "execute_result"
    }
   ],
   "source": [
    "fonts_dir = 'fonts'\n",
    "font_size = 64\n",
    "os.path.exists(fonts_dir)"
   ]
  },
  {
   "cell_type": "code",
   "execution_count": 4,
   "metadata": {},
   "outputs": [
    {
     "name": "stderr",
     "output_type": "stream",
     "text": [
      "/home/shioko/venv/lib/python3.6/site-packages/ipykernel_launcher.py:17: UserWarning: Skipping unknown file type fonts/readme.txt!\n"
     ]
    }
   ],
   "source": [
    "font_list = []\n",
    "file_list = os.listdir(fonts_dir)\n",
    "for filename in file_list:\n",
    "    child_path = os.path.join(fonts_dir, filename)\n",
    "\n",
    "    if not os.path.isfile(child_path):\n",
    "        warnings.warn(f'Skipping directory {child_path}!')\n",
    "        continue\n",
    "\n",
    "    file_ext = os.path.splitext(filename)[1]\n",
    "    file_ext = file_ext.lower()\n",
    "\n",
    "    if (file_ext == '.ttf') or (file_ext == '.otf'):\n",
    "        font = fetch_font(child_path, font_size=font_size)\n",
    "        font_list.append(font)\n",
    "    else:\n",
    "        warnings.warn(f'Skipping unknown file type {child_path}!')\n",
    "        continue"
   ]
  },
  {
   "cell_type": "code",
   "execution_count": null,
   "metadata": {
    "scrolled": true
   },
   "outputs": [],
   "source": [
    "font_list"
   ]
  },
  {
   "cell_type": "code",
   "execution_count": null,
   "metadata": {},
   "outputs": [],
   "source": [
    "font = font_list[0]\n",
    "font"
   ]
  },
  {
   "cell_type": "code",
   "execution_count": 7,
   "metadata": {},
   "outputs": [],
   "source": [
    "image_size = 64"
   ]
  },
  {
   "cell_type": "code",
   "execution_count": 8,
   "metadata": {},
   "outputs": [
    {
     "data": {
      "text/plain": [
       "128"
      ]
     },
     "execution_count": 8,
     "metadata": {},
     "output_type": "execute_result"
    }
   ],
   "source": [
    "canvas_size = int(max(font.size*2, image_size))\n",
    "canvas_size"
   ]
  },
  {
   "cell_type": "code",
   "execution_count": 9,
   "metadata": {},
   "outputs": [],
   "source": [
    "canvas = Image.new('L', (canvas_size, canvas_size), color=0)\n",
    "ctx = ImageDraw.Draw(canvas)"
   ]
  },
  {
   "cell_type": "code",
   "execution_count": 10,
   "metadata": {},
   "outputs": [
    {
     "data": {
      "text/plain": [
       "(32.0, 32.0)"
      ]
     },
     "execution_count": 10,
     "metadata": {},
     "output_type": "execute_result"
    }
   ],
   "source": [
    "char_x = (canvas_size - font.size) / 2\n",
    "char_y = (canvas_size - font.size) / 2\n",
    "char_origin_pos = (char_x, char_y)\n",
    "char_origin_pos"
   ]
  },
  {
   "cell_type": "code",
   "execution_count": 11,
   "metadata": {},
   "outputs": [],
   "source": [
    "c = 'あ'"
   ]
  },
  {
   "cell_type": "code",
   "execution_count": 12,
   "metadata": {},
   "outputs": [],
   "source": [
    "ctx.text(\n",
    "    xy=char_origin_pos,\n",
    "    text=c,\n",
    "    fill=255,\n",
    "    font=font.font,\n",
    ")"
   ]
  },
  {
   "cell_type": "code",
   "execution_count": 13,
   "metadata": {},
   "outputs": [
    {
     "data": {
      "text/plain": [
       "PIL.Image.Image"
      ]
     },
     "execution_count": 13,
     "metadata": {},
     "output_type": "execute_result"
    }
   ],
   "source": [
    "type(canvas)"
   ]
  },
  {
   "cell_type": "code",
   "execution_count": 14,
   "metadata": {},
   "outputs": [],
   "source": [
    "canvas.save('sample_a.png', format='PNG')"
   ]
  },
  {
   "cell_type": "code",
   "execution_count": 15,
   "metadata": {},
   "outputs": [
    {
     "data": {
      "text/plain": [
       "(128, 128)"
      ]
     },
     "execution_count": 15,
     "metadata": {},
     "output_type": "execute_result"
    }
   ],
   "source": [
    "np_img = np.asarray(canvas, dtype=np.uint8)\n",
    "np_img.shape"
   ]
  },
  {
   "cell_type": "code",
   "execution_count": 16,
   "metadata": {},
   "outputs": [
    {
     "data": {
      "text/plain": [
       "<matplotlib.image.AxesImage at 0x7fb940aac780>"
      ]
     },
     "execution_count": 16,
     "metadata": {},
     "output_type": "execute_result"
    },
    {
     "data": {
      "image/png": "[encoded data removed]",
      "text/plain": [
       "<Figure size 432x288 with 1 Axes>"
      ]
     },
     "metadata": {
      "needs_background": "light"
     },
     "output_type": "display_data"
    }
   ],
   "source": [
    "plt.imshow(np_img)"
   ]
  },
  {
   "cell_type": "code",
   "execution_count": 17,
   "metadata": {},
   "outputs": [
    {
     "data": {
      "text/plain": [
       "tuple"
      ]
     },
     "execution_count": 17,
     "metadata": {},
     "output_type": "execute_result"
    }
   ],
   "source": [
    "non_zeros_indices = np_img.nonzero()\n",
    "type(non_zeros_indices)"
   ]
  },
  {
   "cell_type": "code",
   "execution_count": 18,
   "metadata": {},
   "outputs": [
    {
     "data": {
      "text/plain": [
       "2"
      ]
     },
     "execution_count": 18,
     "metadata": {},
     "output_type": "execute_result"
    }
   ],
   "source": [
    "len(non_zeros_indices)"
   ]
  },
  {
   "cell_type": "code",
   "execution_count": 19,
   "metadata": {},
   "outputs": [
    {
     "data": {
      "text/plain": [
       "1640"
      ]
     },
     "execution_count": 19,
     "metadata": {},
     "output_type": "execute_result"
    }
   ],
   "source": [
    "len(non_zeros_indices[0])"
   ]
  },
  {
   "cell_type": "code",
   "execution_count": 20,
   "metadata": {},
   "outputs": [
    {
     "data": {
      "text/plain": [
       "1640"
      ]
     },
     "execution_count": 20,
     "metadata": {},
     "output_type": "execute_result"
    }
   ],
   "source": [
    "len(non_zeros_indices[1])"
   ]
  },
  {
   "cell_type": "code",
   "execution_count": 21,
   "metadata": {},
   "outputs": [
    {
     "data": {
      "text/plain": [
       "(array([33, 33, 33, ..., 89, 89, 89]), array([56, 57, 58, ..., 54, 55, 56]))"
      ]
     },
     "execution_count": 21,
     "metadata": {},
     "output_type": "execute_result"
    }
   ],
   "source": [
    "non_zeros_indices"
   ]
  },
  {
   "cell_type": "code",
   "execution_count": 22,
   "metadata": {},
   "outputs": [
    {
     "data": {
      "text/plain": [
       "(37, 91, 33, 89, 54, 56)"
      ]
     },
     "execution_count": 22,
     "metadata": {},
     "output_type": "execute_result"
    }
   ],
   "source": [
    "zero_ys, zero_xs = np_img.nonzero()[:2]  # `[:2]` just to be safe\n",
    "\n",
    "min_x, max_x = min(zero_xs), max(zero_xs)\n",
    "min_y, max_y = min(zero_ys), max(zero_ys)\n",
    "\n",
    "# the character dimensions is caculated based on the nonzero pixels\n",
    "character_width = max_x - min_x\n",
    "character_height = max_y - min_y\n",
    "\n",
    "min_x, max_x, min_y, max_y, character_width, character_height"
   ]
  },
  {
   "cell_type": "code",
   "execution_count": 23,
   "metadata": {},
   "outputs": [
    {
     "data": {
      "text/plain": [
       "(128, 128, 3)"
      ]
     },
     "execution_count": 23,
     "metadata": {},
     "output_type": "execute_result"
    }
   ],
   "source": [
    "rgb_canvas = np.stack((np_img,)*3, axis=-1)\n",
    "rgb_canvas.shape"
   ]
  },
  {
   "cell_type": "code",
   "execution_count": 24,
   "metadata": {},
   "outputs": [
    {
     "data": {
      "image/png": "[encoded data removed]",
      "text/plain": [
       "<PIL.Image.Image image mode=RGB size=128x128 at 0x7FB94D4FF128>"
      ]
     },
     "execution_count": 24,
     "metadata": {},
     "output_type": "execute_result"
    }
   ],
   "source": [
    "pil_image = Image.fromarray(rgb_canvas)\n",
    "draw_obj = ImageDraw.Draw(pil_image)\n",
    "\n",
    "draw_obj.rectangle(\n",
    "    xy=[(min_x, min_y), (max_x, max_y)],\n",
    "    outline=(0,255,0),\n",
    "    width=1,\n",
    ")\n",
    "\n",
    "pil_image"
   ]
  },
  {
   "cell_type": "code",
   "execution_count": 25,
   "metadata": {},
   "outputs": [],
   "source": [
    "pil_image.save('sample_a_with_bounding_box.png', format='PNG')"
   ]
  },
  {
   "cell_type": "code",
   "execution_count": 26,
   "metadata": {},
   "outputs": [
    {
     "data": {
      "text/plain": [
       "64"
      ]
     },
     "execution_count": 26,
     "metadata": {},
     "output_type": "execute_result"
    }
   ],
   "source": [
    "canvas_size - image_size"
   ]
  },
  {
   "cell_type": "code",
   "execution_count": 27,
   "metadata": {},
   "outputs": [
    {
     "name": "stdout",
     "output_type": "stream",
     "text": [
      "32 29\n"
     ]
    },
    {
     "data": {
      "image/png": "[encoded data removed]",
      "text/plain": [
       "<PIL.Image.Image image mode=RGB size=128x128 at 0x7FB94D4FF128>"
      ]
     },
     "execution_count": 27,
     "metadata": {},
     "output_type": "execute_result"
    }
   ],
   "source": [
    "image_offset_top = min_y - int((image_size - character_height)/2)\n",
    "image_offset_left = min_x - int((image_size - character_width)/2)\n",
    "\n",
    "print(image_offset_left, image_offset_top)\n",
    "\n",
    "draw_obj.rectangle(\n",
    "    xy=[(image_offset_left, image_offset_top), (image_offset_left+image_size, image_offset_top+image_size)],\n",
    "    outline=(0,0,255),\n",
    "    width=1,\n",
    ")\n",
    "\n",
    "pil_image"
   ]
  },
  {
   "cell_type": "code",
   "execution_count": 28,
   "metadata": {},
   "outputs": [],
   "source": [
    "pil_image.save('sample_a_with_bounding_boxes_for_exporting_image.png', 'PNG')"
   ]
  },
  {
   "cell_type": "code",
   "execution_count": 29,
   "metadata": {
    "scrolled": true
   },
   "outputs": [
    {
     "name": "stdout",
     "output_type": "stream",
     "text": [
      "48.0 45.0\n"
     ]
    },
    {
     "data": {
      "image/png": "[encoded data removed]",
      "text/plain": [
       "<PIL.Image.Image image mode=RGB size=128x128 at 0x7FB94D4FF128>"
      ]
     },
     "execution_count": 29,
     "metadata": {},
     "output_type": "execute_result"
    }
   ],
   "source": [
    "# experiment with image size smaller than font size\n",
    "image_size = 32\n",
    "image_offset_top = min_y - (image_size - character_height)/2\n",
    "image_offset_left = min_x - (image_size - character_width)/2\n",
    "\n",
    "print(image_offset_left, image_offset_top)\n",
    "\n",
    "draw_obj.rectangle(\n",
    "    xy=[(image_offset_left, image_offset_top), (image_offset_left+image_size, image_offset_top+image_size)],\n",
    "    outline=(255,0,0),\n",
    "    width=1,\n",
    ")\n",
    "\n",
    "pil_image"
   ]
  },
  {
   "cell_type": "code",
   "execution_count": 30,
   "metadata": {},
   "outputs": [
    {
     "data": {
      "text/plain": [
       "['1586661863.311972-runtime.log',\n",
       " '1586662042.1526327-runtime.log',\n",
       " '1586662082.3868406-runtime.log',\n",
       " '1586662097.7665117-runtime.log',\n",
       " '1586676971.023995-runtime.log',\n",
       " '1586677160.823435-runtime.log',\n",
       " '1586691725.5852675-runtime.log',\n",
       " '1586691782.888618-runtime.log',\n",
       " '1586791139.7935503-runtime.log',\n",
       " '1586791220.6789849-runtime.log',\n",
       " '1586791258.085564-runtime.log',\n",
       " '1586791294.405975-runtime.log',\n",
       " '1586791367.6133404-runtime.log',\n",
       " '1586795362.6864376-runtime.log',\n",
       " '1586795381.2372532-runtime.log',\n",
       " '1586825108.9177797-runtime.log',\n",
       " '1586825384.5339162-runtime.log',\n",
       " '1586874051.136705-runtime.log']"
      ]
     },
     "execution_count": 30,
     "metadata": {},
     "output_type": "execute_result"
    }
   ],
   "source": [
    "file_list = os.listdir(LOG_DIRECTORY)\n",
    "file_list"
   ]
  },
  {
   "cell_type": "code",
   "execution_count": 52,
   "metadata": {},
   "outputs": [],
   "source": [
    "logs = []\n",
    "\n",
    "for filename in file_list:\n",
    "    if not LOG_SUFFIX in filename:\n",
    "        print(f'[WARNING] Skipping file {filename}.')\n",
    "        continue\n",
    "\n",
    "    filepath = os.path.join(LOG_DIRECTORY, filename)\n",
    "\n",
    "    try:\n",
    "        log_data = pd.read_csv(filepath, sep=COLUMN_SEPARATOR, names=('method_name', 'execution_time'))\n",
    "    except:\n",
    "        print(f'[WARNING] Skipping incompatible format {filename}!')\n",
    "        continue\n",
    "\n",
    "    ts = float(filename.replace(LOG_SUFFIX, ''))\n",
    "    log_file = LogFile(filename, ts, log_data)\n",
    "    logs.append(log_file)\n",
    "\n",
    "logs.sort(key=lambda x: x.ts, reverse=True)"
   ]
  },
  {
   "cell_type": "code",
   "execution_count": 53,
   "metadata": {},
   "outputs": [
    {
     "data": {
      "text/plain": [
       "[('2020-04-14_14-20-51', '1586874051.136705-runtime.log'),\n",
       " ('2020-04-14_00-49-44', '1586825384.5339162-runtime.log'),\n",
       " ('2020-04-14_00-45-08', '1586825108.9177797-runtime.log'),\n",
       " ('2020-04-13_16-29-41', '1586795381.2372532-runtime.log'),\n",
       " ('2020-04-13_16-29-22', '1586795362.6864376-runtime.log'),\n",
       " ('2020-04-13_15-22-47', '1586791367.6133404-runtime.log'),\n",
       " ('2020-04-13_15-21-34', '1586791294.405975-runtime.log'),\n",
       " ('2020-04-13_15-20-58', '1586791258.085564-runtime.log'),\n",
       " ('2020-04-13_15-20-20', '1586791220.6789849-runtime.log'),\n",
       " ('2020-04-13_15-18-59', '1586791139.7935503-runtime.log'),\n",
       " ('2020-04-12_11-43-02', '1586691782.888618-runtime.log'),\n",
       " ('2020-04-12_11-42-05', '1586691725.5852675-runtime.log'),\n",
       " ('2020-04-12_07-39-20', '1586677160.823435-runtime.log'),\n",
       " ('2020-04-12_07-36-11', '1586676971.023995-runtime.log'),\n",
       " ('2020-04-12_03-28-17', '1586662097.7665117-runtime.log'),\n",
       " ('2020-04-12_03-28-02', '1586662082.3868406-runtime.log'),\n",
       " ('2020-04-12_03-27-22', '1586662042.1526327-runtime.log'),\n",
       " ('2020-04-12_03-24-23', '1586661863.311972-runtime.log')]"
      ]
     },
     "execution_count": 53,
     "metadata": {},
     "output_type": "execute_result"
    }
   ],
   "source": [
    "logs"
   ]
  },
  {
   "cell_type": "code",
   "execution_count": 54,
   "metadata": {},
   "outputs": [
    {
     "data": {
      "text/html": [
       "<div>\n",
       "<style scoped>\n",
       "    .dataframe tbody tr th:only-of-type {\n",
       "        vertical-align: middle;\n",
       "    }\n",
       "\n",
       "    .dataframe tbody tr th {\n",
       "        vertical-align: top;\n",
       "    }\n",
       "\n",
       "    .dataframe thead th {\n",
       "        text-align: right;\n",
       "    }\n",
       "</style>\n",
       "<table border=\"1\" class=\"dataframe\">\n",
       "  <thead>\n",
       "    <tr style=\"text-align: right;\">\n",
       "      <th></th>\n",
       "      <th>method_name</th>\n",
       "      <th>execution_time</th>\n",
       "    </tr>\n",
       "  </thead>\n",
       "  <tbody>\n",
       "    <tr>\n",
       "      <th>0</th>\n",
       "      <td>fetch_font</td>\n",
       "      <td>0.983982</td>\n",
       "    </tr>\n",
       "    <tr>\n",
       "      <th>1</th>\n",
       "      <td>fetch_font</td>\n",
       "      <td>0.712611</td>\n",
       "    </tr>\n",
       "    <tr>\n",
       "      <th>2</th>\n",
       "      <td>fetch_font</td>\n",
       "      <td>1.052044</td>\n",
       "    </tr>\n",
       "    <tr>\n",
       "      <th>3</th>\n",
       "      <td>fetch_font</td>\n",
       "      <td>0.128916</td>\n",
       "    </tr>\n",
       "    <tr>\n",
       "      <th>4</th>\n",
       "      <td>fetch_font</td>\n",
       "      <td>0.046987</td>\n",
       "    </tr>\n",
       "    <tr>\n",
       "      <th>5</th>\n",
       "      <td>fetch_font</td>\n",
       "      <td>0.042769</td>\n",
       "    </tr>\n",
       "    <tr>\n",
       "      <th>6</th>\n",
       "      <td>fetch_font</td>\n",
       "      <td>0.033545</td>\n",
       "    </tr>\n",
       "    <tr>\n",
       "      <th>7</th>\n",
       "      <td>fetch_font</td>\n",
       "      <td>0.088705</td>\n",
       "    </tr>\n",
       "    <tr>\n",
       "      <th>8</th>\n",
       "      <td>fetch_font</td>\n",
       "      <td>0.050754</td>\n",
       "    </tr>\n",
       "    <tr>\n",
       "      <th>9</th>\n",
       "      <td>fetch_font</td>\n",
       "      <td>0.070142</td>\n",
       "    </tr>\n",
       "    <tr>\n",
       "      <th>10</th>\n",
       "      <td>fetch_font</td>\n",
       "      <td>0.170149</td>\n",
       "    </tr>\n",
       "    <tr>\n",
       "      <th>11</th>\n",
       "      <td>fetch_font</td>\n",
       "      <td>0.070203</td>\n",
       "    </tr>\n",
       "    <tr>\n",
       "      <th>12</th>\n",
       "      <td>fetch_font</td>\n",
       "      <td>0.058174</td>\n",
       "    </tr>\n",
       "    <tr>\n",
       "      <th>13</th>\n",
       "      <td>fetch_font</td>\n",
       "      <td>0.046776</td>\n",
       "    </tr>\n",
       "    <tr>\n",
       "      <th>14</th>\n",
       "      <td>fetch_font</td>\n",
       "      <td>0.095080</td>\n",
       "    </tr>\n",
       "    <tr>\n",
       "      <th>15</th>\n",
       "      <td>fetch_font</td>\n",
       "      <td>0.059413</td>\n",
       "    </tr>\n",
       "    <tr>\n",
       "      <th>16</th>\n",
       "      <td>fetch_font</td>\n",
       "      <td>0.739121</td>\n",
       "    </tr>\n",
       "    <tr>\n",
       "      <th>17</th>\n",
       "      <td>fetch_font</td>\n",
       "      <td>0.240211</td>\n",
       "    </tr>\n",
       "    <tr>\n",
       "      <th>18</th>\n",
       "      <td>fetch_font</td>\n",
       "      <td>0.082842</td>\n",
       "    </tr>\n",
       "    <tr>\n",
       "      <th>19</th>\n",
       "      <td>fetch_font</td>\n",
       "      <td>0.066387</td>\n",
       "    </tr>\n",
       "    <tr>\n",
       "      <th>20</th>\n",
       "      <td>fetch_font</td>\n",
       "      <td>0.100137</td>\n",
       "    </tr>\n",
       "    <tr>\n",
       "      <th>21</th>\n",
       "      <td>fetch_font</td>\n",
       "      <td>0.038611</td>\n",
       "    </tr>\n",
       "    <tr>\n",
       "      <th>22</th>\n",
       "      <td>fetch_font</td>\n",
       "      <td>0.066279</td>\n",
       "    </tr>\n",
       "    <tr>\n",
       "      <th>23</th>\n",
       "      <td>fetch_font</td>\n",
       "      <td>0.050050</td>\n",
       "    </tr>\n",
       "    <tr>\n",
       "      <th>24</th>\n",
       "      <td>fetch_font</td>\n",
       "      <td>0.076016</td>\n",
       "    </tr>\n",
       "    <tr>\n",
       "      <th>25</th>\n",
       "      <td>fetch_font</td>\n",
       "      <td>0.113759</td>\n",
       "    </tr>\n",
       "    <tr>\n",
       "      <th>26</th>\n",
       "      <td>fetch_font</td>\n",
       "      <td>0.132887</td>\n",
       "    </tr>\n",
       "    <tr>\n",
       "      <th>27</th>\n",
       "      <td>fetch_font</td>\n",
       "      <td>0.072875</td>\n",
       "    </tr>\n",
       "    <tr>\n",
       "      <th>28</th>\n",
       "      <td>fetch_font</td>\n",
       "      <td>0.068528</td>\n",
       "    </tr>\n",
       "    <tr>\n",
       "      <th>29</th>\n",
       "      <td>fetch_font</td>\n",
       "      <td>0.606563</td>\n",
       "    </tr>\n",
       "    <tr>\n",
       "      <th>30</th>\n",
       "      <td>fetch_font</td>\n",
       "      <td>0.559929</td>\n",
       "    </tr>\n",
       "    <tr>\n",
       "      <th>31</th>\n",
       "      <td>fetch_font</td>\n",
       "      <td>2.013085</td>\n",
       "    </tr>\n",
       "    <tr>\n",
       "      <th>32</th>\n",
       "      <td>fetch_font</td>\n",
       "      <td>1.964908</td>\n",
       "    </tr>\n",
       "    <tr>\n",
       "      <th>33</th>\n",
       "      <td>fetch_font</td>\n",
       "      <td>0.502078</td>\n",
       "    </tr>\n",
       "    <tr>\n",
       "      <th>34</th>\n",
       "      <td>fetch_font</td>\n",
       "      <td>0.507584</td>\n",
       "    </tr>\n",
       "    <tr>\n",
       "      <th>35</th>\n",
       "      <td>fetch_font</td>\n",
       "      <td>0.073219</td>\n",
       "    </tr>\n",
       "    <tr>\n",
       "      <th>36</th>\n",
       "      <td>fetch_font</td>\n",
       "      <td>0.209166</td>\n",
       "    </tr>\n",
       "    <tr>\n",
       "      <th>37</th>\n",
       "      <td>fetch_font</td>\n",
       "      <td>0.037390</td>\n",
       "    </tr>\n",
       "    <tr>\n",
       "      <th>38</th>\n",
       "      <td>fetch_font</td>\n",
       "      <td>0.150436</td>\n",
       "    </tr>\n",
       "    <tr>\n",
       "      <th>39</th>\n",
       "      <td>fetch_font</td>\n",
       "      <td>0.106795</td>\n",
       "    </tr>\n",
       "    <tr>\n",
       "      <th>40</th>\n",
       "      <td>fetch_font</td>\n",
       "      <td>0.028693</td>\n",
       "    </tr>\n",
       "    <tr>\n",
       "      <th>41</th>\n",
       "      <td>fetch_font</td>\n",
       "      <td>0.115281</td>\n",
       "    </tr>\n",
       "    <tr>\n",
       "      <th>42</th>\n",
       "      <td>fetch_font</td>\n",
       "      <td>0.145209</td>\n",
       "    </tr>\n",
       "    <tr>\n",
       "      <th>43</th>\n",
       "      <td>fetch_font</td>\n",
       "      <td>0.207927</td>\n",
       "    </tr>\n",
       "    <tr>\n",
       "      <th>44</th>\n",
       "      <td>fetch_font</td>\n",
       "      <td>0.179485</td>\n",
       "    </tr>\n",
       "    <tr>\n",
       "      <th>45</th>\n",
       "      <td>fetch_font</td>\n",
       "      <td>0.064885</td>\n",
       "    </tr>\n",
       "  </tbody>\n",
       "</table>\n",
       "</div>"
      ],
      "text/plain": [
       "   method_name  execution_time\n",
       "0   fetch_font        0.983982\n",
       "1   fetch_font        0.712611\n",
       "2   fetch_font        1.052044\n",
       "3   fetch_font        0.128916\n",
       "4   fetch_font        0.046987\n",
       "5   fetch_font        0.042769\n",
       "6   fetch_font        0.033545\n",
       "7   fetch_font        0.088705\n",
       "8   fetch_font        0.050754\n",
       "9   fetch_font        0.070142\n",
       "10  fetch_font        0.170149\n",
       "11  fetch_font        0.070203\n",
       "12  fetch_font        0.058174\n",
       "13  fetch_font        0.046776\n",
       "14  fetch_font        0.095080\n",
       "15  fetch_font        0.059413\n",
       "16  fetch_font        0.739121\n",
       "17  fetch_font        0.240211\n",
       "18  fetch_font        0.082842\n",
       "19  fetch_font        0.066387\n",
       "20  fetch_font        0.100137\n",
       "21  fetch_font        0.038611\n",
       "22  fetch_font        0.066279\n",
       "23  fetch_font        0.050050\n",
       "24  fetch_font        0.076016\n",
       "25  fetch_font        0.113759\n",
       "26  fetch_font        0.132887\n",
       "27  fetch_font        0.072875\n",
       "28  fetch_font        0.068528\n",
       "29  fetch_font        0.606563\n",
       "30  fetch_font        0.559929\n",
       "31  fetch_font        2.013085\n",
       "32  fetch_font        1.964908\n",
       "33  fetch_font        0.502078\n",
       "34  fetch_font        0.507584\n",
       "35  fetch_font        0.073219\n",
       "36  fetch_font        0.209166\n",
       "37  fetch_font        0.037390\n",
       "38  fetch_font        0.150436\n",
       "39  fetch_font        0.106795\n",
       "40  fetch_font        0.028693\n",
       "41  fetch_font        0.115281\n",
       "42  fetch_font        0.145209\n",
       "43  fetch_font        0.207927\n",
       "44  fetch_font        0.179485\n",
       "45  fetch_font        0.064885"
      ]
     },
     "execution_count": 54,
     "metadata": {},
     "output_type": "execute_result"
    }
   ],
   "source": [
    "log = logs[0]\n",
    "data = log.data\n",
    "data"
   ]
  },
  {
   "cell_type": "code",
   "execution_count": 34,
   "metadata": {},
   "outputs": [
    {
     "data": {
      "text/plain": [
       "array([[<matplotlib.axes._subplots.AxesSubplot object at 0x7fb942784550>]],\n",
       "      dtype=object)"
      ]
     },
     "execution_count": 34,
     "metadata": {},
     "output_type": "execute_result"
    },
    {
     "data": {
      "image/png": "[encoded data removed]",
      "text/plain": [
       "<Figure size 432x288 with 1 Axes>"
      ]
     },
     "metadata": {
      "needs_background": "light"
     },
     "output_type": "display_data"
    }
   ],
   "source": [
    "data.hist()"
   ]
  },
  {
   "cell_type": "code",
   "execution_count": 35,
   "metadata": {},
   "outputs": [
    {
     "data": {
      "text/plain": [
       "13.030585527420044"
      ]
     },
     "execution_count": 35,
     "metadata": {},
     "output_type": "execute_result"
    }
   ],
   "source": [
    "data.execution_time.sum()"
   ]
  },
  {
   "cell_type": "code",
   "execution_count": 36,
   "metadata": {},
   "outputs": [
    {
     "data": {
      "text/plain": [
       "array([['fetch_font', 0.9839820861816406],\n",
       "       ['fetch_font', 0.7126109600067139],\n",
       "       ['fetch_font', 1.052043914794922],\n",
       "       ['fetch_font', 0.12891554832458496],\n",
       "       ['fetch_font', 0.04698705673217773],\n",
       "       ['fetch_font', 0.04276895523071289],\n",
       "       ['fetch_font', 0.03354501724243164],\n",
       "       ['fetch_font', 0.08870506286621094],\n",
       "       ['fetch_font', 0.05075383186340332],\n",
       "       ['fetch_font', 0.07014226913452147],\n",
       "       ['fetch_font', 0.1701488494873047],\n",
       "       ['fetch_font', 0.07020306587219237],\n",
       "       ['fetch_font', 0.05817413330078125],\n",
       "       ['fetch_font', 0.04677557945251465],\n",
       "       ['fetch_font', 0.09508037567138672],\n",
       "       ['fetch_font', 0.059412717819213874],\n",
       "       ['fetch_font', 0.7391214370727539],\n",
       "       ['fetch_font', 0.24021100997924805],\n",
       "       ['fetch_font', 0.08284235000610353],\n",
       "       ['fetch_font', 0.06638693809509277],\n",
       "       ['fetch_font', 0.10013699531555176],\n",
       "       ['fetch_font', 0.03861093521118164],\n",
       "       ['fetch_font', 0.06627917289733888],\n",
       "       ['fetch_font', 0.050050020217895515],\n",
       "       ['fetch_font', 0.07601594924926758],\n",
       "       ['fetch_font', 0.11375856399536133],\n",
       "       ['fetch_font', 0.1328866481781006],\n",
       "       ['fetch_font', 0.07287478446960449],\n",
       "       ['fetch_font', 0.0685279369354248],\n",
       "       ['fetch_font', 0.6065628528594971],\n",
       "       ['fetch_font', 0.5599291324615479],\n",
       "       ['fetch_font', 2.0130846500396733],\n",
       "       ['fetch_font', 1.9649076461791992],\n",
       "       ['fetch_font', 0.502077579498291],\n",
       "       ['fetch_font', 0.5075843334197998],\n",
       "       ['fetch_font', 0.07321906089782715],\n",
       "       ['fetch_font', 0.2091658115386963],\n",
       "       ['fetch_font', 0.037390470504760735],\n",
       "       ['fetch_font', 0.1504364013671875],\n",
       "       ['fetch_font', 0.1067945957183838],\n",
       "       ['fetch_font', 0.028693199157714844],\n",
       "       ['fetch_font', 0.115281343460083],\n",
       "       ['fetch_font', 0.14520883560180664],\n",
       "       ['fetch_font', 0.2079274654388428],\n",
       "       ['fetch_font', 0.17948460578918454],\n",
       "       ['fetch_font', 0.06488537788391112]], dtype=object)"
      ]
     },
     "execution_count": 36,
     "metadata": {},
     "output_type": "execute_result"
    }
   ],
   "source": [
    "np_data = data.to_numpy()\n",
    "np_data"
   ]
  },
  {
   "cell_type": "code",
   "execution_count": 37,
   "metadata": {},
   "outputs": [
    {
     "data": {
      "text/plain": [
       "(46, 2)"
      ]
     },
     "execution_count": 37,
     "metadata": {},
     "output_type": "execute_result"
    }
   ],
   "source": [
    "np_data.shape"
   ]
  },
  {
   "cell_type": "code",
   "execution_count": 38,
   "metadata": {},
   "outputs": [
    {
     "name": "stdout",
     "output_type": "stream",
     "text": [
      "['fetch_font' 0.9839820861816406]\n",
      "fetch_font 0.9839820861816406\n"
     ]
    }
   ],
   "source": [
    "for row in np_data:\n",
    "    print(row)\n",
    "    method_name, execution_time = row[:2]\n",
    "    print(method_name, execution_time)\n",
    "    break"
   ]
  },
  {
   "cell_type": "code",
   "execution_count": 39,
   "metadata": {},
   "outputs": [
    {
     "data": {
      "text/plain": [
       "<pandas.core.groupby.generic.DataFrameGroupBy object at 0x7fb941bf5a90>"
      ]
     },
     "execution_count": 39,
     "metadata": {},
     "output_type": "execute_result"
    }
   ],
   "source": [
    "g = data.groupby('method_name')\n",
    "g"
   ]
  },
  {
   "cell_type": "code",
   "execution_count": 40,
   "metadata": {},
   "outputs": [
    {
     "data": {
      "text/html": [
       "<div>\n",
       "<style scoped>\n",
       "    .dataframe tbody tr th:only-of-type {\n",
       "        vertical-align: middle;\n",
       "    }\n",
       "\n",
       "    .dataframe tbody tr th {\n",
       "        vertical-align: top;\n",
       "    }\n",
       "\n",
       "    .dataframe thead th {\n",
       "        text-align: right;\n",
       "    }\n",
       "</style>\n",
       "<table border=\"1\" class=\"dataframe\">\n",
       "  <thead>\n",
       "    <tr style=\"text-align: right;\">\n",
       "      <th></th>\n",
       "      <th>execution_time</th>\n",
       "    </tr>\n",
       "    <tr>\n",
       "      <th>method_name</th>\n",
       "      <th></th>\n",
       "    </tr>\n",
       "  </thead>\n",
       "  <tbody>\n",
       "    <tr>\n",
       "      <th>fetch_font</th>\n",
       "      <td>13.030586</td>\n",
       "    </tr>\n",
       "  </tbody>\n",
       "</table>\n",
       "</div>"
      ],
      "text/plain": [
       "             execution_time\n",
       "method_name                \n",
       "fetch_font        13.030586"
      ]
     },
     "execution_count": 40,
     "metadata": {},
     "output_type": "execute_result"
    }
   ],
   "source": [
    "execution_time_by_method_name = g.sum()\n",
    "execution_time_by_method_name"
   ]
  },
  {
   "cell_type": "code",
   "execution_count": 41,
   "metadata": {},
   "outputs": [
    {
     "data": {
      "text/html": [
       "<div>\n",
       "<style scoped>\n",
       "    .dataframe tbody tr th:only-of-type {\n",
       "        vertical-align: middle;\n",
       "    }\n",
       "\n",
       "    .dataframe tbody tr th {\n",
       "        vertical-align: top;\n",
       "    }\n",
       "\n",
       "    .dataframe thead th {\n",
       "        text-align: right;\n",
       "    }\n",
       "</style>\n",
       "<table border=\"1\" class=\"dataframe\">\n",
       "  <thead>\n",
       "    <tr style=\"text-align: right;\">\n",
       "      <th></th>\n",
       "      <th>execution_time</th>\n",
       "    </tr>\n",
       "    <tr>\n",
       "      <th>method_name</th>\n",
       "      <th></th>\n",
       "    </tr>\n",
       "  </thead>\n",
       "  <tbody>\n",
       "    <tr>\n",
       "      <th>fetch_font</th>\n",
       "      <td>13.030586</td>\n",
       "    </tr>\n",
       "  </tbody>\n",
       "</table>\n",
       "</div>"
      ],
      "text/plain": [
       "             execution_time\n",
       "method_name                \n",
       "fetch_font        13.030586"
      ]
     },
     "execution_count": 41,
     "metadata": {},
     "output_type": "execute_result"
    }
   ],
   "source": [
    "execution_time_by_method_name"
   ]
  },
  {
   "cell_type": "code",
   "execution_count": 42,
   "metadata": {},
   "outputs": [
    {
     "data": {
      "text/plain": [
       "array([[13.03058553]])"
      ]
     },
     "execution_count": 42,
     "metadata": {},
     "output_type": "execute_result"
    }
   ],
   "source": [
    "execution_time_by_method_name.to_numpy()"
   ]
  },
  {
   "cell_type": "markdown",
   "metadata": {},
   "source": [
    "# 3 plots\n",
    "\n",
    "- Plot the total amount of time for each methods\n",
    "- Plot the number of calls for each methods\n",
    "- Plot max, min, and avg for each methods"
   ]
  },
  {
   "cell_type": "code",
   "execution_count": 43,
   "metadata": {},
   "outputs": [
    {
     "data": {
      "text/plain": [
       "{'fetch_font': {'num_calls': 46,\n",
       "  'total_exec_time': 13.030585527420044,\n",
       "  'min': 0.028693199157714844,\n",
       "  'max': 2.0130846500396733,\n",
       "  'avg': 0.28327359842217487}}"
      ]
     },
     "execution_count": 43,
     "metadata": {},
     "output_type": "execute_result"
    }
   ],
   "source": [
    "func_data = {}\n",
    "\n",
    "for row in np_data:\n",
    "    func_name, exec_time = row[:2]\n",
    "    if func_name in func_data:\n",
    "        func_data[func_name]['num_calls'] += 1\n",
    "        func_data[func_name]['total_exec_time'] += exec_time\n",
    "\n",
    "        last_min = func_data[func_name]['min']\n",
    "        func_data[func_name]['min'] = min(exec_time, last_min)\n",
    "\n",
    "        last_max = func_data[func_name]['max']\n",
    "        func_data[func_name]['max'] = max(exec_time, last_max)\n",
    "    else:\n",
    "        func_data[func_name] = {\n",
    "            'num_calls': 1,\n",
    "            'total_exec_time': exec_time,\n",
    "            'min': exec_time,\n",
    "            'max': exec_time,\n",
    "        }\n",
    "\n",
    "for func_name in func_data:\n",
    "    # calculate and average\n",
    "    total_exec_time = func_data[func_name]['total_exec_time']\n",
    "    num_calls = func_data[func_name]['num_calls']\n",
    "\n",
    "    func_data[func_name]['avg'] = total_exec_time / num_calls\n",
    "    \n",
    "func_data"
   ]
  },
  {
   "cell_type": "code",
   "execution_count": 44,
   "metadata": {},
   "outputs": [
    {
     "name": "stdout",
     "output_type": "stream",
     "text": [
      "fetch_font\n"
     ]
    }
   ],
   "source": [
    "for key in func_data:\n",
    "    print(key)"
   ]
  },
  {
   "cell_type": "code",
   "execution_count": 45,
   "metadata": {},
   "outputs": [
    {
     "data": {
      "image/png": "[encoded data removed]",
      "text/plain": [
       "<Figure size 432x288 with 1 Axes>"
      ]
     },
     "metadata": {
      "needs_background": "light"
     },
     "output_type": "display_data"
    }
   ],
   "source": [
    "plt.title('total amount of execution time')\n",
    "names = []\n",
    "values = []\n",
    "for func_name in func_data:\n",
    "    names.append(func_name)\n",
    "    values.append(func_data[func_name]['total_exec_time'])\n",
    "\n",
    "bars = plt.bar(names, values)\n",
    "# show values on top of bars\n",
    "# https://stackoverflow.com/questions/53066633/python-how-to-show-values-on-top-of-bar-plot\n",
    "text_height_delta = max(values) * .005\n",
    "for idx, bar in enumerate(bars):\n",
    "    y = bar.get_height()\n",
    "    plt.text(\n",
    "        x=bar.get_x() + bar.get_width()*0.3,\n",
    "        y=bar.get_height() + text_height_delta,\n",
    "        s=f'{values[idx]:.2f}',\n",
    "    )"
   ]
  },
  {
   "cell_type": "code",
   "execution_count": 46,
   "metadata": {},
   "outputs": [
    {
     "data": {
      "text/plain": [
       "<BarContainer object of 1 artists>"
      ]
     },
     "execution_count": 46,
     "metadata": {},
     "output_type": "execute_result"
    }
   ],
   "source": [
    "bars"
   ]
  },
  {
   "cell_type": "code",
   "execution_count": 47,
   "metadata": {},
   "outputs": [
    {
     "data": {
      "text/plain": [
       "matplotlib.container.BarContainer"
      ]
     },
     "execution_count": 47,
     "metadata": {},
     "output_type": "execute_result"
    }
   ],
   "source": [
    "type(bars)"
   ]
  },
  {
   "cell_type": "code",
   "execution_count": 48,
   "metadata": {},
   "outputs": [
    {
     "data": {
      "text/plain": [
       "array([0, 1, 2, 3, 4, 5, 6, 7])"
      ]
     },
     "execution_count": 48,
     "metadata": {},
     "output_type": "execute_result"
    }
   ],
   "source": [
    "x = np.arange(8)\n",
    "x"
   ]
  },
  {
   "cell_type": "code",
   "execution_count": 49,
   "metadata": {
    "scrolled": true
   },
   "outputs": [
    {
     "data": {
      "text/plain": [
       "array([ 0,  2,  4,  6,  8, 10, 12, 14])"
      ]
     },
     "execution_count": 49,
     "metadata": {},
     "output_type": "execute_result"
    }
   ],
   "source": [
    "x * 2"
   ]
  },
  {
   "cell_type": "markdown",
   "metadata": {},
   "source": [
    "# Experiment with printing with color to console"
   ]
  },
  {
   "cell_type": "code",
   "execution_count": 50,
   "metadata": {},
   "outputs": [],
   "source": [
    "class TerminateColor:\n",
    "    HEADER = '\\033[95m'\n",
    "    OKBLUE = '\\033[94m'\n",
    "    OKGREEN = '\\033[92m'\n",
    "    WARNING = '\\033[93m'\n",
    "    FAIL = '\\033[91m'\n",
    "    ENDC = '\\033[0m'"
   ]
  },
  {
   "cell_type": "code",
   "execution_count": 51,
   "metadata": {},
   "outputs": [
    {
     "name": "stdout",
     "output_type": "stream",
     "text": [
      "\u001b[95mHeader\u001b[0m\n",
      "\u001b[94mOKBLUE\u001b[0m\n",
      "\u001b[92mOKGREEN\u001b[0m\n",
      "\u001b[93mWARNING\u001b[0m\n",
      "\u001b[91mFAIL\u001b[0m\n"
     ]
    }
   ],
   "source": [
    "print(f'{TerminateColor.HEADER}Header{TerminateColor.ENDC}')\n",
    "print(f'{TerminateColor.OKBLUE}OKBLUE{TerminateColor.ENDC}')\n",
    "print(f'{TerminateColor.OKGREEN}OKGREEN{TerminateColor.ENDC}')\n",
    "print(f'{TerminateColor.WARNING}WARNING{TerminateColor.ENDC}')\n",
    "print(f'{TerminateColor.FAIL}FAIL{TerminateColor.ENDC}')"
   ]
  },
  {
   "cell_type": "markdown",
   "metadata": {},
   "source": [
    "# Experiment with escaping invalid filename characters for using in regular expression"
   ]
  },
  {
   "cell_type": "code",
   "execution_count": 65,
   "metadata": {},
   "outputs": [
    {
     "name": "stdout",
     "output_type": "stream",
     "text": [
      "`~!@#$%^&*,<>?'\":;|\\\n",
      "'`~!@#$%^&*,<>?\\'\":;|\\\\'\n"
     ]
    }
   ],
   "source": [
    "INVALID_FILENAME_CHARS = '`~!@#$%^&*,<>?\\'\":;|\\\\'\n",
    "print(INVALID_FILENAME_CHARS)\n",
    "print(repr(INVALID_FILENAME_CHARS))"
   ]
  },
  {
   "cell_type": "code",
   "execution_count": 64,
   "metadata": {},
   "outputs": [
    {
     "name": "stdout",
     "output_type": "stream",
     "text": [
      "`~!@#$%^&*,<>?'\":;|\\\n"
     ]
    }
   ],
   "source": [
    "print(INVALID_FILENAME_CHARS)"
   ]
  },
  {
   "cell_type": "code",
   "execution_count": 56,
   "metadata": {},
   "outputs": [
    {
     "data": {
      "text/plain": [
       "'\\\\`\\\\~\\\\!\\\\@\\\\#\\\\$\\\\%\\\\^\\\\&\\\\*\\\\,\\\\<\\\\>\\\\?\\\\\\'\\\\\"\\\\:\\\\;\\\\|\\\\\\\\'"
      ]
     },
     "execution_count": 56,
     "metadata": {},
     "output_type": "execute_result"
    }
   ],
   "source": [
    "re.escape(INVALID_FILENAME_CHARS)"
   ]
  },
  {
   "cell_type": "code",
   "execution_count": 57,
   "metadata": {},
   "outputs": [
    {
     "data": {
      "text/plain": [
       "\"'(){}[]'\""
      ]
     },
     "execution_count": 57,
     "metadata": {},
     "output_type": "execute_result"
    }
   ],
   "source": [
    "x = '(){}[]'\n",
    "repr(x)"
   ]
  },
  {
   "cell_type": "code",
   "execution_count": 58,
   "metadata": {},
   "outputs": [
    {
     "data": {
      "text/plain": [
       "'(){}[]'"
      ]
     },
     "execution_count": 58,
     "metadata": {},
     "output_type": "execute_result"
    }
   ],
   "source": [
    "x"
   ]
  },
  {
   "cell_type": "code",
   "execution_count": 59,
   "metadata": {},
   "outputs": [
    {
     "data": {
      "text/plain": [
       "6"
      ]
     },
     "execution_count": 59,
     "metadata": {},
     "output_type": "execute_result"
    }
   ],
   "source": [
    "len(x)"
   ]
  },
  {
   "cell_type": "code",
   "execution_count": 60,
   "metadata": {},
   "outputs": [
    {
     "name": "stdout",
     "output_type": "stream",
     "text": [
      "(){}[]\n"
     ]
    }
   ],
   "source": [
    "print(x)"
   ]
  },
  {
   "cell_type": "markdown",
   "metadata": {},
   "source": [
    "# Experiment with TFRecord"
   ]
  },
  {
   "cell_type": "code",
   "execution_count": 4,
   "metadata": {},
   "outputs": [],
   "source": [
    "import tensorflow as tf"
   ]
  },
  {
   "cell_type": "code",
   "execution_count": 5,
   "metadata": {},
   "outputs": [
    {
     "data": {
      "text/plain": [
       "'2.1.0'"
      ]
     },
     "execution_count": 5,
     "metadata": {},
     "output_type": "execute_result"
    }
   ],
   "source": [
    "tf.__version__"
   ]
  },
  {
   "cell_type": "code",
   "execution_count": 6,
   "metadata": {},
   "outputs": [],
   "source": [
    "# The following functions can be used to convert a value to a type compatible\n",
    "# with tf.Example.\n",
    "\n",
    "def _bytes_feature(value):\n",
    "  \"\"\"Returns a bytes_list from a string / byte.\"\"\"\n",
    "  if isinstance(value, type(tf.constant(0))):\n",
    "    value = value.numpy() # BytesList won't unpack a string from an EagerTensor.\n",
    "  return tf.train.Feature(bytes_list=tf.train.BytesList(value=[value]))\n",
    "\n",
    "def _float_feature(value):\n",
    "  \"\"\"Returns a float_list from a float / double.\"\"\"\n",
    "  return tf.train.Feature(float_list=tf.train.FloatList(value=[value]))\n",
    "\n",
    "def _int64_feature(value):\n",
    "  \"\"\"Returns an int64_list from a bool / enum / int / uint.\"\"\"\n",
    "  return tf.train.Feature(int64_list=tf.train.Int64List(value=[value]))"
   ]
  },
  {
   "cell_type": "code",
   "execution_count": 7,
   "metadata": {},
   "outputs": [
    {
     "name": "stdout",
     "output_type": "stream",
     "text": [
      "bytes_list {\n",
      "  value: \"test_string\"\n",
      "}\n",
      "\n",
      "bytes_list {\n",
      "  value: \"test_bytes\"\n",
      "}\n",
      "\n",
      "float_list {\n",
      "  value: 2.7182817459106445\n",
      "}\n",
      "\n",
      "int64_list {\n",
      "  value: 1\n",
      "}\n",
      "\n",
      "int64_list {\n",
      "  value: 1\n",
      "}\n",
      "\n"
     ]
    }
   ],
   "source": [
    "print(_bytes_feature(b'test_string'))\n",
    "print(_bytes_feature(u'test_bytes'.encode('utf-8')))\n",
    "\n",
    "print(_float_feature(np.exp(1)))\n",
    "\n",
    "print(_int64_feature(True))\n",
    "print(_int64_feature(1))"
   ]
  },
  {
   "cell_type": "code",
   "execution_count": 14,
   "metadata": {},
   "outputs": [
    {
     "data": {
      "text/plain": [
       "b'\\x12\\x06\\n\\x04T\\xf8-@'"
      ]
     },
     "execution_count": 14,
     "metadata": {},
     "output_type": "execute_result"
    }
   ],
   "source": [
    "feature = _float_feature(np.exp(1))\n",
    "\n",
    "s = feature.SerializeToString()\n",
    "s"
   ]
  },
  {
   "cell_type": "code",
   "execution_count": 15,
   "metadata": {},
   "outputs": [
    {
     "data": {
      "text/plain": [
       "bytes"
      ]
     },
     "execution_count": 15,
     "metadata": {},
     "output_type": "execute_result"
    }
   ],
   "source": [
    "type(s)"
   ]
  },
  {
   "cell_type": "code",
   "execution_count": 9,
   "metadata": {},
   "outputs": [
    {
     "data": {
      "text/plain": [
       "tensorflow.core.example.feature_pb2.Feature"
      ]
     },
     "execution_count": 9,
     "metadata": {},
     "output_type": "execute_result"
    }
   ],
   "source": [
    "type(feature)"
   ]
  },
  {
   "cell_type": "code",
   "execution_count": 10,
   "metadata": {},
   "outputs": [
    {
     "data": {
      "text/plain": [
       "tensorflow.core.example.feature_pb2.Feature"
      ]
     },
     "execution_count": 10,
     "metadata": {},
     "output_type": "execute_result"
    }
   ],
   "source": [
    "feature_type = type(feature)\n",
    "feature_type"
   ]
  },
  {
   "cell_type": "code",
   "execution_count": 12,
   "metadata": {},
   "outputs": [
    {
     "data": {
      "text/plain": [
       "[tensorflow.core.example.feature_pb2.Feature,\n",
       " google.protobuf.pyext._message.CMessage,\n",
       " google.protobuf.message.Message,\n",
       " object]"
      ]
     },
     "execution_count": 12,
     "metadata": {},
     "output_type": "execute_result"
    }
   ],
   "source": [
    "feature_type.mro()"
   ]
  },
  {
   "cell_type": "markdown",
   "metadata": {},
   "source": [
    "# Experiment with multiple decorators\n",
    "\n",
    "Especially with built-in decorator `@classmethod`."
   ]
  },
  {
   "cell_type": "code",
   "execution_count": 16,
   "metadata": {},
   "outputs": [],
   "source": [
    "from functools import wraps"
   ]
  },
  {
   "cell_type": "code",
   "execution_count": 22,
   "metadata": {},
   "outputs": [],
   "source": [
    "def timedecorator(func):\n",
    "    @wraps(func)\n",
    "    def wrapper(*args, **kwargs):\n",
    "        print('Hi from timedecorator!')\n",
    "        print(f'calling {func.__name__}')\n",
    "        retval = func(*args, **kwargs)\n",
    "        return retval\n",
    "\n",
    "    return wrapper"
   ]
  },
  {
   "cell_type": "code",
   "execution_count": 31,
   "metadata": {},
   "outputs": [],
   "source": [
    "class Foo:\n",
    "    i = 0\n",
    "\n",
    "    @classmethod\n",
    "    def foo(cls, *args, **kwargs):\n",
    "        print('cls', type(cls), cls)\n",
    "        print('cls.i', cls.i)\n",
    "        print('args', type(args), args)\n",
    "        print('kwargs', type(kwargs), kwargs)"
   ]
  },
  {
   "cell_type": "code",
   "execution_count": 32,
   "metadata": {},
   "outputs": [
    {
     "name": "stdout",
     "output_type": "stream",
     "text": [
      "cls <class 'type'> <class '__main__.Foo'>\n",
      "cls.i 0\n",
      "args <class 'tuple'> ('hi',)\n",
      "kwargs <class 'dict'> {}\n"
     ]
    }
   ],
   "source": [
    "Foo.foo('hi')"
   ]
  },
  {
   "cell_type": "code",
   "execution_count": 37,
   "metadata": {},
   "outputs": [],
   "source": [
    "class Bar:\n",
    "    i = 2\n",
    "    \n",
    "    @classmethod\n",
    "    @timedecorator\n",
    "    def foo(cls, *args, **kwargs):\n",
    "        print('cls', type(cls), cls)\n",
    "        print('cls.i', cls.i)\n",
    "        print('args', type(args), args)\n",
    "        print('kwargs', type(kwargs), kwargs)"
   ]
  },
  {
   "cell_type": "code",
   "execution_count": 38,
   "metadata": {},
   "outputs": [
    {
     "name": "stdout",
     "output_type": "stream",
     "text": [
      "Hi from timedecorator!\n",
      "calling foo\n",
      "cls <class 'type'> <class '__main__.Bar'>\n",
      "cls.i 2\n",
      "args <class 'tuple'> ('hi',)\n",
      "kwargs <class 'dict'> {}\n"
     ]
    }
   ],
   "source": [
    "Bar.foo('hi')"
   ]
  },
  {
   "cell_type": "markdown",
   "metadata": {},
   "source": [
    "Put built-in decorator on first"
   ]
  }
 ],
 "metadata": {
  "kernelspec": {
   "display_name": "Python 3",
   "language": "python",
   "name": "python3"
  },
  "language_info": {
   "codemirror_mode": {
    "name": "ipython",
    "version": 3
   },
   "file_extension": ".py",
   "mimetype": "text/x-python",
   "name": "python",
   "nbconvert_exporter": "python",
   "pygments_lexer": "ipython3",
   "version": "3.6.9"
  }
 },
 "nbformat": 4,
 "nbformat_minor": 4
}
