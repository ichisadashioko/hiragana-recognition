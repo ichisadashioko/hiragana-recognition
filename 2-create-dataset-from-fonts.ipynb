{
 "cells": [
  {
   "cell_type": "markdown",
   "metadata": {},
   "source": [
    "# Goal\n",
    "\n",
    "Create dataset with `labels.json` from the [previous notebook](./1-create-label.ipynb) and some font files. Generating dataset from font files is a simple example of creating dataset yourself for problems that don't have pre-built dataset liked `MNIST`. In the near future, I will extract data from [ETL Character Database](http://etlcdb.db.aist.go.jp) for image-based model and from [KanjiVG](https://github.com/KanjiVG/kanjivg) for stroke-based model."
   ]
  },
  {
   "cell_type": "code",
   "execution_count": 1,
   "metadata": {},
   "outputs": [],
   "source": [
    "import os\n",
    "import io\n",
    "import time\n",
    "import json\n",
    "import traceback\n",
    "import itertools\n",
    "import inspect\n",
    "import hashlib\n",
    "import binascii\n",
    "\n",
    "from tqdm import tqdm"
   ]
  },
  {
   "cell_type": "code",
   "execution_count": 2,
   "metadata": {},
   "outputs": [],
   "source": [
    "from constants import *\n",
    "from utils import *\n",
    "from serializable import *"
   ]
  },
  {
   "cell_type": "markdown",
   "metadata": {},
   "source": [
    "The label data was created from the previous notebook."
   ]
  },
  {
   "cell_type": "code",
   "execution_count": 3,
   "metadata": {},
   "outputs": [
    {
     "data": {
      "text/plain": [
       "('labels.json', True)"
      ]
     },
     "execution_count": 3,
     "metadata": {},
     "output_type": "execute_result"
    }
   ],
   "source": [
    "label_file = LABEL_FILENAME\n",
    "label_file, os.path.exists(label_file)"
   ]
  },
  {
   "cell_type": "code",
   "execution_count": 4,
   "metadata": {
    "scrolled": true
   },
   "outputs": [
    {
     "name": "stdout",
     "output_type": "stream",
     "text": [
      "{\n",
      "\t\"source\": \"hiragana.txt\",\n",
      "\t\"content\": \"あいうえおかきくけこさしすせそたちつてとなにぬねのまみむめもはひふへほやゆよらりるれろわん\",\n",
      "\t\"labels\": [\n",
      "\t\t\"あ\",\n",
      "\t\t\"い\",\n",
      "\t\t\"う\",\n",
      "\t\t\"え\",\n",
      "\t\t\"お\",\n",
      "\t\t\"か\",\n",
      "\t\t\"き\",\n",
      "\t\t\"く\",\n",
      "\t\t\"け\",\n",
      "\t\t\"こ\",\n",
      "\t\t\"さ\",\n",
      "\t\t\"し\",\n",
      "\t\t\"す\",\n",
      "\t\t\"せ\",\n",
      "\t\t\"そ\",\n",
      "\t\t\"た\",\n",
      "\t\t\"ち\",\n",
      "\t\t\"つ\",\n",
      "\t\t\"て\",\n",
      "\t\t\"と\",\n",
      "\t\t\"な\",\n",
      "\t\t\"に\",\n",
      "\t\t\"ぬ\",\n",
      "\t\t\"ね\",\n",
      "\t\t\"の\",\n",
      "\t\t\"ま\",\n",
      "\t\t\"み\",\n",
      "\t\t\"む\",\n",
      "\t\t\"め\",\n",
      "\t\t\"も\",\n",
      "\t\t\"は\",\n",
      "\t\t\"ひ\",\n",
      "\t\t\"ふ\",\n",
      "\t\t\"へ\",\n",
      "\t\t\"ほ\",\n",
      "\t\t\"や\",\n",
      "\t\t\"ゆ\",\n",
      "\t\t\"よ\",\n",
      "\t\t\"ら\",\n",
      "\t\t\"り\",\n",
      "\t\t\"る\",\n",
      "\t\t\"れ\",\n",
      "\t\t\"ろ\",\n",
      "\t\t\"わ\",\n",
      "\t\t\"ん\"\n",
      "\t]\n",
      "}\n"
     ]
    }
   ],
   "source": [
    "content = open(label_file, mode='r', encoding='utf-8').read()\n",
    "print(content)"
   ]
  },
  {
   "cell_type": "markdown",
   "metadata": {},
   "source": [
    "We created a method to parse the `json` data back."
   ]
  },
  {
   "cell_type": "code",
   "execution_count": 5,
   "metadata": {
    "scrolled": true
   },
   "outputs": [
    {
     "name": "stdout",
     "output_type": "stream",
     "text": [
      "class LabelFile:\n",
      "    def __init__(self, source: str, content: str, labels: list):\n",
      "        self.source = source\n",
      "        self.content = content\n",
      "        self.labels = labels\n",
      "\n",
      "    def __repr__(self):\n",
      "        return repr(self.__dict__)\n",
      "\n",
      "    @staticmethod\n",
      "    def parse_obj(obj: dict):\n",
      "        if not isinstance(obj, dict):\n",
      "            raise Exception(f'{obj} is not a dict!')\n",
      "\n",
      "        sample = LabelFile('', '', [])\n",
      "        args = {}\n",
      "\n",
      "        for key in sample.__dict__:\n",
      "            if key not in obj:\n",
      "                obj_str = repr(obj)\n",
      "                if len(obj_str) > 80:\n",
      "                    obj_str = obj_str[:40] + '...' + obj_str[-40:]\n",
      "\n",
      "                raise Exception(f'{obj_str} does not contain key {repr(key)}!')\n",
      "\n",
      "            args[key] = obj[key]\n",
      "\n",
      "        return LabelFile(**args)\n",
      "\n"
     ]
    }
   ],
   "source": [
    "print(inspect.getsource(LabelFile))"
   ]
  },
  {
   "cell_type": "code",
   "execution_count": 6,
   "metadata": {
    "scrolled": true
   },
   "outputs": [
    {
     "data": {
      "text/plain": [
       "{'source': 'hiragana.txt',\n",
       " 'content': 'あいうえおかきくけこさしすせそたちつてとなにぬねのまみむめもはひふへほやゆよらりるれろわん',\n",
       " 'labels': ['あ',\n",
       "  'い',\n",
       "  'う',\n",
       "  'え',\n",
       "  'お',\n",
       "  'か',\n",
       "  'き',\n",
       "  'く',\n",
       "  'け',\n",
       "  'こ',\n",
       "  'さ',\n",
       "  'し',\n",
       "  'す',\n",
       "  'せ',\n",
       "  'そ',\n",
       "  'た',\n",
       "  'ち',\n",
       "  'つ',\n",
       "  'て',\n",
       "  'と',\n",
       "  'な',\n",
       "  'に',\n",
       "  'ぬ',\n",
       "  'ね',\n",
       "  'の',\n",
       "  'ま',\n",
       "  'み',\n",
       "  'む',\n",
       "  'め',\n",
       "  'も',\n",
       "  'は',\n",
       "  'ひ',\n",
       "  'ふ',\n",
       "  'へ',\n",
       "  'ほ',\n",
       "  'や',\n",
       "  'ゆ',\n",
       "  'よ',\n",
       "  'ら',\n",
       "  'り',\n",
       "  'る',\n",
       "  'れ',\n",
       "  'ろ',\n",
       "  'わ',\n",
       "  'ん']}"
      ]
     },
     "execution_count": 6,
     "metadata": {},
     "output_type": "execute_result"
    }
   ],
   "source": [
    "with open(label_file, mode='r', encoding='utf-8') as infile:\n",
    "    obj = json.load(infile)\n",
    "\n",
    "obj"
   ]
  },
  {
   "cell_type": "code",
   "execution_count": 7,
   "metadata": {
    "scrolled": true
   },
   "outputs": [
    {
     "data": {
      "text/plain": [
       "(serializable.LabelFile,\n",
       " {'source': 'hiragana.txt', 'content': 'あいうえおかきくけこさしすせそたちつてとなにぬねのまみむめもはひふへほやゆよらりるれろわん', 'labels': ['あ', 'い', 'う', 'え', 'お', 'か', 'き', 'く', 'け', 'こ', 'さ', 'し', 'す', 'せ', 'そ', 'た', 'ち', 'つ', 'て', 'と', 'な', 'に', 'ぬ', 'ね', 'の', 'ま', 'み', 'む', 'め', 'も', 'は', 'ひ', 'ふ', 'へ', 'ほ', 'や', 'ゆ', 'よ', 'ら', 'り', 'る', 'れ', 'ろ', 'わ', 'ん']})"
      ]
     },
     "execution_count": 7,
     "metadata": {},
     "output_type": "execute_result"
    }
   ],
   "source": [
    "label_file = LabelFile.parse_obj(obj)\n",
    "type(label_file), label_file"
   ]
  },
  {
   "cell_type": "markdown",
   "metadata": {},
   "source": [
    "We put all all the font files in the a directory. We currently support `.otf` and `.ttf` font files only."
   ]
  },
  {
   "cell_type": "code",
   "execution_count": 8,
   "metadata": {},
   "outputs": [
    {
     "data": {
      "text/plain": [
       "('fonts', True)"
      ]
     },
     "execution_count": 8,
     "metadata": {},
     "output_type": "execute_result"
    }
   ],
   "source": [
    "fonts_dir = FONTS_DIR\n",
    "fonts_dir, os.path.exists(fonts_dir)"
   ]
  },
  {
   "cell_type": "markdown",
   "metadata": {},
   "source": [
    "Define the output image size and font size to draw the character."
   ]
  },
  {
   "cell_type": "code",
   "execution_count": 9,
   "metadata": {},
   "outputs": [],
   "source": [
    "font_size = 64\n",
    "image_size = 64"
   ]
  },
  {
   "cell_type": "markdown",
   "metadata": {},
   "source": [
    "TODO write explanation about what the code does"
   ]
  },
  {
   "cell_type": "code",
   "execution_count": 10,
   "metadata": {
    "scrolled": false
   },
   "outputs": [
    {
     "name": "stdout",
     "output_type": "stream",
     "text": [
      "@measure_exec_time\n",
      "def fetch_font(font_file: str, font_size=64, characters=list()):\n",
      "    pillow_font = ImageFont.truetype(font=font_file, size=font_size)\n",
      "    font_name = '_'.join(pillow_font.getname())\n",
      "\n",
      "    # TODO test if this code is working or not by rendering the\n",
      "    # actual image (with some uncommon kanji)\n",
      "    ft_font = TTFont(font_file)\n",
      "    supported_chars = []\n",
      "    for cmap in ft_font['cmap'].tables:\n",
      "        if cmap.isUnicode():\n",
      "            for c in characters:\n",
      "                if ord(c) in cmap.cmap:\n",
      "                    supported_chars.append(c)\n",
      "\n",
      "    return Font(font_name, pillow_font, font_size, font_file, supported_chars)\n",
      "\n"
     ]
    }
   ],
   "source": [
    "print(inspect.getsource(fetch_font))"
   ]
  },
  {
   "cell_type": "code",
   "execution_count": 11,
   "metadata": {
    "scrolled": true
   },
   "outputs": [
    {
     "name": "stdout",
     "output_type": "stream",
     "text": [
      "class Font:\n",
      "    \"\"\"\n",
      "    Wrapper class for storing some data that we need to identify.\n",
      "\n",
      "    For example:\n",
      "\n",
      "    - the font name (not the file name)\n",
      "    - the font size (pillow's ImageFont requires to be created with font\n",
      "    size so I need to store that)\n",
      "    - the ImageFont for using with pillow's drawing API\n",
      "    - the font file path for using with `fonttools` to check if the font\n",
      "    support a specific character or not. otherwise, it may give the tofu\n",
      "    shape image.\n",
      "    \"\"\"\n",
      "\n",
      "    def __init__(\n",
      "        self,\n",
      "        name: str,\n",
      "        font: ImageFont.FreeTypeFont,\n",
      "        size: int,\n",
      "        path: str,\n",
      "        supported_chars: list,\n",
      "    ):\n",
      "        self.name = name\n",
      "        self.font = font\n",
      "        self.size = size\n",
      "        self.path = path\n",
      "        self.supported_chars = supported_chars\n",
      "\n",
      "    def __repr__(self):\n",
      "        return repr((self.name, self.size, self.path))\n",
      "\n"
     ]
    }
   ],
   "source": [
    "print(inspect.getsource(Font))"
   ]
  },
  {
   "cell_type": "code",
   "execution_count": 12,
   "metadata": {
    "scrolled": true
   },
   "outputs": [
    {
     "name": "stdout",
     "output_type": "stream",
     "text": [
      "Skipping unknown file type fonts\\readme.txt!\n"
     ]
    },
    {
     "data": {
      "text/plain": [
       "[('07YsashisaGothicTegaki_Regular', 64, 'fonts\\\\07YsashisaGothicTegaki_Regular.otf'),\n",
       " ('851MkPOP_Regular', 64, 'fonts\\\\851MkPOP_Regular.ttf'),\n",
       " ('ArmedBanana_Regular', 64, 'fonts\\\\ArmedBanana_Regular.ttf'),\n",
       " ('Chihaya Jyun_Regular', 64, 'fonts\\\\Chihaya_Jyun_Regular.ttf'),\n",
       " ('darts font_Regular', 64, 'fonts\\\\darts_font_Regular.ttf'),\n",
       " ('Dining message_Regular', 64, 'fonts\\\\Dining_message_Regular.ttf'),\n",
       " ('ElmerFont_Regular', 64, 'fonts\\\\ElmerFont_Regular.ttf'),\n",
       " ('Ghatee_Regular', 64, 'fonts\\\\Ghatee_Regular.ttf'),\n",
       " ('Gyate-Luminescence_Regular', 64, 'fonts\\\\Gyate-Luminescence_Regular.ttf'),\n",
       " ('HGKyokashotai_Medium', 64, 'fonts\\\\HGKyokashotai_Medium.ttf'),\n",
       " ('HonyaJi-Re_Regular', 64, 'fonts\\\\HonyaJi-Re_Regular.ttf'),\n",
       " ('HuiFont_Regular', 64, 'fonts\\\\HuiFont_Regular.ttf'),\n",
       " ('IPAGothic_Regular', 64, 'fonts\\\\IPAGothic_Regular.ttf'),\n",
       " ('Jiyucho_Regular', 64, 'fonts\\\\Jiyucho_Regular.ttf'),\n",
       " ('KanjiStrokeOrders_Regular', 64, 'fonts\\\\KanjiStrokeOrders_Regular.ttf'),\n",
       " ('kouichi.sakurai font felt pen_Regular', 64, 'fonts\\\\kouichi_sakurai_font_felt_pen_Regular.ttf'),\n",
       " ('K Gothic_Regular', 64, 'fonts\\\\K_Gothic_Regular.ttf'),\n",
       " ('MakibaFont_Regular', 64, 'fonts\\\\MakibaFont_Regular.ttf'),\n",
       " ('mikachan_Regular', 64, 'fonts\\\\mikachan_Regular.ttf'),\n",
       " ('Mikiyu Font NEW-PENJI- P _Regular', 64, 'fonts\\\\Mikiyu_Font_NEW-PENJI-_P__Regular.ttf'),\n",
       " ('mitsufont2_Regular', 64, 'fonts\\\\mitsufont2_Regular.ttf'),\n",
       " ('MotoyaLCedar_W3 mono', 64, 'fonts\\\\MotoyaLCedar_W3_mono.ttf'),\n",
       " ('MotoyaLMaru_W3 mono', 64, 'fonts\\\\MotoyaLMaru_W3_mono.ttf'),\n",
       " ('Mplus 1p Light_Regular', 64, 'fonts\\\\Mplus_1p_Light_Regular.ttf'),\n",
       " ('Mplus 1p_Regular', 64, 'fonts\\\\Mplus_1p_Regular.ttf'),\n",
       " ('Mplus 1p Thin_Regular', 64, 'fonts\\\\Mplus_1p_Thin_Regular.ttf'),\n",
       " ('Mushin_Regular', 64, 'fonts\\\\Mushin_Regular.otf'),\n",
       " ('Nagurigaki Crayon_Regular', 64, 'fonts\\\\Nagurigaki_Crayon_Regular.ttf'),\n",
       " ('Noto Serif CJK JP_Black', 64, 'fonts\\\\NotoSerifCJKjp-Black.otf'),\n",
       " ('Noto Serif CJK JP_Bold', 64, 'fonts\\\\NotoSerifCJKjp-Bold.otf'),\n",
       " ('Noto Serif CJK JP_ExtraLight', 64, 'fonts\\\\NotoSerifCJKjp-ExtraLight.otf'),\n",
       " ('Noto Serif CJK JP_Light', 64, 'fonts\\\\NotoSerifCJKjp-Light.otf'),\n",
       " ('Noto Serif CJK JP_Medium', 64, 'fonts\\\\NotoSerifCJKjp-Medium.otf'),\n",
       " ('Noto Serif CJK JP_Regular', 64, 'fonts\\\\NotoSerifCJKjp-Regular.otf'),\n",
       " ('Noto Serif CJK JP_SemiBold', 64, 'fonts\\\\NotoSerifCJKjp-SemiBold.otf'),\n",
       " ('SanafonKazariV2.70_Regular', 64, 'fonts\\\\SanafonKazariV2_70_Regular.ttf'),\n",
       " ('SanafonMaru_Regular', 64, 'fonts\\\\SanafonMaru_Regular.ttf'),\n",
       " ('SanafonMugiV2.60_Regular', 64, 'fonts\\\\SanafonMugiV2_60_Regular.ttf'),\n",
       " ('SanafonYu_Regular', 64, 'fonts\\\\SanafonYu_Regular.ttf'),\n",
       " ('SanaFon_Regular', 64, 'fonts\\\\SanaFon_Regular.ttf'),\n",
       " ('ShigotoMemogaki_Regular', 64, 'fonts\\\\ShigotoMemogaki_Regular.ttf'),\n",
       " ('SistersFS_Regular', 64, 'fonts\\\\SistersFS_Regular.ttf'),\n",
       " ('YOzFontA-Pro-B_B', 64, 'fonts\\\\YOzFontA-Pro-B_B.otf'),\n",
       " ('YOzFontA-Pro-R_Regular', 64, 'fonts\\\\YOzFontA-Pro-R_Regular.otf'),\n",
       " ('yutaCoco-P-OT-Regular_Regular', 64, 'fonts\\\\yutaCoco-P-OT-Regular_Regular.otf'),\n",
       " ('Yuzu PenJiN [M]_Regular', 64, 'fonts\\\\Yuzu_PenJiN_M__Regular.ttf')]"
      ]
     },
     "execution_count": 12,
     "metadata": {},
     "output_type": "execute_result"
    }
   ],
   "source": [
    "labels = label_file.labels\n",
    "font_list = []\n",
    "file_list = os.listdir(fonts_dir)\n",
    "for filename in file_list:\n",
    "    child_path = os.path.join(fonts_dir, filename)\n",
    "\n",
    "    if not os.path.isfile(child_path):\n",
    "        print(f'Skipping directory {child_path}!')\n",
    "        continue\n",
    "\n",
    "    file_ext = os.path.splitext(filename)[1]\n",
    "    file_ext = file_ext.lower()\n",
    "\n",
    "    if (file_ext == '.ttf') or (file_ext == '.otf'):\n",
    "        font = fetch_font(\n",
    "            font_file=child_path,\n",
    "            font_size=font_size,\n",
    "            characters=labels,\n",
    "        )\n",
    "\n",
    "        font_list.append(font)\n",
    "    else:\n",
    "        print(f'Skipping unknown file type {child_path}!')\n",
    "        continue\n",
    "\n",
    "font_list"
   ]
  },
  {
   "cell_type": "code",
   "execution_count": 13,
   "metadata": {
    "scrolled": true
   },
   "outputs": [
    {
     "data": {
      "text/plain": [
       "['あ',\n",
       " 'い',\n",
       " 'う',\n",
       " 'え',\n",
       " 'お',\n",
       " 'か',\n",
       " 'き',\n",
       " 'く',\n",
       " 'け',\n",
       " 'こ',\n",
       " 'さ',\n",
       " 'し',\n",
       " 'す',\n",
       " 'せ',\n",
       " 'そ',\n",
       " 'た',\n",
       " 'ち',\n",
       " 'つ',\n",
       " 'て',\n",
       " 'と',\n",
       " 'な',\n",
       " 'に',\n",
       " 'ぬ',\n",
       " 'ね',\n",
       " 'の',\n",
       " 'ま',\n",
       " 'み',\n",
       " 'む',\n",
       " 'め',\n",
       " 'も',\n",
       " 'は',\n",
       " 'ひ',\n",
       " 'ふ',\n",
       " 'へ',\n",
       " 'ほ',\n",
       " 'や',\n",
       " 'ゆ',\n",
       " 'よ',\n",
       " 'ら',\n",
       " 'り',\n",
       " 'る',\n",
       " 'れ',\n",
       " 'ろ',\n",
       " 'わ',\n",
       " 'ん']"
      ]
     },
     "execution_count": 13,
     "metadata": {},
     "output_type": "execute_result"
    }
   ],
   "source": [
    "font.supported_chars"
   ]
  },
  {
   "cell_type": "code",
   "execution_count": 14,
   "metadata": {},
   "outputs": [
    {
     "name": "stderr",
     "output_type": "stream",
     "text": [
      "100%|████████████████████████████████████████████████████████████████████████████████████████████████████████████████████████████████████████████████████████████████████████| 46/46 [00:00<00:00, 47568.54it/s]\n"
     ]
    },
    {
     "data": {
      "text/plain": [
       "[]"
      ]
     },
     "execution_count": 14,
     "metadata": {},
     "output_type": "execute_result"
    }
   ],
   "source": [
    "unsupported_char_and_font_combinations = []\n",
    "for font in tqdm(font_list):\n",
    "    ns_chars = [c for c in labels if not c in font.supported_chars]\n",
    "\n",
    "    if not len(ns_chars) == 0:\n",
    "        unsupported_char_and_font_combinations.append((font.name, ns_chars))\n",
    "\n",
    "unsupported_char_and_font_combinations"
   ]
  },
  {
   "cell_type": "code",
   "execution_count": 15,
   "metadata": {},
   "outputs": [
    {
     "data": {
      "text/plain": [
       "2070"
      ]
     },
     "execution_count": 15,
     "metadata": {},
     "output_type": "execute_result"
    }
   ],
   "source": [
    "render_tasks = list(itertools.product(labels, font_list))\n",
    "len(render_tasks)"
   ]
  },
  {
   "cell_type": "code",
   "execution_count": 16,
   "metadata": {},
   "outputs": [
    {
     "data": {
      "text/plain": [
       "('あ',\n",
       " ('07YsashisaGothicTegaki_Regular', 64, 'fonts\\\\07YsashisaGothicTegaki_Regular.otf'))"
      ]
     },
     "execution_count": 16,
     "metadata": {},
     "output_type": "execute_result"
    }
   ],
   "source": [
    "for char_text, font in render_tasks:\n",
    "    break\n",
    "    \n",
    "char_text, font"
   ]
  },
  {
   "cell_type": "code",
   "execution_count": 17,
   "metadata": {},
   "outputs": [
    {
     "name": "stdout",
     "output_type": "stream",
     "text": [
      "@measure_exec_time\n",
      "def render_image(c: str, font: Font, image_size=64) -> Image:\n",
      "    pillow_font = font.font\n",
      "\n",
      "    # we create a canvas at least twice as large as the font size to\n",
      "    # prevent the character's pixel(s) from being cropped from drawing\n",
      "    # on constrained size\n",
      "    canvas_size = int(max(font.size*2, image_size))\n",
      "\n",
      "    # the canvas is a grayscale image\n",
      "    # background color is black (0)\n",
      "    # text color is white (255)\n",
      "    # you can experiment with other color spaces\n",
      "    canvas = Image.new('L', (canvas_size, canvas_size), color=0)\n",
      "    ctx = ImageDraw.Draw(canvas)\n",
      "    # the variable names `canvax` and `ctx` are inspired from JavaScript\n",
      "    # where we draw on HTMLCanvas\n",
      "\n",
      "    # position the top-left position of the character's bounding box\n",
      "    # (fontSize x fontSize square) on the canvas to draw the characters\n",
      "    # https://pillow.readthedocs.io/en/stable/reference/ImageDraw.html#PIL.ImageDraw.PIL.ImageDraw.ImageDraw.text\n",
      "    char_x = (canvas_size - font.size) / 2\n",
      "    char_y = (canvas_size - font.size) / 2\n",
      "    char_origin_pos = (char_x, char_y)\n",
      "\n",
      "    ctx.text(\n",
      "        xy=char_origin_pos,\n",
      "        text=c,\n",
      "        fill=255,\n",
      "        font=font.font,\n",
      "    )\n",
      "\n",
      "    # if the image size is the canvas size then return the image without\n",
      "    # centering or cropping because we did try to make an image twice\n",
      "    # as large the font size\n",
      "    if canvas_size == image_size:\n",
      "        # I keep the pillow Image object instead of NumPy array so\n",
      "        # that we can save the image to file using the pillow encoder\n",
      "        # to encode to PNG without having to rely on something like\n",
      "        # OpenCV. We can always convert to NumPy array later if we want.\n",
      "        return canvas\n",
      "\n",
      "    # we will center the character by find the non-zero pixels to\n",
      "    # improve the model accuracy\n",
      "    # TODO center input before using model in other platform (e.g.\n",
      "    # Android - Java - Bitmap, Web - JavaScript - HTMLCanvas)\n",
      "\n",
      "    # convert pillow Image to NumPy array\n",
      "    np_img = np.asarray(canvas, dtype=np.uint8)\n",
      "\n",
      "    # https://docs.scipy.org/doc/numpy/reference/generated/numpy.nonzero.html\n",
      "    zero_ys, zero_xs = np_img.nonzero()[:2]  # `[:2]` just to be safe\n",
      "\n",
      "    # there may be not any nonzero pixel(s) at all on the image because\n",
      "    # the font may not support the character or there is not any glyph\n",
      "    # for the character in the font or maybe for any reason I haven't\n",
      "    # encounter\n",
      "    if len(zero_xs) == 0:\n",
      "        warn(f'{font.name} gives blank image for {repr(c)}!')\n",
      "        return None\n",
      "\n",
      "    min_x, max_x = min(zero_xs), max(zero_xs)\n",
      "    min_y, max_y = min(zero_ys), max(zero_ys)\n",
      "    # you can see the bounding box example here on Imgur\n",
      "    # https://i.imgur.com/lDGHNgL.png\n",
      "\n",
      "    # the character dimensions is caculated based on the nonzero pixels\n",
      "    character_width = max_x - min_x\n",
      "    character_height = max_y - min_y\n",
      "\n",
      "    image_offset_x = min_x - int((image_size - character_width)/2)\n",
      "    image_offset_y = min_y - int((image_size - character_height)/2)\n",
      "    # here is the example for the character's bounding box (in green)\n",
      "    # and the going to be exported image's bounding box (in blue)\n",
      "    # https://i.imgur.com/Gq3mLex.png\n",
      "\n",
      "    # Crop the final image (left, top, right, bottom)\n",
      "    # https://pillow.readthedocs.io/en/stable/reference/Image.html#PIL.Image.Image.crop\n",
      "    image_bounding_box = (\n",
      "        image_offset_x,\n",
      "        image_offset_y,\n",
      "        image_offset_x+image_size,\n",
      "        image_offset_y+image_size,\n",
      "    )\n",
      "\n",
      "    return canvas.crop(image_bounding_box)\n",
      "\n"
     ]
    }
   ],
   "source": [
    "print(inspect.getsource(render_image))"
   ]
  },
  {
   "cell_type": "code",
   "execution_count": 18,
   "metadata": {},
   "outputs": [
    {
     "data": {
      "image/png": "[encoded data removed]",
      "text/plain": [
       "<PIL.Image.Image image mode=L size=64x64 at 0x17D69965588>"
      ]
     },
     "execution_count": 18,
     "metadata": {},
     "output_type": "execute_result"
    }
   ],
   "source": [
    "image = render_image(char_text, font, image_size)\n",
    "image"
   ]
  },
  {
   "cell_type": "code",
   "execution_count": 19,
   "metadata": {},
   "outputs": [
    {
     "data": {
      "text/plain": [
       "PIL.Image.Image"
      ]
     },
     "execution_count": 19,
     "metadata": {},
     "output_type": "execute_result"
    }
   ],
   "source": [
    "type(image)"
   ]
  },
  {
   "cell_type": "code",
   "execution_count": 20,
   "metadata": {},
   "outputs": [
    {
     "data": {
      "text/plain": [
       "(bytes, 1122)"
      ]
     },
     "execution_count": 20,
     "metadata": {},
     "output_type": "execute_result"
    }
   ],
   "source": [
    "buffer = io.BytesIO()\n",
    "image.save(buffer, format='PNG')\n",
    "encoded_image = buffer.getvalue()\n",
    "\n",
    "type(encoded_image), len(encoded_image)"
   ]
  },
  {
   "cell_type": "code",
   "execution_count": null,
   "metadata": {},
   "outputs": [],
   "source": [
    "# m = hashlib.md5()\n",
    "# m.update(encoded_image)\n",
    "# image_data_md5_hash = m.digest()\n",
    "# type(image_data_md5_hash), binascii.hexlify(image_data_md5_hash)"
   ]
  },
  {
   "cell_type": "code",
   "execution_count": 21,
   "metadata": {},
   "outputs": [
    {
     "data": {
      "text/plain": [
       "(str, 'cb61562d38233f686de18ca8e36c8caa')"
      ]
     },
     "execution_count": 21,
     "metadata": {},
     "output_type": "execute_result"
    }
   ],
   "source": [
    "image_data_md5_hash = hashlib.md5(encoded_image).hexdigest()\n",
    "type(image_data_md5_hash), image_data_md5_hash"
   ]
  },
  {
   "cell_type": "code",
   "execution_count": 23,
   "metadata": {},
   "outputs": [
    {
     "data": {
      "text/plain": [
       "{'HASH': 'cb61562d38233f686de18ca8e36c8caa',\n",
       " 'CHARACTER': 'あ',\n",
       " 'WIDTH': 64,\n",
       " 'HEIGHT': 64,\n",
       " 'DEPTH': 1,\n",
       " 'PNG_IMAGE': b\"\\x89PNG\\r\\n\\x1a\\n\\x00\\x00\\x00\\rIHDR\\x00\\x00\\x00@\\x00\\x00\\x00@\\x08\\x00\\x00\\x00\\x00\\x8f\\x02.\\x02\\x00\\x00\\x04)IDATx\\x9c\\xd5\\x97[lTU\\x18\\x85Wg:\\xd3\\x0bmi\\xa1\\xb6\\x15!i\\xbd`\\xa1\\x11\\xa2\\x81\\x86\\xd1Z\\x10\\x13\\x82\\x01\\x14\\x8d&\\xc4@\\xa2\\xc6TL\\x89\\x96\\xd4\\x07\\r^\\x12C\\x9f4\\xc6PcB\\x88\\x08F\\x1f\\x885\\\\\\xc4`0\\xc5\\x10\\xd3\\x16*\\xc6\\xa8\\xb4\\x86rQiGJ\\x9b\\x16Z\\x87^g\\xfa\\xf9p\\xe6rn\\x85\\x81y\\xe2\\x7f:{\\x9d\\xb5\\xd6\\xf9\\xf7\\xd9\\xfb\\xff\\xf79\\xd2m\\x1fi\\xaeh\\xe0\\xdf\\x8c\\xfc\\xf6\\x14\\\\\\xb7\\x00\\xbc\\x94\\x1c\\xd7\\xe3\\x06\\xe6HRq\\n\\x06}\\x92t%U\\x83\\x81\\x14\\x0c\\xfa%i,\\x05\\x831I\\xf2\\xa7`\\x90'Iw\\xde\\x8aAZ\\xb6$y\\xf3$i\\xc8}\\x8b\\xd8#\\xce\\xda\\xf8\\xee?\\xf7\\xfagg\\\\\\xf5L\\xa4\\xcd\\x96$M\\xfa\\x14\\x0e\\xe3m/\\xcc\\n\\xce\\xc8\\x9b\\xe9\\x99\\xa00\\x1c\\xf2x{2/\\xf8\\x96\\x9d^5\\xe8t\\xda\\xc1M\\xc4].SH.a#\\xc2\\x97\\\\\\x0c\\xc6o\\xc2\\xc0;/q\\x9d\\x1e\\xbb\\xd8?\\xa7\\xb7\\xa0p\\xcc?\\xbfe*\\xb3?\\x10\\x90t\\xf6\\xd8\\xa2\\xb2\\xf4\\x91\\xce\\tO\\xf7\\x95\\xf2\\xdeH\\x9e7T1\\x18\\x8c\\x14\\xce\\n\\x9f\\xf3\\xcd\\xfd\\xa5\\xfb\\x06Ox\\x1e`gr\\xd9\\xb8\\xee\\x83k\\x92\\x94\\x99\\x82A\\xc2\\xe5\\x16\\r\\xc6%)d\\x81\\xfc\\x0bo\\xc6\\xa0\\xdbi\\xf0A\\xc7\\xc1ms\\x93\\xcbIR\\x11@\\xbd\\x19\\xc9\\xbc\\x08t$\\x9dA\\x81d\\xdbY\\x9b\\xe7I\\xfa3i\\x831\\xc9\\xd6\\xd2VJ\\xd2\\xa7n\\xdct7pB\\x92J$)\\xbb\\xfa\\x9e\\xac\\xa2\\xe2\\xa2\\xc1jI\\xca\\xf2F\\x924\\xf0IR\\xa8\\xaa\\xea\\xc1\\x8c\\x95\\xb9&\\xf8\\xf0\\xd0O\\xbb\\x8f$\\xd7\\xa8Z\\xa7\\xad\\xc3\\xf1#\\x81$\\xf4\\xf7_\\xba^-\\xef\\x9dy\\x03\\xf9\\x9c\\x83fz\\xf7\\xa9\\xf6o/Z\\x1dN\\xf9\\xae'/\\xa9\\xbf\\x1a#\\x8e\\x1e\\xdf\\xbe\\xf6\\x0eI\\xea\\x01F6m\\xd8\\xfa\\xcd\\xb8q\\xa3e\\xe3\\xf4\\xfa\\xa2\\xfe\\xf8\\x83j3\\xa2\\xd8\\xe3\\x00{%\\xa9\\xa41l\\xdc{}:}\\xf5\\x99D\\xa6Kb`+\\xc0V\\xe3\\xba\\xe2\\x07\\xe3].p\\x95\\xe7\\x9f4\\xa4\\x97[\\x00\\x96F\\xd1\\xb5\\x00\\xdc\\x17#\\xd5F\\x00>s\\xd3\\xcfl7\\xf4{fm\\x03X\\x13\\x85\\x8f\\x02|\\x97\\xa0\\xad\\x1f\\x01\\xc6\\xdc\\xce\\xde\\xc3\\x00\\x9c^.m\\x06x\\xd9@K#\\xc0\\x80y\\xe9\\x1a\\x00\\x1a\\x9c\\xfa:\\x00\\xbeJ\\x97T\\x01\\xf0\\x9e\\x017\\x01|o&\\x96F\\x80A\\xc7\\xd1\\xb7d\\x1c\\xe0@\\xba$e\\x00|.)\\xba\\x04\\xac\\xb3P\\xf7\\x01\\xac\\xb7\\xe9=\\x9d\\x00G\\xa3K\\x17\\x04z3$\\xe9\\x04@\\x8b\\x95\\xbb \\x024\\xdb\\x0c\\x9e\\x03h\\xc96\\xbf\\x8eJI\\xab\\x01x\\xd4F\\xfe\\x0b\\xb0\\xb5v_\\x07\\xc0C\\xb1\\xe1v\\x80g\\x14\\xdd\\x03{\\xec\\xd3=\\x0f\\x1c\\xb3B5\\x00\\x07\\xe2\\xc3g\\x01^\\x93\\x9e\\x028\\x9f+[\\xb4\\x03!k'h\\x06X\\x16\\x1f>\\x0c\\xf0\\xa1r.\\x02<i\\xd7k\\x1f\\x10\\xb2\\xf4\\xbc\\xc7\\x00\\xba\\x12P\\xd6U \\x98\\xbb\\x1b\\xe0\\xa4C\\xaf\\x13@\\x9b\\x05\\xd9\\t\\xf0\\xaa\\t\\xd8\\x0f\\xb0\\x03`\\xb4\\xd2\\xa1\\xcf\\x0f\\x03\\x9fX\\xa0\\xb3\\x00\\xe5&\\xa0\\x11`\\n\\xe0Eg\\x02[\\x1cxZ\\x08\\x88\\x98\\xfbDU\\xac&\\x7fv\\xe9\\x9a\\x1d\\x00\\xf3-\\xd0\\xaf@\\x9f\\x19\\xf0\\x8d\\x19\\xfa/\\xbcN}\\x05&\\xb6\\xe9\\\\\\xf0\\x99\\xb9\\x93\\x7fH\\x92\\xfe\\xaeu\\xe9\\xe4OK\\x92m#\\xee\\x02x\\xc2\\x04\\xbc\\x01\\xc0\\xd0\\x03N\\xb9\\x16\\xf7\\x00\\xac\\xb0\\x82\\x9b\\x00\\xda\\xe2\\xe9x?2&\\xe0\\xf6\\x91\\x91\\xd6\\x05p\\xc8\\x86fu\\x01|\\\\`\\x8c\\x16\\xb5E\\xdf\\xa0\\xdb?\\xc3\\x0b\\xae\\xd5\\xa15\\x00\\x84\\x1a\\x17.\\r\\xd4\\xff8\\x15[\\x82\\xf1\\x19\\x8e\\xe7\\xd7N\\xe2,\\x04I\\xde\\xcbX#|\\n\\xa0\\xc6F+=\\x0e\\xc0\\xef.g\\xcb\\xaa\\xff,\\xfas\\x8f\\x14\\x0e\\x03\\xbfYI+\\xfb\\x00\\x18]\\xec25\\xad\\x9bH\\xc8\\xaf5dI_\\x03\\x94%\\x089o5\\x19s\\x1b^\\xe1\\xa6\\x97\\xcavE\\x0f\\x9e`M\\x8e$\\xbd\\rP\\x1b\\xbf\\xed\\xe9\\x88\\xba\\x0f,5\\xab,5\\xe9\\xaf\\\\>\\xaf\\xa7s\\xf8\\xf8\\xa4$)\\xd0*\\xe9\\\\yl'\\x15_2\\xb8MuA\\xf7\\x04\\x9cq\\x06\\xcc=\\xa2\\x19\\xa0ku\\xb2jI\\xef\\xc0\\xe4\\x97\\x89Z\\xda\\x00\\x17\\xea\\x92\\xfc\\x8f1\\xe2\\xee\\xf7\\xdf4}U\\xcb\\xbf\\xf3\\x95\\xe9?Ko\\xe7\\xf8\\x1fP\\x14>]\\xb6[\\xcb\\xe2\\x00\\x00\\x00\\x00IEND\\xaeB`\\x82\",\n",
       " 'FONT_SIZE': 64,\n",
       " 'FONT_NAME': '07YsashisaGothicTegaki_Regular',\n",
       " 'DESCRIPTION': 'char あ grayscale image created with font 07YsashisaGothicTegaki_Regular and font size 64'}"
      ]
     },
     "execution_count": 23,
     "metadata": {},
     "output_type": "execute_result"
    }
   ],
   "source": [
    "record_dict = {\n",
    "    'HASH': image_data_md5_hash,\n",
    "    'CHARACTER': char_text,\n",
    "    'WIDTH': image_size,\n",
    "    'HEIGHT': image_size,\n",
    "    'DEPTH': 1, # grayscale image\n",
    "    'PNG_IMAGE': encoded_image,\n",
    "    'FONT_SIZE': font.size,\n",
    "    'FONT_NAME': font.name,\n",
    "    'DESCRIPTION': f'char {char_text} grayscale image created with font {font.name} and font size {font.size}',\n",
    "}\n",
    "\n",
    "record_dict"
   ]
  },
  {
   "cell_type": "code",
   "execution_count": 24,
   "metadata": {},
   "outputs": [
    {
     "data": {
      "text/plain": [
       "(b'\\x04',\n",
       " b\"\\x02\\x04\\x00\\x00\\x00HASH\\x02 \\x00\\x00\\x00cb61562d38233f686de18ca8e36c8caa\\x02\\t\\x00\\x00\\x00CHARACTER\\x02\\x03\\x00\\x00\\x00\\xe3\\x81\\x82\\x02\\x05\\x00\\x00\\x00WIDTH\\x01\\x04\\x00\\x00\\x00@\\x00\\x00\\x00\\x02\\x06\\x00\\x00\\x00HEIGHT\\x01\\x04\\x00\\x00\\x00@\\x00\\x00\\x00\\x02\\x05\\x00\\x00\\x00DEPTH\\x01\\x04\\x00\\x00\\x00\\x01\\x00\\x00\\x00\\x02\\t\\x00\\x00\\x00PNG_IMAGE\\x00b\\x04\\x00\\x00\\x89PNG\\r\\n\\x1a\\n\\x00\\x00\\x00\\rIHDR\\x00\\x00\\x00@\\x00\\x00\\x00@\\x08\\x00\\x00\\x00\\x00\\x8f\\x02.\\x02\\x00\\x00\\x04)IDATx\\x9c\\xd5\\x97[lTU\\x18\\x85Wg:\\xd3\\x0bmi\\xa1\\xb6\\x15!i\\xbd`\\xa1\\x11\\xa2\\x81\\x86\\xd1Z\\x10\\x13\\x82\\x01\\x14\\x8d&\\xc4@\\xa2\\xc6TL\\x89\\x96\\xd4\\x07\\r^\\x12C\\x9f4\\xc6PcB\\x88\\x08F\\x1f\\x885\\\\\\xc4`0\\xc5\\x10\\xd3\\x16*\\xc6\\xa8\\xb4\\x86rQiGJ\\x9b\\x16Z\\x87^g\\xfa\\xf9p\\xe6rn\\x85\\x81y\\xe2\\x7f:{\\x9d\\xb5\\xd6\\xf9\\xf7\\xd9\\xfb\\xff\\xf79\\xd2m\\x1fi\\xaeh\\xe0\\xdf\\x8c\\xfc\\xf6\\x14\\\\\\xb7\\x00\\xbc\\x94\\x1c\\xd7\\xe3\\x06\\xe6HRq\\n\\x06}\\x92t%U\\x83\\x81\\x14\\x0c\\xfa%i,\\x05\\x831I\\xf2\\xa7`\\x90'Iw\\xde\\x8aAZ\\xb6$y\\xf3$i\\xc8}\\x8b\\xd8#\\xce\\xda\\xf8\\xee?\\xf7\\xfagg\\\\\\xf5L\\xa4\\xcd\\x96$M\\xfa\\x14\\x0e\\xe3m/\\xcc\\n\\xce\\xc8\\x9b\\xe9\\x99\\xa00\\x1c\\xf2x{2/\\xf8\\x96\\x9d^5\\xe8t\\xda\\xc1M\\xc4].SH.a#\\xc2\\x97\\\\\\x0c\\xc6o\\xc2\\xc0;/q\\x9d\\x1e\\xbb\\xd8?\\xa7\\xb7\\xa0p\\xcc?\\xbfe*\\xb3?\\x10\\x90t\\xf6\\xd8\\xa2\\xb2\\xf4\\x91\\xce\\tO\\xf7\\x95\\xf2\\xdeH\\x9e7T1\\x18\\x8c\\x14\\xce\\n\\x9f\\xf3\\xcd\\xfd\\xa5\\xfb\\x06Ox\\x1e`gr\\xd9\\xb8\\xee\\x83k\\x92\\x94\\x99\\x82A\\xc2\\xe5\\x16\\r\\xc6%)d\\x81\\xfc\\x0bo\\xc6\\xa0\\xdbi\\xf0A\\xc7\\xc1ms\\x93\\xcbIR\\x11@\\xbd\\x19\\xc9\\xbc\\x08t$\\x9dA\\x81d\\xdbY\\x9b\\xe7I\\xfa3i\\x831\\xc9\\xd6\\xd2VJ\\xd2\\xa7n\\xdct7pB\\x92J$)\\xbb\\xfa\\x9e\\xac\\xa2\\xe2\\xa2\\xc1jI\\xca\\xf2F\\x924\\xf0IR\\xa8\\xaa\\xea\\xc1\\x8c\\x95\\xb9&\\xf8\\xf0\\xd0O\\xbb\\x8f$\\xd7\\xa8Z\\xa7\\xad\\xc3\\xf1#\\x81$\\xf4\\xf7_\\xba^-\\xef\\x9dy\\x03\\xf9\\x9c\\x83fz\\xf7\\xa9\\xf6o/Z\\x1dN\\xf9\\xae'/\\xa9\\xbf\\x1a#\\x8e\\x1e\\xdf\\xbe\\xf6\\x0eI\\xea\\x01F6m\\xd8\\xfa\\xcd\\xb8q\\xa3e\\xe3\\xf4\\xfa\\xa2\\xfe\\xf8\\x83j3\\xa2\\xd8\\xe3\\x00{%\\xa9\\xa41l\\xdc{}:}\\xf5\\x99D\\xa6Kb`+\\xc0V\\xe3\\xba\\xe2\\x07\\xe3].p\\x95\\xe7\\x9f4\\xa4\\x97[\\x00\\x96F\\xd1\\xb5\\x00\\xdc\\x17#\\xd5F\\x00>s\\xd3\\xcfl7\\xf4{fm\\x03X\\x13\\x85\\x8f\\x02|\\x97\\xa0\\xad\\x1f\\x01\\xc6\\xdc\\xce\\xde\\xc3\\x00\\x9c^.m\\x06x\\xd9@K#\\xc0\\x80y\\xe9\\x1a\\x00\\x1a\\x9c\\xfa:\\x00\\xbeJ\\x97T\\x01\\xf0\\x9e\\x017\\x01|o&\\x96F\\x80A\\xc7\\xd1\\xb7d\\x1c\\xe0@\\xba$e\\x00|.)\\xba\\x04\\xac\\xb3P\\xf7\\x01\\xac\\xb7\\xe9=\\x9d\\x00G\\xa3K\\x17\\x04z3$\\xe9\\x04@\\x8b\\x95\\xbb \\x024\\xdb\\x0c\\x9e\\x03h\\xc96\\xbf\\x8eJI\\xab\\x01x\\xd4F\\xfe\\x0b\\xb0\\xb5v_\\x07\\xc0C\\xb1\\xe1v\\x80g\\x14\\xdd\\x03{\\xec\\xd3=\\x0f\\x1c\\xb3B5\\x00\\x07\\xe2\\xc3g\\x01^\\x93\\x9e\\x028\\x9f+[\\xb4\\x03!k'h\\x06X\\x16\\x1f>\\x0c\\xf0\\xa1r.\\x02<i\\xd7k\\x1f\\x10\\xb2\\xf4\\xbc\\xc7\\x00\\xba\\x12P\\xd6U \\x98\\xbb\\x1b\\xe0\\xa4C\\xaf\\x13@\\x9b\\x05\\xd9\\t\\xf0\\xaa\\t\\xd8\\x0f\\xb0\\x03`\\xb4\\xd2\\xa1\\xcf\\x0f\\x03\\x9fX\\xa0\\xb3\\x00\\xe5&\\xa0\\x11`\\n\\xe0Eg\\x02[\\x1cxZ\\x08\\x88\\x98\\xfbDU\\xac&\\x7fv\\xe9\\x9a\\x1d\\x00\\xf3-\\xd0\\xaf@\\x9f\\x19\\xf0\\x8d\\x19\\xfa/\\xbcN}\\x05&\\xb6\\xe9\\\\\\xf0\\x99\\xb9\\x93\\x7fH\\x92\\xfe\\xaeu\\xe9\\xe4OK\\x92m#\\xee\\x02x\\xc2\\x04\\xbc\\x01\\xc0\\xd0\\x03N\\xb9\\x16\\xf7\\x00\\xac\\xb0\\x82\\x9b\\x00\\xda\\xe2\\xe9x?2&\\xe0\\xf6\\x91\\x91\\xd6\\x05p\\xc8\\x86fu\\x01|\\\\`\\x8c\\x16\\xb5E\\xdf\\xa0\\xdb?\\xc3\\x0b\\xae\\xd5\\xa15\\x00\\x84\\x1a\\x17.\\r\\xd4\\xff8\\x15[\\x82\\xf1\\x19\\x8e\\xe7\\xd7N\\xe2,\\x04I\\xde\\xcbX#|\\n\\xa0\\xc6F+=\\x0e\\xc0\\xef.g\\xcb\\xaa\\xff,\\xfas\\x8f\\x14\\x0e\\x03\\xbfYI+\\xfb\\x00\\x18]\\xec25\\xad\\x9bH\\xc8\\xaf5dI_\\x03\\x94%\\x089o5\\x19s\\x1b^\\xe1\\xa6\\x97\\xcavE\\x0f\\x9e`M\\x8e$\\xbd\\rP\\x1b\\xbf\\xed\\xe9\\x88\\xba\\x0f,5\\xab,5\\xe9\\xaf\\\\>\\xaf\\xa7s\\xf8\\xf8\\xa4$)\\xd0*\\xe9\\\\yl'\\x15_2\\xb8MuA\\xf7\\x04\\x9cq\\x06\\xcc=\\xa2\\x19\\xa0ku\\xb2jI\\xef\\xc0\\xe4\\x97\\x89Z\\xda\\x00\\x17\\xea\\x92\\xfc\\x8f1\\xe2\\xee\\xf7\\xdf4}U\\xcb\\xbf\\xf3\\x95\\xe9?Ko\\xe7\\xf8\\x1fP\\x14>]\\xb6[\\xcb\\xe2\\x00\\x00\\x00\\x00IEND\\xaeB`\\x82\\x02\\t\\x00\\x00\\x00FONT_SIZE\\x01\\x04\\x00\\x00\\x00@\\x00\\x00\\x00\\x02\\t\\x00\\x00\\x00FONT_NAME\\x02\\x1e\\x00\\x00\\x0007YsashisaGothicTegaki_Regular\\x02\\x0b\\x00\\x00\\x00DESCRIPTION\\x02Z\\x00\\x00\\x00char \\xe3\\x81\\x82 grayscale image created with font 07YsashisaGothicTegaki_Regular and font size 64\")"
      ]
     },
     "execution_count": 24,
     "metadata": {},
     "output_type": "execute_result"
    }
   ],
   "source": [
    "record_datatype, encoded_record = XFormat.serialize_obj(record_dict)\n",
    "record_datatype, encoded_record"
   ]
  },
  {
   "cell_type": "code",
   "execution_count": 28,
   "metadata": {},
   "outputs": [
    {
     "data": {
      "text/plain": [
       "{'HASH': 'cb61562d38233f686de18ca8e36c8caa',\n",
       " 'CHARACTER': 'あ',\n",
       " 'WIDTH': 64,\n",
       " 'HEIGHT': 64,\n",
       " 'DEPTH': 1,\n",
       " 'PNG_IMAGE': b\"\\x89PNG\\r\\n\\x1a\\n\\x00\\x00\\x00\\rIHDR\\x00\\x00\\x00@\\x00\\x00\\x00@\\x08\\x00\\x00\\x00\\x00\\x8f\\x02.\\x02\\x00\\x00\\x04)IDATx\\x9c\\xd5\\x97[lTU\\x18\\x85Wg:\\xd3\\x0bmi\\xa1\\xb6\\x15!i\\xbd`\\xa1\\x11\\xa2\\x81\\x86\\xd1Z\\x10\\x13\\x82\\x01\\x14\\x8d&\\xc4@\\xa2\\xc6TL\\x89\\x96\\xd4\\x07\\r^\\x12C\\x9f4\\xc6PcB\\x88\\x08F\\x1f\\x885\\\\\\xc4`0\\xc5\\x10\\xd3\\x16*\\xc6\\xa8\\xb4\\x86rQiGJ\\x9b\\x16Z\\x87^g\\xfa\\xf9p\\xe6rn\\x85\\x81y\\xe2\\x7f:{\\x9d\\xb5\\xd6\\xf9\\xf7\\xd9\\xfb\\xff\\xf79\\xd2m\\x1fi\\xaeh\\xe0\\xdf\\x8c\\xfc\\xf6\\x14\\\\\\xb7\\x00\\xbc\\x94\\x1c\\xd7\\xe3\\x06\\xe6HRq\\n\\x06}\\x92t%U\\x83\\x81\\x14\\x0c\\xfa%i,\\x05\\x831I\\xf2\\xa7`\\x90'Iw\\xde\\x8aAZ\\xb6$y\\xf3$i\\xc8}\\x8b\\xd8#\\xce\\xda\\xf8\\xee?\\xf7\\xfagg\\\\\\xf5L\\xa4\\xcd\\x96$M\\xfa\\x14\\x0e\\xe3m/\\xcc\\n\\xce\\xc8\\x9b\\xe9\\x99\\xa00\\x1c\\xf2x{2/\\xf8\\x96\\x9d^5\\xe8t\\xda\\xc1M\\xc4].SH.a#\\xc2\\x97\\\\\\x0c\\xc6o\\xc2\\xc0;/q\\x9d\\x1e\\xbb\\xd8?\\xa7\\xb7\\xa0p\\xcc?\\xbfe*\\xb3?\\x10\\x90t\\xf6\\xd8\\xa2\\xb2\\xf4\\x91\\xce\\tO\\xf7\\x95\\xf2\\xdeH\\x9e7T1\\x18\\x8c\\x14\\xce\\n\\x9f\\xf3\\xcd\\xfd\\xa5\\xfb\\x06Ox\\x1e`gr\\xd9\\xb8\\xee\\x83k\\x92\\x94\\x99\\x82A\\xc2\\xe5\\x16\\r\\xc6%)d\\x81\\xfc\\x0bo\\xc6\\xa0\\xdbi\\xf0A\\xc7\\xc1ms\\x93\\xcbIR\\x11@\\xbd\\x19\\xc9\\xbc\\x08t$\\x9dA\\x81d\\xdbY\\x9b\\xe7I\\xfa3i\\x831\\xc9\\xd6\\xd2VJ\\xd2\\xa7n\\xdct7pB\\x92J$)\\xbb\\xfa\\x9e\\xac\\xa2\\xe2\\xa2\\xc1jI\\xca\\xf2F\\x924\\xf0IR\\xa8\\xaa\\xea\\xc1\\x8c\\x95\\xb9&\\xf8\\xf0\\xd0O\\xbb\\x8f$\\xd7\\xa8Z\\xa7\\xad\\xc3\\xf1#\\x81$\\xf4\\xf7_\\xba^-\\xef\\x9dy\\x03\\xf9\\x9c\\x83fz\\xf7\\xa9\\xf6o/Z\\x1dN\\xf9\\xae'/\\xa9\\xbf\\x1a#\\x8e\\x1e\\xdf\\xbe\\xf6\\x0eI\\xea\\x01F6m\\xd8\\xfa\\xcd\\xb8q\\xa3e\\xe3\\xf4\\xfa\\xa2\\xfe\\xf8\\x83j3\\xa2\\xd8\\xe3\\x00{%\\xa9\\xa41l\\xdc{}:}\\xf5\\x99D\\xa6Kb`+\\xc0V\\xe3\\xba\\xe2\\x07\\xe3].p\\x95\\xe7\\x9f4\\xa4\\x97[\\x00\\x96F\\xd1\\xb5\\x00\\xdc\\x17#\\xd5F\\x00>s\\xd3\\xcfl7\\xf4{fm\\x03X\\x13\\x85\\x8f\\x02|\\x97\\xa0\\xad\\x1f\\x01\\xc6\\xdc\\xce\\xde\\xc3\\x00\\x9c^.m\\x06x\\xd9@K#\\xc0\\x80y\\xe9\\x1a\\x00\\x1a\\x9c\\xfa:\\x00\\xbeJ\\x97T\\x01\\xf0\\x9e\\x017\\x01|o&\\x96F\\x80A\\xc7\\xd1\\xb7d\\x1c\\xe0@\\xba$e\\x00|.)\\xba\\x04\\xac\\xb3P\\xf7\\x01\\xac\\xb7\\xe9=\\x9d\\x00G\\xa3K\\x17\\x04z3$\\xe9\\x04@\\x8b\\x95\\xbb \\x024\\xdb\\x0c\\x9e\\x03h\\xc96\\xbf\\x8eJI\\xab\\x01x\\xd4F\\xfe\\x0b\\xb0\\xb5v_\\x07\\xc0C\\xb1\\xe1v\\x80g\\x14\\xdd\\x03{\\xec\\xd3=\\x0f\\x1c\\xb3B5\\x00\\x07\\xe2\\xc3g\\x01^\\x93\\x9e\\x028\\x9f+[\\xb4\\x03!k'h\\x06X\\x16\\x1f>\\x0c\\xf0\\xa1r.\\x02<i\\xd7k\\x1f\\x10\\xb2\\xf4\\xbc\\xc7\\x00\\xba\\x12P\\xd6U \\x98\\xbb\\x1b\\xe0\\xa4C\\xaf\\x13@\\x9b\\x05\\xd9\\t\\xf0\\xaa\\t\\xd8\\x0f\\xb0\\x03`\\xb4\\xd2\\xa1\\xcf\\x0f\\x03\\x9fX\\xa0\\xb3\\x00\\xe5&\\xa0\\x11`\\n\\xe0Eg\\x02[\\x1cxZ\\x08\\x88\\x98\\xfbDU\\xac&\\x7fv\\xe9\\x9a\\x1d\\x00\\xf3-\\xd0\\xaf@\\x9f\\x19\\xf0\\x8d\\x19\\xfa/\\xbcN}\\x05&\\xb6\\xe9\\\\\\xf0\\x99\\xb9\\x93\\x7fH\\x92\\xfe\\xaeu\\xe9\\xe4OK\\x92m#\\xee\\x02x\\xc2\\x04\\xbc\\x01\\xc0\\xd0\\x03N\\xb9\\x16\\xf7\\x00\\xac\\xb0\\x82\\x9b\\x00\\xda\\xe2\\xe9x?2&\\xe0\\xf6\\x91\\x91\\xd6\\x05p\\xc8\\x86fu\\x01|\\\\`\\x8c\\x16\\xb5E\\xdf\\xa0\\xdb?\\xc3\\x0b\\xae\\xd5\\xa15\\x00\\x84\\x1a\\x17.\\r\\xd4\\xff8\\x15[\\x82\\xf1\\x19\\x8e\\xe7\\xd7N\\xe2,\\x04I\\xde\\xcbX#|\\n\\xa0\\xc6F+=\\x0e\\xc0\\xef.g\\xcb\\xaa\\xff,\\xfas\\x8f\\x14\\x0e\\x03\\xbfYI+\\xfb\\x00\\x18]\\xec25\\xad\\x9bH\\xc8\\xaf5dI_\\x03\\x94%\\x089o5\\x19s\\x1b^\\xe1\\xa6\\x97\\xcavE\\x0f\\x9e`M\\x8e$\\xbd\\rP\\x1b\\xbf\\xed\\xe9\\x88\\xba\\x0f,5\\xab,5\\xe9\\xaf\\\\>\\xaf\\xa7s\\xf8\\xf8\\xa4$)\\xd0*\\xe9\\\\yl'\\x15_2\\xb8MuA\\xf7\\x04\\x9cq\\x06\\xcc=\\xa2\\x19\\xa0ku\\xb2jI\\xef\\xc0\\xe4\\x97\\x89Z\\xda\\x00\\x17\\xea\\x92\\xfc\\x8f1\\xe2\\xee\\xf7\\xdf4}U\\xcb\\xbf\\xf3\\x95\\xe9?Ko\\xe7\\xf8\\x1fP\\x14>]\\xb6[\\xcb\\xe2\\x00\\x00\\x00\\x00IEND\\xaeB`\\x82\",\n",
       " 'FONT_SIZE': 64,\n",
       " 'FONT_NAME': '07YsashisaGothicTegaki_Regular',\n",
       " 'DESCRIPTION': 'char あ grayscale image created with font 07YsashisaGothicTegaki_Regular and font size 64'}"
      ]
     },
     "execution_count": 28,
     "metadata": {},
     "output_type": "execute_result"
    }
   ],
   "source": [
    "deserialized_record = XFormat.deserialze_obj(encoded_record, record_datatype[0])\n",
    "deserialized_record"
   ]
  }
 ],
 "metadata": {
  "kernelspec": {
   "display_name": "Python 3",
   "language": "python",
   "name": "python3"
  },
  "language_info": {
   "codemirror_mode": {
    "name": "ipython",
    "version": 3
   },
   "file_extension": ".py",
   "mimetype": "text/x-python",
   "name": "python",
   "nbconvert_exporter": "python",
   "pygments_lexer": "ipython3",
   "version": "3.7.6"
  }
 },
 "nbformat": 4,
 "nbformat_minor": 4
}
