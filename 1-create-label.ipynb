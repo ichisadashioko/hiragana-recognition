{
 "cells": [
  {
   "cell_type": "markdown",
   "metadata": {},
   "source": [
    "# Goal\n",
    "\n",
    "Because classification model can only output array of numbers, we need to generate mapping between the indices and the characters. Otherwise, we may lose track of which indicies belong to which characters. I will use JSON format to save the mapping output."
   ]
  },
  {
   "cell_type": "code",
   "execution_count": 1,
   "metadata": {},
   "outputs": [],
   "source": [
    "import os\n",
    "import re\n",
    "import time\n",
    "import argparse\n",
    "import inspect\n",
    "\n",
    "from constants import *\n",
    "from logger import *\n",
    "from utils import *\n",
    "from serializable import *"
   ]
  },
  {
   "cell_type": "markdown",
   "metadata": {},
   "source": [
    "Prepare a text file that contains all the characters."
   ]
  },
  {
   "cell_type": "code",
   "execution_count": 2,
   "metadata": {},
   "outputs": [
    {
     "data": {
      "text/plain": [
       "True"
      ]
     },
     "execution_count": 2,
     "metadata": {},
     "output_type": "execute_result"
    }
   ],
   "source": [
    "infile = 'hiragana.txt'\n",
    "os.path.exists(infile)"
   ]
  },
  {
   "cell_type": "markdown",
   "metadata": {},
   "source": [
    "Create a list of characters from `infile`. Here we can apply all kind of ordering to make the label ordering as relevant as possible. However, we don't know anything about how we should order the characters yet so we will stick with the order of appearance in the text file."
   ]
  },
  {
   "cell_type": "code",
   "execution_count": 3,
   "metadata": {},
   "outputs": [
    {
     "data": {
      "text/plain": [
       "['あ',\n",
       " 'い',\n",
       " 'う',\n",
       " 'え',\n",
       " 'お',\n",
       " 'か',\n",
       " 'き',\n",
       " 'く',\n",
       " 'け',\n",
       " 'こ',\n",
       " 'さ',\n",
       " 'し',\n",
       " 'す',\n",
       " 'せ',\n",
       " 'そ',\n",
       " 'た',\n",
       " 'ち',\n",
       " 'つ',\n",
       " 'て',\n",
       " 'と',\n",
       " 'な',\n",
       " 'に',\n",
       " 'ぬ',\n",
       " 'ね',\n",
       " 'の',\n",
       " 'ま',\n",
       " 'み',\n",
       " 'む',\n",
       " 'め',\n",
       " 'も',\n",
       " 'は',\n",
       " 'ひ',\n",
       " 'ふ',\n",
       " 'へ',\n",
       " 'ほ',\n",
       " 'や',\n",
       " 'ゆ',\n",
       " 'よ',\n",
       " 'ら',\n",
       " 'り',\n",
       " 'る',\n",
       " 'れ',\n",
       " 'ろ',\n",
       " 'わ',\n",
       " 'ん']"
      ]
     },
     "execution_count": 3,
     "metadata": {},
     "output_type": "execute_result"
    }
   ],
   "source": [
    "lines = open(infile, mode='r', encoding='utf-8').readlines()\n",
    "content = ''.join(lines)\n",
    "content = content.replace('\\n', '')\n",
    "characters = [c for c in content]\n",
    "characters"
   ]
  },
  {
   "cell_type": "markdown",
   "metadata": {},
   "source": [
    "When serializing, we should also the source file name and content of the file so that we can easily identify where the labels come from later."
   ]
  },
  {
   "cell_type": "code",
   "execution_count": 4,
   "metadata": {},
   "outputs": [
    {
     "name": "stdout",
     "output_type": "stream",
     "text": [
      "class LabelFile:\n",
      "    def __init__(self, source: str, content: str, labels: list):\n",
      "        self.source = source\n",
      "        self.content = content\n",
      "        self.labels = labels\n",
      "\n",
      "    def __repr__(self):\n",
      "        return repr(self.__dict__)\n",
      "\n",
      "    @staticmethod\n",
      "    def parse_obj(obj: dict):\n",
      "        if not isinstance(obj, dict):\n",
      "            raise Exception(f'{obj} is not a dict!')\n",
      "\n",
      "        sample = LabelFile('', '', [])\n",
      "        args = {}\n",
      "\n",
      "        for key in sample.__dict__:\n",
      "            if key not in obj:\n",
      "                obj_str = repr(obj)\n",
      "                if len(obj_str) > 80:\n",
      "                    obj_str = obj_str[:40] + '...' + obj_str[-40:]\n",
      "\n",
      "                raise Exception(f'{obj_str} does not contain key {repr(key)}!')\n",
      "\n",
      "            args[key] = obj[key]\n",
      "\n",
      "        return LabelFile(**args)\n",
      "\n"
     ]
    }
   ],
   "source": [
    "print(inspect.getsource(LabelFile))"
   ]
  },
  {
   "cell_type": "markdown",
   "metadata": {},
   "source": [
    "The `staticmethod` is used to parse the `json` back. Yeah, I think it is a naive way of doing that but it is simple."
   ]
  },
  {
   "cell_type": "code",
   "execution_count": 5,
   "metadata": {},
   "outputs": [
    {
     "data": {
      "text/plain": [
       "{'source': 'hiragana.txt', 'content': 'あいうえおかきくけこさしすせそたちつてとなにぬねのまみむめもはひふへほやゆよらりるれろわん', 'labels': ['あ', 'い', 'う', 'え', 'お', 'か', 'き', 'く', 'け', 'こ', 'さ', 'し', 'す', 'せ', 'そ', 'た', 'ち', 'つ', 'て', 'と', 'な', 'に', 'ぬ', 'ね', 'の', 'ま', 'み', 'む', 'め', 'も', 'は', 'ひ', 'ふ', 'へ', 'ほ', 'や', 'ゆ', 'よ', 'ら', 'り', 'る', 'れ', 'ろ', 'わ', 'ん']}"
      ]
     },
     "execution_count": 5,
     "metadata": {},
     "output_type": "execute_result"
    }
   ],
   "source": [
    "label_file = LabelFile(\n",
    "    source=os.path.basename(infile),\n",
    "    content=content,\n",
    "    labels=characters,\n",
    ")\n",
    "\n",
    "label_file"
   ]
  },
  {
   "cell_type": "code",
   "execution_count": 6,
   "metadata": {},
   "outputs": [
    {
     "data": {
      "text/plain": [
       "('labels.json', True)"
      ]
     },
     "execution_count": 6,
     "metadata": {},
     "output_type": "execute_result"
    }
   ],
   "source": [
    "outfile = LABEL_FILENAME\n",
    "outfile, os.path.exists(outfile)"
   ]
  },
  {
   "cell_type": "markdown",
   "metadata": {},
   "source": [
    "As we are going to prototype a lots, it is a good idea to back up generated samples every iterations."
   ]
  },
  {
   "cell_type": "code",
   "execution_count": 7,
   "metadata": {},
   "outputs": [
    {
     "name": "stdout",
     "output_type": "stream",
     "text": [
      "Output file labels.json is already existed!\n",
      "It has been backed up at 1589632615-labels.json.\n"
     ]
    },
    {
     "data": {
      "text/plain": [
       "('labels.json', False)"
      ]
     },
     "execution_count": 7,
     "metadata": {},
     "output_type": "execute_result"
    }
   ],
   "source": [
    "if os.path.exists(outfile):\n",
    "    print(f'Output file {outfile} is already existed!')\n",
    "\n",
    "    backup_path = backup_file_by_modified_date(outfile)\n",
    "    print(f'It has been backed up at {os.path.basename(backup_path)}.')\n",
    "\n",
    "outfile, os.path.exists(outfile)"
   ]
  },
  {
   "cell_type": "markdown",
   "metadata": {},
   "source": [
    "We are going to dump a lot of data to `json` so it may be a good idea to use the same format each times."
   ]
  },
  {
   "cell_type": "code",
   "execution_count": 8,
   "metadata": {},
   "outputs": [
    {
     "name": "stdout",
     "output_type": "stream",
     "text": [
      "def universal_dump(obj, fp):\n",
      "    # use tab to reduce file size\n",
      "    json.dump(obj, fp, ensure_ascii=False, indent='\\t')\n",
      "\n"
     ]
    }
   ],
   "source": [
    "print(inspect.getsource(universal_dump))"
   ]
  },
  {
   "cell_type": "code",
   "execution_count": 9,
   "metadata": {},
   "outputs": [],
   "source": [
    "with open(outfile, mode='w', encoding='utf-8') as out_stream:\n",
    "    universal_dump(label_file.__dict__, out_stream)"
   ]
  }
 ],
 "metadata": {
  "kernelspec": {
   "display_name": "Python 3",
   "language": "python",
   "name": "python3"
  },
  "language_info": {
   "codemirror_mode": {
    "name": "ipython",
    "version": 3
   },
   "file_extension": ".py",
   "mimetype": "text/x-python",
   "name": "python",
   "nbconvert_exporter": "python",
   "pygments_lexer": "ipython3",
   "version": "3.7.6"
  }
 },
 "nbformat": 4,
 "nbformat_minor": 4
}
