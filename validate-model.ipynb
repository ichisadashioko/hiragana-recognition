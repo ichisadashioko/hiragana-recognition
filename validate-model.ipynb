{
 "cells": [
  {
   "cell_type": "code",
   "execution_count": 17,
   "metadata": {},
   "outputs": [],
   "source": [
    "import os\n",
    "import io\n",
    "import json\n",
    "import hashlib\n",
    "import random\n",
    "from typing import Dict, List"
   ]
  },
  {
   "cell_type": "code",
   "execution_count": 2,
   "metadata": {},
   "outputs": [],
   "source": [
    "import numpy as np\n",
    "import PIL\n",
    "import PIL.Image\n",
    "\n",
    "import matplotlib.pyplot as plt"
   ]
  },
  {
   "cell_type": "code",
   "execution_count": 3,
   "metadata": {},
   "outputs": [
    {
     "data": {
      "text/plain": [
       "'2.3.1'"
      ]
     },
     "execution_count": 3,
     "metadata": {},
     "output_type": "execute_result"
    }
   ],
   "source": [
    "import tensorflow as tf\n",
    "tf.__version__"
   ]
  },
  {
   "cell_type": "code",
   "execution_count": 4,
   "metadata": {},
   "outputs": [],
   "source": [
    "from train import fetch_image_data"
   ]
  },
  {
   "cell_type": "code",
   "execution_count": 5,
   "metadata": {},
   "outputs": [],
   "source": [
    "metadata_filepath = 'metadata.json'\n",
    "packed_image_filepath = 'images.bin'\n",
    "labeling_filepath = 'japanese-characters.txt'"
   ]
  },
  {
   "cell_type": "code",
   "execution_count": 6,
   "metadata": {},
   "outputs": [],
   "source": [
    "labeling_content = open(labeling_filepath, mode='rb').read()\n",
    "\n",
    "# hash label file for identifying if the trained model is compatible with a specific label file\n",
    "label_file_hash = hashlib.sha256(labeling_content).hexdigest()\n",
    "\n",
    "labeling_content = labeling_content.decode('utf-8')\n",
    "\n",
    "labeling_lines = labeling_content.splitlines()\n",
    "labeling_lines = list(filter(lambda x: len(x) > 0, labeling_lines))\n",
    "\n",
    "label_list = []\n",
    "for line in labeling_lines:\n",
    "    rows = line.split('\\t')\n",
    "    if len(rows) > 1:\n",
    "        main_label_chars = rows[0]\n",
    "        sub_label_chars = rows[1]\n",
    "        label_chars = main_label_chars + sub_label_chars\n",
    "    else:\n",
    "        main_label_chars = rows[0]\n",
    "        sub_label_chars = ''\n",
    "        label_chars = main_label_chars\n",
    "\n",
    "    label_entry = {\n",
    "        'label_chars': label_chars,\n",
    "        'main_label_chars': main_label_chars,\n",
    "        'sub_label_chars': sub_label_chars,\n",
    "    }\n",
    "\n",
    "    label_list.append(label_entry)\n",
    "\n",
    "label_to_index = {}\n",
    "\n",
    "num_outputs = len(label_list)\n",
    "\n",
    "for i in range(num_outputs):\n",
    "    label_chars = label_list[i]['label_chars']\n",
    "\n",
    "    for c in label_chars:\n",
    "        if c in label_to_index:\n",
    "            raise Exception(f'Duplicated character {c}!')\n",
    "        else:\n",
    "            label_to_index[c] = i\n",
    "\n",
    "####################################################################\n",
    "\n",
    "metadata_content = open(metadata_filepath, mode='rb').read()\n",
    "metadata_content = metadata_content.decode('utf-8')\n",
    "\n",
    "dataset_metadata: Dict[str, List[dict]] = json.loads(metadata_content)\n",
    "records = dataset_metadata['records']\n",
    "fetch_image_data(records, packed_image_filepath)\n",
    "\n",
    "train_images = []\n",
    "train_labels = []\n",
    "\n",
    "input_shape = (64, 64, 1)\n",
    "\n",
    "for record in records:\n",
    "    label_char = record['char']\n",
    "    image_bs: bytes = record['image_data']\n",
    "\n",
    "    label_idx = label_to_index[label_char]\n",
    "    train_labels.append(label_idx)\n",
    "\n",
    "    buffer = io.BytesIO(image_bs)\n",
    "    pil_image = PIL.Image.open(buffer)\n",
    "    np_image = np.array(pil_image, dtype=np.float32)\n",
    "    np_image = np_image / 255.0\n",
    "    np_image = np.reshape(np_image, input_shape)\n",
    "    train_images.append(np_image)\n",
    "\n",
    "train_images = np.array(train_images)\n",
    "train_labels = np.array(train_labels)\n",
    "num_records = len(train_labels)"
   ]
  },
  {
   "cell_type": "code",
   "execution_count": 22,
   "metadata": {},
   "outputs": [
    {
     "name": "stdout",
     "output_type": "stream",
     "text": [
      "769 {'label_chars': '忘', 'main_label_chars': '忘', 'sub_label_chars': ''}\n"
     ]
    },
    {
     "data": {
      "text/plain": [
       "<matplotlib.colorbar.Colorbar at 0x7f33c56d6198>"
      ]
     },
     "execution_count": 22,
     "metadata": {},
     "output_type": "execute_result"
    },
    {
     "data": {
      "image/png": "[encoded data removed]",
      "text/plain": [
       "<Figure size 432x288 with 2 Axes>"
      ]
     },
     "metadata": {
      "needs_background": "light"
     },
     "output_type": "display_data"
    }
   ],
   "source": [
    "idx = random.randrange(num_records)\n",
    "img = train_images[idx,:,:,0]\n",
    "label_idx = train_labels[idx]\n",
    "\n",
    "print(label_idx, label_list[label_idx])\n",
    "plt.imshow(img)\n",
    "plt.colorbar()"
   ]
  },
  {
   "cell_type": "code",
   "execution_count": 8,
   "metadata": {},
   "outputs": [
    {
     "name": "stdout",
     "output_type": "stream",
     "text": [
      "Model: \"sequential\"\n",
      "_________________________________________________________________\n",
      "Layer (type)                 Output Shape              Param #   \n",
      "=================================================================\n",
      "conv2d (Conv2D)              (None, 49, 49, 32)        8224      \n",
      "_________________________________________________________________\n",
      "max_pooling2d (MaxPooling2D) (None, 24, 24, 32)        0         \n",
      "_________________________________________________________________\n",
      "dropout (Dropout)            (None, 24, 24, 32)        0         \n",
      "_________________________________________________________________\n",
      "conv2d_1 (Conv2D)            (None, 17, 17, 64)        131136    \n",
      "_________________________________________________________________\n",
      "max_pooling2d_1 (MaxPooling2 (None, 8, 8, 64)          0         \n",
      "_________________________________________________________________\n",
      "flatten (Flatten)            (None, 4096)              0         \n",
      "_________________________________________________________________\n",
      "dense (Dense)                (None, 64)                262208    \n",
      "_________________________________________________________________\n",
      "dense_1 (Dense)              (None, 2214)              143910    \n",
      "=================================================================\n",
      "Total params: 545,478\n",
      "Trainable params: 545,478\n",
      "Non-trainable params: 0\n",
      "_________________________________________________________________\n"
     ]
    }
   ],
   "source": [
    "model_filepath = 'model_checkpoints-20201008_211403/finished_training_model-epoch_20.h5'\n",
    "model = tf.keras.models.load_model(model_filepath)\n",
    "model.summary()"
   ]
  },
  {
   "cell_type": "code",
   "execution_count": 9,
   "metadata": {},
   "outputs": [
    {
     "data": {
      "text/plain": [
       "numpy.ndarray"
      ]
     },
     "execution_count": 9,
     "metadata": {},
     "output_type": "execute_result"
    }
   ],
   "source": [
    "evaluated_outputs = model.predict(x=train_images)\n",
    "type(evaluated_outputs)"
   ]
  },
  {
   "cell_type": "code",
   "execution_count": 10,
   "metadata": {},
   "outputs": [
    {
     "data": {
      "text/plain": [
       "(104449, 2214)"
      ]
     },
     "execution_count": 10,
     "metadata": {},
     "output_type": "execute_result"
    }
   ],
   "source": [
    "evaluated_outputs.shape"
   ]
  },
  {
   "cell_type": "code",
   "execution_count": 14,
   "metadata": {},
   "outputs": [
    {
     "data": {
      "text/plain": [
       "0"
      ]
     },
     "execution_count": 14,
     "metadata": {},
     "output_type": "execute_result"
    }
   ],
   "source": [
    "np.argmax(evaluated_outputs[100000])"
   ]
  },
  {
   "cell_type": "code",
   "execution_count": 55,
   "metadata": {},
   "outputs": [
    {
     "name": "stdout",
     "output_type": "stream",
     "text": [
      "label: 417 {'label_chars': '哲', 'main_label_chars': '哲', 'sub_label_chars': ''}\n",
      "output: 0 {'label_chars': 'あぁ', 'main_label_chars': 'あ', 'sub_label_chars': 'ぁ'}\n"
     ]
    },
    {
     "data": {
      "text/plain": [
       "<matplotlib.colorbar.Colorbar at 0x7f31992d8b00>"
      ]
     },
     "execution_count": 55,
     "metadata": {},
     "output_type": "execute_result"
    },
    {
     "data": {
      "image/png": "[encoded data removed]",
      "text/plain": [
       "<Figure size 432x288 with 2 Axes>"
      ]
     },
     "metadata": {
      "needs_background": "light"
     },
     "output_type": "display_data"
    }
   ],
   "source": [
    "idx = random.randrange(num_records)\n",
    "img = train_images[idx,:,:,0]\n",
    "label_idx = train_labels[idx]\n",
    "output_array = evaluated_outputs[idx]\n",
    "output_label_idx = np.argmax(output_array)\n",
    "\n",
    "print('label:', label_idx, label_list[label_idx])\n",
    "print('output:', output_label_idx, label_list[output_label_idx])\n",
    "plt.imshow(img)\n",
    "plt.colorbar()"
   ]
  }
 ],
 "metadata": {
  "kernelspec": {
   "display_name": "Python 3",
   "language": "python",
   "name": "python3"
  },
  "language_info": {
   "codemirror_mode": {
    "name": "ipython",
    "version": 3
   },
   "file_extension": ".py",
   "mimetype": "text/x-python",
   "name": "python",
   "nbconvert_exporter": "python",
   "pygments_lexer": "ipython3",
   "version": "3.6.9"
  }
 },
 "nbformat": 4,
 "nbformat_minor": 4
}
