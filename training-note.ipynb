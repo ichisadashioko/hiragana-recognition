{
 "cells": [
  {
   "cell_type": "code",
   "execution_count": 1,
   "metadata": {},
   "outputs": [],
   "source": [
    "import os\n",
    "import time\n",
    "import json\n",
    "import argparse\n",
    "from typing import List, Dict\n",
    "\n",
    "from tqdm import tqdm\n",
    "import tensorflow as tf\n",
    "\n",
    "from constants import *\n",
    "from serializable import *\n",
    "from argtypes import *\n",
    "from logger import *\n",
    "from utils import *\n",
    "from tensorflow_utils import *"
   ]
  },
  {
   "cell_type": "code",
   "execution_count": 2,
   "metadata": {},
   "outputs": [],
   "source": [
    "char2index: Dict[str, int] = {}"
   ]
  },
  {
   "cell_type": "code",
   "execution_count": 3,
   "metadata": {},
   "outputs": [],
   "source": [
    "def list_datasets(datasets: List[Dataset]):\n",
    "    for idx, ds in enumerate(datasets):\n",
    "        print(f'{idx} - {ds.name}')\n",
    "\n",
    "\n",
    "def process_image_data(image_data, channels: int):\n",
    "    image = tf.image.decode_png(image_data, channels=channels)\n",
    "    image = tf.cast(image, tf.float32)\n",
    "    image = image / 255.0\n",
    "    return image\n",
    "\n",
    "\n",
    "def process_record(record):\n",
    "    # TensorFlow is implemented in C/C++ and Python wrapper is generated\n",
    "    # at building time so typing is nearly non-existence when working\n",
    "    # with TensorFlow.\n",
    "    image_data = record[TFRSerDes.IMAGE_KEY].numpy()\n",
    "    # image_width = record[TFRSerDes.IMAGE_WIDTH_KEY]\n",
    "    # image_height = record[TFRSerDes.IMAGE_HEIGHT_KEY]\n",
    "    image_depth = record[TFRSerDes.IMAGE_DEPTH_KEY].numpy()\n",
    "\n",
    "    # TODO AttributeError: 'Tensor' object has no attribute 'numpy'\n",
    "    # encoded_char: bytes = record[TFRSerDes.CHARACTER_KEY].numpy()\n",
    "    # char = encoded_char.decode(TFRSerDes.ENCODING)\n",
    "\n",
    "    # TODO TensorFlow is building execution graph so external references\n",
    "    # are not allowed.\n",
    "    # We may have to train the model in Jupyter Notebook where most of\n",
    "    # TensorFlow features are executed eagerly.\n",
    "    char = record[TFRSerDes.CHARACTER_KEY].numpy().decode(TFRSerDes.ENCODING)\n",
    "\n",
    "    label = char2index[char]\n",
    "\n",
    "    return process_image_data(image_data, image_depth), label"
   ]
  },
  {
   "cell_type": "code",
   "execution_count": 4,
   "metadata": {},
   "outputs": [
    {
     "data": {
      "text/plain": [
       "['1587195782-hiragana', '1587211071-hiragana', 'hiragana', 'jouyou_kanji']"
      ]
     },
     "execution_count": 4,
     "metadata": {},
     "output_type": "execute_result"
    }
   ],
   "source": [
    "datasets_dir = DATASETS_DIR\n",
    "datasets = []\n",
    "dataset_dirs = os.listdir(datasets_dir)\n",
    "dataset_dirs"
   ]
  },
  {
   "cell_type": "code",
   "execution_count": 5,
   "metadata": {},
   "outputs": [
    {
     "data": {
      "text/plain": [
       "'hiragana'"
      ]
     },
     "execution_count": 5,
     "metadata": {},
     "output_type": "execute_result"
    }
   ],
   "source": [
    "name = dataset_dirs[2]\n",
    "name"
   ]
  },
  {
   "cell_type": "code",
   "execution_count": 6,
   "metadata": {},
   "outputs": [],
   "source": [
    "dataset_dir = os.path.join(datasets_dir, name)\n",
    "\n",
    "metadata_filepath = os.path.join(dataset_dir, METADATA_FILENAME)\n",
    "serialized_dataset_filepath = os.path.join(dataset_dir, SERIALIZED_DATASET_FILENAME)\n",
    "\n",
    "json_obj = json.load(open(\n",
    "    metadata_filepath,\n",
    "    mode='r',\n",
    "    encoding='utf-8',\n",
    "))\n",
    "\n",
    "metadata = DatasetMetadata.parse_obj(json_obj)\n",
    "\n",
    "dataset = Dataset(\n",
    "    name=name,\n",
    "    path=dataset_dir,\n",
    "    metadata_filepath=metadata_filepath,\n",
    "    serialized_dataset_filepath=serialized_dataset_filepath,\n",
    "    metadata=metadata,\n",
    ")"
   ]
  },
  {
   "cell_type": "code",
   "execution_count": 7,
   "metadata": {},
   "outputs": [],
   "source": [
    "ds = dataset\n",
    "optimizer = 'adam'\n",
    "loss = 'sparse_categorial_crossentropy'\n",
    "epochs = 10"
   ]
  },
  {
   "cell_type": "code",
   "execution_count": 8,
   "metadata": {
    "scrolled": true
   },
   "outputs": [
    {
     "data": {
      "text/plain": [
       "{'あ': 0,\n",
       " 'い': 1,\n",
       " 'う': 2,\n",
       " 'え': 3,\n",
       " 'お': 4,\n",
       " 'か': 5,\n",
       " 'き': 6,\n",
       " 'く': 7,\n",
       " 'け': 8,\n",
       " 'こ': 9,\n",
       " 'さ': 10,\n",
       " 'し': 11,\n",
       " 'す': 12,\n",
       " 'せ': 13,\n",
       " 'そ': 14,\n",
       " 'た': 15,\n",
       " 'ち': 16,\n",
       " 'つ': 17,\n",
       " 'て': 18,\n",
       " 'と': 19,\n",
       " 'な': 20,\n",
       " 'に': 21,\n",
       " 'ぬ': 22,\n",
       " 'ね': 23,\n",
       " 'の': 24,\n",
       " 'ま': 25,\n",
       " 'み': 26,\n",
       " 'む': 27,\n",
       " 'め': 28,\n",
       " 'も': 29,\n",
       " 'は': 30,\n",
       " 'ひ': 31,\n",
       " 'ふ': 32,\n",
       " 'へ': 33,\n",
       " 'ほ': 34,\n",
       " 'や': 35,\n",
       " 'ゆ': 36,\n",
       " 'よ': 37,\n",
       " 'ら': 38,\n",
       " 'り': 39,\n",
       " 'る': 40,\n",
       " 'れ': 41,\n",
       " 'ろ': 42,\n",
       " 'わ': 43,\n",
       " 'ん': 44}"
      ]
     },
     "execution_count": 8,
     "metadata": {},
     "output_type": "execute_result"
    }
   ],
   "source": [
    "char2index = {}\n",
    "for i in range(len(ds.metadata.labels)):\n",
    "    char2index[ds.metadata.labels[i]] = i\n",
    "char2index"
   ]
  },
  {
   "cell_type": "code",
   "execution_count": 9,
   "metadata": {},
   "outputs": [
    {
     "data": {
      "text/plain": [
       "'datasets\\\\hiragana\\\\inspected-dataset.tfrecord'"
      ]
     },
     "execution_count": 9,
     "metadata": {},
     "output_type": "execute_result"
    }
   ],
   "source": [
    "dataset_filepath = os.path.join(ds.path, INSPECTED_DATASET_FILENAME)\n",
    "if not os.path.exists(dataset_filepath):\n",
    "    warn(f'Cannot find inspected dataset!')\n",
    "dataset_filepath"
   ]
  },
  {
   "cell_type": "code",
   "execution_count": 10,
   "metadata": {},
   "outputs": [
    {
     "data": {
      "text/plain": [
       "<TFRecordDatasetV2 shapes: (), types: tf.string>"
      ]
     },
     "execution_count": 10,
     "metadata": {},
     "output_type": "execute_result"
    }
   ],
   "source": [
    "raw_dataset = tf.data.TFRecordDataset(dataset_filepath)\n",
    "raw_dataset"
   ]
  },
  {
   "cell_type": "code",
   "execution_count": 11,
   "metadata": {},
   "outputs": [
    {
     "data": {
      "text/plain": [
       "<MapDataset shapes: {CHARACTER: (), DEPTH: (), DESCRIPTION: (), FONT_NAME: (), FONT_SIZE: (), HASH: (), HEIGHT: (), PNG_IMAGE: (), WIDTH: ()}, types: {CHARACTER: tf.string, DEPTH: tf.int64, DESCRIPTION: tf.string, FONT_NAME: tf.string, FONT_SIZE: tf.int64, HASH: tf.string, HEIGHT: tf.int64, PNG_IMAGE: tf.string, WIDTH: tf.int64}>"
      ]
     },
     "execution_count": 11,
     "metadata": {},
     "output_type": "execute_result"
    }
   ],
   "source": [
    "train_dataset = raw_dataset.map(TFRSerDes.read_record)\n",
    "train_dataset"
   ]
  },
  {
   "cell_type": "code",
   "execution_count": 12,
   "metadata": {},
   "outputs": [],
   "source": [
    "# for record in train_dataset:\n",
    "#     break"
   ]
  },
  {
   "cell_type": "code",
   "execution_count": 13,
   "metadata": {},
   "outputs": [],
   "source": [
    "# record[TFRSerDes.IMAGE_KEY]"
   ]
  },
  {
   "cell_type": "code",
   "execution_count": 14,
   "metadata": {},
   "outputs": [
    {
     "data": {
      "text/plain": [
       "<map at 0x1f5bc6dfe88>"
      ]
     },
     "execution_count": 14,
     "metadata": {},
     "output_type": "execute_result"
    }
   ],
   "source": [
    "train_dataset = map(process_record, train_dataset)\n",
    "train_dataset"
   ]
  },
  {
   "cell_type": "code",
   "execution_count": 15,
   "metadata": {},
   "outputs": [],
   "source": [
    "train_dataset = list(train_dataset)"
   ]
  },
  {
   "cell_type": "code",
   "execution_count": 16,
   "metadata": {},
   "outputs": [
    {
     "data": {
      "text/plain": [
       "2070"
      ]
     },
     "execution_count": 16,
     "metadata": {},
     "output_type": "execute_result"
    }
   ],
   "source": [
    "len(train_dataset)"
   ]
  },
  {
   "cell_type": "code",
   "execution_count": 18,
   "metadata": {
    "scrolled": true
   },
   "outputs": [
    {
     "data": {
      "text/plain": [
       "(<tf.Tensor: shape=(64, 64, 1), dtype=float32, numpy=\n",
       " array([[[0.],\n",
       "         [0.],\n",
       "         [0.],\n",
       "         ...,\n",
       "         [0.],\n",
       "         [0.],\n",
       "         [0.]],\n",
       " \n",
       "        [[0.],\n",
       "         [0.],\n",
       "         [0.],\n",
       "         ...,\n",
       "         [0.],\n",
       "         [0.],\n",
       "         [0.]],\n",
       " \n",
       "        [[0.],\n",
       "         [0.],\n",
       "         [0.],\n",
       "         ...,\n",
       "         [0.],\n",
       "         [0.],\n",
       "         [0.]],\n",
       " \n",
       "        ...,\n",
       " \n",
       "        [[0.],\n",
       "         [0.],\n",
       "         [0.],\n",
       "         ...,\n",
       "         [0.],\n",
       "         [0.],\n",
       "         [0.]],\n",
       " \n",
       "        [[0.],\n",
       "         [0.],\n",
       "         [0.],\n",
       "         ...,\n",
       "         [0.],\n",
       "         [0.],\n",
       "         [0.]],\n",
       " \n",
       "        [[0.],\n",
       "         [0.],\n",
       "         [0.],\n",
       "         ...,\n",
       "         [0.],\n",
       "         [0.],\n",
       "         [0.]]], dtype=float32)>,\n",
       " 0)"
      ]
     },
     "execution_count": 18,
     "metadata": {},
     "output_type": "execute_result"
    }
   ],
   "source": [
    "record = train_dataset[0]\n",
    "record"
   ]
  },
  {
   "cell_type": "code",
   "execution_count": 19,
   "metadata": {},
   "outputs": [
    {
     "data": {
      "text/plain": [
       "2"
      ]
     },
     "execution_count": 19,
     "metadata": {},
     "output_type": "execute_result"
    }
   ],
   "source": [
    "len(record)"
   ]
  },
  {
   "cell_type": "code",
   "execution_count": 20,
   "metadata": {},
   "outputs": [
    {
     "data": {
      "text/plain": [
       "0"
      ]
     },
     "execution_count": 20,
     "metadata": {},
     "output_type": "execute_result"
    }
   ],
   "source": [
    "record[1]"
   ]
  },
  {
   "cell_type": "code",
   "execution_count": 22,
   "metadata": {},
   "outputs": [],
   "source": [
    "import numpy as np\n",
    "import matplotlib.pyplot as plt\n",
    "import cv2\n",
    "import PIL"
   ]
  },
  {
   "cell_type": "code",
   "execution_count": 27,
   "metadata": {},
   "outputs": [],
   "source": [
    "num_samples = 100\n",
    "samples = []\n",
    "width = 64\n",
    "height = 64\n",
    "\n",
    "for i in range(num_samples):\n",
    "    sample = np.random.randint(low=0, high=255+1, size=(height, width))\n",
    "    sample = sample.astype(np.uint8)\n",
    "    samples.append(sample)"
   ]
  },
  {
   "cell_type": "code",
   "execution_count": 28,
   "metadata": {},
   "outputs": [
    {
     "data": {
      "text/plain": [
       "array([[  2, 191, 109, ...,  54, 160,  13],\n",
       "       [ 27, 162, 198, ...,  63,  34, 159],\n",
       "       [ 27, 125, 103, ..., 249,  53, 204],\n",
       "       ...,\n",
       "       [217, 228,  38, ..., 194, 238,  52],\n",
       "       [250,  20, 107, ...,  63, 142, 127],\n",
       "       [201, 195,  56, ..., 145, 172,  30]], dtype=uint8)"
      ]
     },
     "execution_count": 28,
     "metadata": {},
     "output_type": "execute_result"
    }
   ],
   "source": [
    "sample"
   ]
  },
  {
   "cell_type": "code",
   "execution_count": 29,
   "metadata": {},
   "outputs": [
    {
     "data": {
      "text/plain": [
       "dtype('uint8')"
      ]
     },
     "execution_count": 29,
     "metadata": {},
     "output_type": "execute_result"
    }
   ],
   "source": [
    "sample.dtype"
   ]
  },
  {
   "cell_type": "code",
   "execution_count": 30,
   "metadata": {},
   "outputs": [
    {
     "data": {
      "text/plain": [
       "(64, 64)"
      ]
     },
     "execution_count": 30,
     "metadata": {},
     "output_type": "execute_result"
    }
   ],
   "source": [
    "sample.shape"
   ]
  },
  {
   "cell_type": "code",
   "execution_count": 33,
   "metadata": {},
   "outputs": [],
   "source": [
    "import io\n",
    "from tqdm import tqdm"
   ]
  },
  {
   "cell_type": "code",
   "execution_count": 34,
   "metadata": {},
   "outputs": [
    {
     "name": "stderr",
     "output_type": "stream",
     "text": [
      "100%|████████████████████████████████████████████████████████████████████████████| 100/100 [00:00<00:00, 216.49it/s]\n"
     ]
    }
   ],
   "source": [
    "encoded_samples = []\n",
    "\n",
    "for sample in tqdm(samples):\n",
    "    # https://pillow.readthedocs.io/en/3.1.x/handbook/concepts.html#concept-modes\n",
    "    # L for grayscale\n",
    "    pil_image = PIL.Image.fromarray(sample, mode='L')\n",
    "    bs = io.BytesIO()\n",
    "    pil_image.save(bs, format='PNG')\n",
    "    encoded_image = bs.getvalue()\n",
    "    encoded_samples.append(encoded_image)"
   ]
  },
  {
   "cell_type": "code",
   "execution_count": 35,
   "metadata": {},
   "outputs": [
    {
     "data": {
      "text/plain": [
       "4228"
      ]
     },
     "execution_count": 35,
     "metadata": {},
     "output_type": "execute_result"
    }
   ],
   "source": [
    "len(encoded_image)"
   ]
  },
  {
   "cell_type": "code",
   "execution_count": 41,
   "metadata": {},
   "outputs": [],
   "source": [
    "num_tests = 100_000"
   ]
  },
  {
   "cell_type": "markdown",
   "metadata": {},
   "source": [
    "# Decode PNG with OpenCV"
   ]
  },
  {
   "cell_type": "code",
   "execution_count": 42,
   "metadata": {},
   "outputs": [
    {
     "name": "stderr",
     "output_type": "stream",
     "text": [
      "100%|████████████████████████████████████████████████████████████████████| 100000/100000 [00:03<00:00, 29319.35it/s]\n"
     ]
    }
   ],
   "source": [
    "for i in tqdm(range(num_tests)):\n",
    "    idx = i % len(encoded_samples)\n",
    "    encoded_sample = encoded_samples[idx]\n",
    "    buf = np.frombuffer(encoded_sample, dtype=np.uint8)\n",
    "    image = cv2.imdecode(buf, cv2.IMREAD_UNCHANGED)"
   ]
  },
  {
   "cell_type": "code",
   "execution_count": 45,
   "metadata": {},
   "outputs": [
    {
     "data": {
      "text/plain": [
       "(64, 64)"
      ]
     },
     "execution_count": 45,
     "metadata": {},
     "output_type": "execute_result"
    }
   ],
   "source": [
    "image.shape"
   ]
  },
  {
   "cell_type": "code",
   "execution_count": 46,
   "metadata": {},
   "outputs": [
    {
     "data": {
      "text/plain": [
       "dtype('uint8')"
      ]
     },
     "execution_count": 46,
     "metadata": {},
     "output_type": "execute_result"
    }
   ],
   "source": [
    "image.dtype"
   ]
  },
  {
   "cell_type": "code",
   "execution_count": 44,
   "metadata": {},
   "outputs": [
    {
     "data": {
      "text/plain": [
       "<matplotlib.image.AxesImage at 0x1f5c01cf948>"
      ]
     },
     "execution_count": 44,
     "metadata": {},
     "output_type": "execute_result"
    },
    {
     "data": {
      "image/png": "[encoded data removed]",
      "text/plain": [
       "<Figure size 432x288 with 1 Axes>"
      ]
     },
     "metadata": {
      "needs_background": "light"
     },
     "output_type": "display_data"
    }
   ],
   "source": [
    "plt.imshow(image)"
   ]
  },
  {
   "cell_type": "markdown",
   "metadata": {},
   "source": [
    "# Decode PNG with pillow"
   ]
  },
  {
   "cell_type": "code",
   "execution_count": 48,
   "metadata": {},
   "outputs": [
    {
     "name": "stderr",
     "output_type": "stream",
     "text": [
      "100%|█████████████████████████████████████████████████████████████████████| 100000/100000 [00:10<00:00, 9799.94it/s]\n"
     ]
    }
   ],
   "source": [
    "for i in tqdm(range(num_tests)):\n",
    "    idx = i % len(encoded_samples)\n",
    "    encoded_sample = encoded_samples[idx]\n",
    "    stream = io.BytesIO(encoded_sample)\n",
    "    pil_image = PIL.Image.open(stream)\n",
    "    image = np.array(pil_image, dtype=np.uint8)"
   ]
  },
  {
   "cell_type": "code",
   "execution_count": 49,
   "metadata": {},
   "outputs": [
    {
     "data": {
      "text/plain": [
       "(64, 64)"
      ]
     },
     "execution_count": 49,
     "metadata": {},
     "output_type": "execute_result"
    }
   ],
   "source": [
    "image.shape"
   ]
  },
  {
   "cell_type": "code",
   "execution_count": 50,
   "metadata": {},
   "outputs": [
    {
     "data": {
      "text/plain": [
       "dtype('uint8')"
      ]
     },
     "execution_count": 50,
     "metadata": {},
     "output_type": "execute_result"
    }
   ],
   "source": [
    "image.dtype"
   ]
  },
  {
   "cell_type": "code",
   "execution_count": 51,
   "metadata": {},
   "outputs": [
    {
     "data": {
      "text/plain": [
       "<matplotlib.image.AxesImage at 0x1f5c0812908>"
      ]
     },
     "execution_count": 51,
     "metadata": {},
     "output_type": "execute_result"
    },
    {
     "data": {
      "image/png": "[encoded data removed]",
      "text/plain": [
       "<Figure size 432x288 with 1 Axes>"
      ]
     },
     "metadata": {
      "needs_background": "light"
     },
     "output_type": "display_data"
    }
   ],
   "source": [
    "plt.imshow(image)"
   ]
  },
  {
   "cell_type": "code",
   "execution_count": 52,
   "metadata": {},
   "outputs": [
    {
     "data": {
      "text/plain": [
       "(64, 64, 1)"
      ]
     },
     "execution_count": 52,
     "metadata": {},
     "output_type": "execute_result"
    }
   ],
   "source": [
    "_image = image.reshape([height, width, 1])\n",
    "_image.shape"
   ]
  },
  {
   "cell_type": "code",
   "execution_count": 53,
   "metadata": {},
   "outputs": [
    {
     "data": {
      "text/plain": [
       "<matplotlib.image.AxesImage at 0x1f5c1122688>"
      ]
     },
     "execution_count": 53,
     "metadata": {},
     "output_type": "execute_result"
    },
    {
     "data": {
      "image/png": "[encoded data removed]",
      "text/plain": [
       "<Figure size 432x288 with 1 Axes>"
      ]
     },
     "metadata": {
      "needs_background": "light"
     },
     "output_type": "display_data"
    }
   ],
   "source": [
    "plt.imshow(_image[:,:,0])"
   ]
  }
 ],
 "metadata": {
  "kernelspec": {
   "display_name": "Python 3",
   "language": "python",
   "name": "python3"
  },
  "language_info": {
   "codemirror_mode": {
    "name": "ipython",
    "version": 3
   },
   "file_extension": ".py",
   "mimetype": "text/x-python",
   "name": "python",
   "nbconvert_exporter": "python",
   "pygments_lexer": "ipython3",
   "version": "3.7.6"
  }
 },
 "nbformat": 4,
 "nbformat_minor": 4
}
